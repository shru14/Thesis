{
 "cells": [
  {
   "cell_type": "code",
   "execution_count": null,
   "id": "c9ca66e2-762e-49ac-adb3-124da9d79402",
   "metadata": {},
   "outputs": [
    {
     "name": "stdout",
     "output_type": "stream",
     "text": [
      "Fetching data...\n"
     ]
    },
    {
     "name": "stderr",
     "output_type": "stream",
     "text": [
      "Fetching Results: 0batch [00:00, ?batch/s]"
     ]
    },
    {
     "name": "stdout",
     "output_type": "stream",
     "text": [
      "Fetching: https://www.courtlistener.com/api/rest/v4/search/?q=%22Cybersecurity%22%20OR%20%22Data%20Privacy%22%20OR%20%22Data%20Security%22%20OR%20%22GDPR%22%20OR%20%22Data%20Protection%22%20OR%20%22Blockchain%22&type=r&order_by=dateFiled%20desc&filed_after=01%2F01%2F2024&filed_before=01%2F01%2F2025&court=scotus%20ca1%20ca2%20ca3%20ca4%20ca5%20ca6%20ca7%20ca8%20ca9%20ca10%20ca11%20cadc%20cafc%20dcd%20almd%20alnd%20alsd%20akd%20azd%20ared%20arwd%20cacd%20caed%20cand%20casd%20cod%20ctd%20ded%20flmd%20flnd%20flsd%20gamd%20gand%20gasd%20hid%20idd%20ilcd%20ilnd%20ilsd%20innd%20insd%20iand%20iasd%20ksd%20kyed%20kywd%20laed%20lamd%20lawd%20med%20mdd%20mad%20mied%20miwd%20mnd%20msnd%20mssd%20moed%20mowd%20mtd%20ned%20nvd%20nhd%20njd%20nmd%20nyed%20nynd%20nysd%20nywd%20nced%20ncmd%20ncwd%20ndd%20ohnd%20ohsd%20oked%20oknd%20okwd%20ord%20paed%20pamd%20pawd%20rid%20scd%20sdd%20tned%20tnmd%20tnwd%20txed%20txnd%20txsd%20txwd%20utd%20vtd%20vaed%20vawd%20waed%20wawd%20wvnd%20wvsd%20wied%20wiwd%20wyd%20gud%20nmid%20prd%20vid\n"
     ]
    },
    {
     "name": "stderr",
     "output_type": "stream",
     "text": [
      "Fetching Results: 20batch [00:04,  4.72batch/s, Fetched=20]"
     ]
    },
    {
     "name": "stdout",
     "output_type": "stream",
     "text": [
      "Estimated Time Remaining: 8.48 seconds\n",
      "Fetching: https://www.courtlistener.com/api/rest/v4/search/?court=scotus+ca1+ca2+ca3+ca4+ca5+ca6+ca7+ca8+ca9+ca10+ca11+cadc+cafc+dcd+almd+alnd+alsd+akd+azd+ared+arwd+cacd+caed+cand+casd+cod+ctd+ded+flmd+flnd+flsd+gamd+gand+gasd+hid+idd+ilcd+ilnd+ilsd+innd+insd+iand+iasd+ksd+kyed+kywd+laed+lamd+lawd+med+mdd+mad+mied+miwd+mnd+msnd+mssd+moed+mowd+mtd+ned+nvd+nhd+njd+nmd+nyed+nynd+nysd+nywd+nced+ncmd+ncwd+ndd+ohnd+ohsd+oked+oknd+okwd+ord+paed+pamd+pawd+rid+scd+sdd+tned+tnmd+tnwd+txed+txnd+txsd+txwd+utd+vtd+vaed+vawd+waed+wawd+wvnd+wvsd+wied+wiwd+wyd+gud+nmid+prd+vid&cursor=cz0xMzQxMTI2NzAwMDAwMC4wJnM9Njk0OTg4NDUmdD1yJmQ9MjAyNS0wMS0yOA%3D%3D&filed_after=01%2F01%2F2024&filed_before=01%2F01%2F2025&order_by=dateFiled+desc&q=%22Cybersecurity%22+OR+%22Data+Privacy%22+OR+%22Data+Security%22+OR+%22GDPR%22+OR+%22Data+Protection%22+OR+%22Blockchain%22&type=r\n"
     ]
    },
    {
     "name": "stderr",
     "output_type": "stream",
     "text": [
      "Fetching Results: 40batch [00:07,  5.34batch/s, Fetched=40]"
     ]
    },
    {
     "name": "stdout",
     "output_type": "stream",
     "text": [
      "Estimated Time Remaining: 7.64 seconds\n",
      "Fetching: https://www.courtlistener.com/api/rest/v4/search/?court=scotus+ca1+ca2+ca3+ca4+ca5+ca6+ca7+ca8+ca9+ca10+ca11+cadc+cafc+dcd+almd+alnd+alsd+akd+azd+ared+arwd+cacd+caed+cand+casd+cod+ctd+ded+flmd+flnd+flsd+gamd+gand+gasd+hid+idd+ilcd+ilnd+ilsd+innd+insd+iand+iasd+ksd+kyed+kywd+laed+lamd+lawd+med+mdd+mad+mied+miwd+mnd+msnd+mssd+moed+mowd+mtd+ned+nvd+nhd+njd+nmd+nyed+nynd+nysd+nywd+nced+ncmd+ncwd+ndd+ohnd+ohsd+oked+oknd+okwd+ord+paed+pamd+pawd+rid+scd+sdd+tned+tnmd+tnwd+txed+txnd+txsd+txwd+utd+vtd+vaed+vawd+waed+wawd+wvnd+wvsd+wied+wiwd+wyd+gud+nmid+prd+vid&cursor=cz0xMzQxMTAwODAwMDAwMC4wJnM9Njk0OTE3MzYmdD1yJmQ9MjAyNS0wMS0yOA%3D%3D&filed_after=01%2F01%2F2024&filed_before=01%2F01%2F2025&order_by=dateFiled+desc&q=%22Cybersecurity%22+OR+%22Data+Privacy%22+OR+%22Data+Security%22+OR+%22GDPR%22+OR+%22Data+Protection%22+OR+%22Blockchain%22&type=r\n"
     ]
    },
    {
     "name": "stderr",
     "output_type": "stream",
     "text": [
      "Fetching Results: 60batch [00:13,  4.28batch/s, Fetched=60]"
     ]
    },
    {
     "name": "stdout",
     "output_type": "stream",
     "text": [
      "Estimated Time Remaining: 8.94 seconds\n",
      "Fetching: https://www.courtlistener.com/api/rest/v4/search/?court=scotus+ca1+ca2+ca3+ca4+ca5+ca6+ca7+ca8+ca9+ca10+ca11+cadc+cafc+dcd+almd+alnd+alsd+akd+azd+ared+arwd+cacd+caed+cand+casd+cod+ctd+ded+flmd+flnd+flsd+gamd+gand+gasd+hid+idd+ilcd+ilnd+ilsd+innd+insd+iand+iasd+ksd+kyed+kywd+laed+lamd+lawd+med+mdd+mad+mied+miwd+mnd+msnd+mssd+moed+mowd+mtd+ned+nvd+nhd+njd+nmd+nyed+nynd+nysd+nywd+nced+ncmd+ncwd+ndd+ohnd+ohsd+oked+oknd+okwd+ord+paed+pamd+pawd+rid+scd+sdd+tned+tnmd+tnwd+txed+txnd+txsd+txwd+utd+vtd+vaed+vawd+waed+wawd+wvnd+wvsd+wied+wiwd+wyd+gud+nmid+prd+vid&cursor=cz0xMzQxMDU3NjAwMDAwMC4wJnM9Njk0ODA5MDUmdD1yJmQ9MjAyNS0wMS0yOA%3D%3D&filed_after=01%2F01%2F2024&filed_before=01%2F01%2F2025&order_by=dateFiled+desc&q=%22Cybersecurity%22+OR+%22Data+Privacy%22+OR+%22Data+Security%22+OR+%22GDPR%22+OR+%22Data+Protection%22+OR+%22Blockchain%22&type=r\n"
     ]
    },
    {
     "name": "stderr",
     "output_type": "stream",
     "text": [
      "Fetching Results: 80batch [00:17,  4.43batch/s, Fetched=80]"
     ]
    },
    {
     "name": "stdout",
     "output_type": "stream",
     "text": [
      "Estimated Time Remaining: 8.84 seconds\n",
      "Fetching: https://www.courtlistener.com/api/rest/v4/search/?court=scotus+ca1+ca2+ca3+ca4+ca5+ca6+ca7+ca8+ca9+ca10+ca11+cadc+cafc+dcd+almd+alnd+alsd+akd+azd+ared+arwd+cacd+caed+cand+casd+cod+ctd+ded+flmd+flnd+flsd+gamd+gand+gasd+hid+idd+ilcd+ilnd+ilsd+innd+insd+iand+iasd+ksd+kyed+kywd+laed+lamd+lawd+med+mdd+mad+mied+miwd+mnd+msnd+mssd+moed+mowd+mtd+ned+nvd+nhd+njd+nmd+nyed+nynd+nysd+nywd+nced+ncmd+ncwd+ndd+ohnd+ohsd+oked+oknd+okwd+ord+paed+pamd+pawd+rid+scd+sdd+tned+tnmd+tnwd+txed+txnd+txsd+txwd+utd+vtd+vaed+vawd+waed+wawd+wvnd+wvsd+wied+wiwd+wyd+gud+nmid+prd+vid&cursor=cz0xMzQxMDE0NDAwMDAwMC4wJnM9Njk0Njk1MTImdD1yJmQ9MjAyNS0wMS0yOA%3D%3D&filed_after=01%2F01%2F2024&filed_before=01%2F01%2F2025&order_by=dateFiled+desc&q=%22Cybersecurity%22+OR+%22Data+Privacy%22+OR+%22Data+Security%22+OR+%22GDPR%22+OR+%22Data+Protection%22+OR+%22Blockchain%22&type=r\n"
     ]
    },
    {
     "name": "stderr",
     "output_type": "stream",
     "text": [
      "Fetching Results: 100batch [00:22,  4.43batch/s, Fetched=100]"
     ]
    },
    {
     "name": "stdout",
     "output_type": "stream",
     "text": [
      "Estimated Time Remaining: 8.88 seconds\n",
      "Fetching: https://www.courtlistener.com/api/rest/v4/search/?court=scotus+ca1+ca2+ca3+ca4+ca5+ca6+ca7+ca8+ca9+ca10+ca11+cadc+cafc+dcd+almd+alnd+alsd+akd+azd+ared+arwd+cacd+caed+cand+casd+cod+ctd+ded+flmd+flnd+flsd+gamd+gand+gasd+hid+idd+ilcd+ilnd+ilsd+innd+insd+iand+iasd+ksd+kyed+kywd+laed+lamd+lawd+med+mdd+mad+mied+miwd+mnd+msnd+mssd+moed+mowd+mtd+ned+nvd+nhd+njd+nmd+nyed+nynd+nysd+nywd+nced+ncmd+ncwd+ndd+ohnd+ohsd+oked+oknd+okwd+ord+paed+pamd+pawd+rid+scd+sdd+tned+tnmd+tnwd+txed+txnd+txsd+txwd+utd+vtd+vaed+vawd+waed+wawd+wvnd+wvsd+wied+wiwd+wyd+gud+nmid+prd+vid&cursor=cz0xMzQwOTk3MTAwMDAwMC4wJnM9Njk1MTQyOTgmdD1yJmQ9MjAyNS0wMS0yOA%3D%3D&filed_after=01%2F01%2F2024&filed_before=01%2F01%2F2025&order_by=dateFiled+desc&q=%22Cybersecurity%22+OR+%22Data+Privacy%22+OR+%22Data+Security%22+OR+%22GDPR%22+OR+%22Data+Protection%22+OR+%22Blockchain%22&type=r\n"
     ]
    },
    {
     "name": "stderr",
     "output_type": "stream",
     "text": [
      "Fetching Results: 120batch [00:26,  4.47batch/s, Fetched=120]"
     ]
    },
    {
     "name": "stdout",
     "output_type": "stream",
     "text": [
      "Estimated Time Remaining: 8.87 seconds\n",
      "Fetching: https://www.courtlistener.com/api/rest/v4/search/?court=scotus+ca1+ca2+ca3+ca4+ca5+ca6+ca7+ca8+ca9+ca10+ca11+cadc+cafc+dcd+almd+alnd+alsd+akd+azd+ared+arwd+cacd+caed+cand+casd+cod+ctd+ded+flmd+flnd+flsd+gamd+gand+gasd+hid+idd+ilcd+ilnd+ilsd+innd+insd+iand+iasd+ksd+kyed+kywd+laed+lamd+lawd+med+mdd+mad+mied+miwd+mnd+msnd+mssd+moed+mowd+mtd+ned+nvd+nhd+njd+nmd+nyed+nynd+nysd+nywd+nced+ncmd+ncwd+ndd+ohnd+ohsd+oked+oknd+okwd+ord+paed+pamd+pawd+rid+scd+sdd+tned+tnmd+tnwd+txed+txnd+txsd+txwd+utd+vtd+vaed+vawd+waed+wawd+wvnd+wvsd+wied+wiwd+wyd+gud+nmid+prd+vid&cursor=cz0xMzQwOTc5ODAwMDAwMC4wJnM9Njk0NDg0MjgmdD1yJmQ9MjAyNS0wMS0yOA%3D%3D&filed_after=01%2F01%2F2024&filed_before=01%2F01%2F2025&order_by=dateFiled+desc&q=%22Cybersecurity%22+OR+%22Data+Privacy%22+OR+%22Data+Security%22+OR+%22GDPR%22+OR+%22Data+Protection%22+OR+%22Blockchain%22&type=r\n"
     ]
    },
    {
     "name": "stderr",
     "output_type": "stream",
     "text": [
      "Fetching Results: 140batch [00:28,  5.28batch/s, Fetched=140]"
     ]
    },
    {
     "name": "stdout",
     "output_type": "stream",
     "text": [
      "Estimated Time Remaining: 8.28 seconds\n",
      "Fetching: https://www.courtlistener.com/api/rest/v4/search/?court=scotus+ca1+ca2+ca3+ca4+ca5+ca6+ca7+ca8+ca9+ca10+ca11+cadc+cafc+dcd+almd+alnd+alsd+akd+azd+ared+arwd+cacd+caed+cand+casd+cod+ctd+ded+flmd+flnd+flsd+gamd+gand+gasd+hid+idd+ilcd+ilnd+ilsd+innd+insd+iand+iasd+ksd+kyed+kywd+laed+lamd+lawd+med+mdd+mad+mied+miwd+mnd+msnd+mssd+moed+mowd+mtd+ned+nvd+nhd+njd+nmd+nyed+nynd+nysd+nywd+nced+ncmd+ncwd+ndd+ohnd+ohsd+oked+oknd+okwd+ord+paed+pamd+pawd+rid+scd+sdd+tned+tnmd+tnwd+txed+txnd+txsd+txwd+utd+vtd+vaed+vawd+waed+wawd+wvnd+wvsd+wied+wiwd+wyd+gud+nmid+prd+vid&cursor=cz0xMzQwOTI4MDAwMDAwMC4wJnM9Njk0MzM2MDQmdD1yJmQ9MjAyNS0wMS0yOA%3D%3D&filed_after=01%2F01%2F2024&filed_before=01%2F01%2F2025&order_by=dateFiled+desc&q=%22Cybersecurity%22+OR+%22Data+Privacy%22+OR+%22Data+Security%22+OR+%22GDPR%22+OR+%22Data+Protection%22+OR+%22Blockchain%22&type=r\n"
     ]
    },
    {
     "name": "stderr",
     "output_type": "stream",
     "text": [
      "Fetching Results: 160batch [00:31,  5.90batch/s, Fetched=160]"
     ]
    },
    {
     "name": "stdout",
     "output_type": "stream",
     "text": [
      "Estimated Time Remaining: 7.88 seconds\n",
      "Fetching: https://www.courtlistener.com/api/rest/v4/search/?court=scotus+ca1+ca2+ca3+ca4+ca5+ca6+ca7+ca8+ca9+ca10+ca11+cadc+cafc+dcd+almd+alnd+alsd+akd+azd+ared+arwd+cacd+caed+cand+casd+cod+ctd+ded+flmd+flnd+flsd+gamd+gand+gasd+hid+idd+ilcd+ilnd+ilsd+innd+insd+iand+iasd+ksd+kyed+kywd+laed+lamd+lawd+med+mdd+mad+mied+miwd+mnd+msnd+mssd+moed+mowd+mtd+ned+nvd+nhd+njd+nmd+nyed+nynd+nysd+nywd+nced+ncmd+ncwd+ndd+ohnd+ohsd+oked+oknd+okwd+ord+paed+pamd+pawd+rid+scd+sdd+tned+tnmd+tnwd+txed+txnd+txsd+txwd+utd+vtd+vaed+vawd+waed+wawd+wvnd+wvsd+wied+wiwd+wyd+gud+nmid+prd+vid&cursor=cz0xMzQwODc2MjAwMDAwMC4wJnM9Njk0MjA3MTcmdD1yJmQ9MjAyNS0wMS0yOA%3D%3D&filed_after=01%2F01%2F2024&filed_before=01%2F01%2F2025&order_by=dateFiled+desc&q=%22Cybersecurity%22+OR+%22Data+Privacy%22+OR+%22Data+Security%22+OR+%22GDPR%22+OR+%22Data+Protection%22+OR+%22Blockchain%22&type=r\n"
     ]
    },
    {
     "name": "stderr",
     "output_type": "stream",
     "text": [
      "Fetching Results: 180batch [00:33,  6.54batch/s, Fetched=180]"
     ]
    },
    {
     "name": "stdout",
     "output_type": "stream",
     "text": [
      "Estimated Time Remaining: 7.52 seconds\n",
      "Fetching: https://www.courtlistener.com/api/rest/v4/search/?court=scotus+ca1+ca2+ca3+ca4+ca5+ca6+ca7+ca8+ca9+ca10+ca11+cadc+cafc+dcd+almd+alnd+alsd+akd+azd+ared+arwd+cacd+caed+cand+casd+cod+ctd+ded+flmd+flnd+flsd+gamd+gand+gasd+hid+idd+ilcd+ilnd+ilsd+innd+insd+iand+iasd+ksd+kyed+kywd+laed+lamd+lawd+med+mdd+mad+mied+miwd+mnd+msnd+mssd+moed+mowd+mtd+ned+nvd+nhd+njd+nmd+nyed+nynd+nysd+nywd+nced+ncmd+ncwd+ndd+ohnd+ohsd+oked+oknd+okwd+ord+paed+pamd+pawd+rid+scd+sdd+tned+tnmd+tnwd+txed+txnd+txsd+txwd+utd+vtd+vaed+vawd+waed+wawd+wvnd+wvsd+wied+wiwd+wyd+gud+nmid+prd+vid&cursor=cz0xMzQwODU4OTAwMDAwMC4wJnM9Njk0MTI0MjQmdD1yJmQ9MjAyNS0wMS0yOA%3D%3D&filed_after=01%2F01%2F2024&filed_before=01%2F01%2F2025&order_by=dateFiled+desc&q=%22Cybersecurity%22+OR+%22Data+Privacy%22+OR+%22Data+Security%22+OR+%22GDPR%22+OR+%22Data+Protection%22+OR+%22Blockchain%22&type=r\n"
     ]
    },
    {
     "name": "stderr",
     "output_type": "stream",
     "text": [
      "Fetching Results: 200batch [00:36,  6.75batch/s, Fetched=200]"
     ]
    },
    {
     "name": "stdout",
     "output_type": "stream",
     "text": [
      "Estimated Time Remaining: 7.32 seconds\n",
      "Fetching: https://www.courtlistener.com/api/rest/v4/search/?court=scotus+ca1+ca2+ca3+ca4+ca5+ca6+ca7+ca8+ca9+ca10+ca11+cadc+cafc+dcd+almd+alnd+alsd+akd+azd+ared+arwd+cacd+caed+cand+casd+cod+ctd+ded+flmd+flnd+flsd+gamd+gand+gasd+hid+idd+ilcd+ilnd+ilsd+innd+insd+iand+iasd+ksd+kyed+kywd+laed+lamd+lawd+med+mdd+mad+mied+miwd+mnd+msnd+mssd+moed+mowd+mtd+ned+nvd+nhd+njd+nmd+nyed+nynd+nysd+nywd+nced+ncmd+ncwd+ndd+ohnd+ohsd+oked+oknd+okwd+ord+paed+pamd+pawd+rid+scd+sdd+tned+tnmd+tnwd+txed+txnd+txsd+txwd+utd+vtd+vaed+vawd+waed+wawd+wvnd+wvsd+wied+wiwd+wyd+gud+nmid+prd+vid&cursor=cz0xMzQwODI0MzAwMDAwMC4wJnM9Njk0MDMzNzMmdD1yJmQ9MjAyNS0wMS0yOA%3D%3D&filed_after=01%2F01%2F2024&filed_before=01%2F01%2F2025&order_by=dateFiled+desc&q=%22Cybersecurity%22+OR+%22Data+Privacy%22+OR+%22Data+Security%22+OR+%22GDPR%22+OR+%22Data+Protection%22+OR+%22Blockchain%22&type=r\n"
     ]
    },
    {
     "name": "stderr",
     "output_type": "stream",
     "text": [
      "Fetching Results: 220batch [00:40,  6.32batch/s, Fetched=220]"
     ]
    },
    {
     "name": "stdout",
     "output_type": "stream",
     "text": [
      "Estimated Time Remaining: 7.31 seconds\n",
      "Fetching: https://www.courtlistener.com/api/rest/v4/search/?court=scotus+ca1+ca2+ca3+ca4+ca5+ca6+ca7+ca8+ca9+ca10+ca11+cadc+cafc+dcd+almd+alnd+alsd+akd+azd+ared+arwd+cacd+caed+cand+casd+cod+ctd+ded+flmd+flnd+flsd+gamd+gand+gasd+hid+idd+ilcd+ilnd+ilsd+innd+insd+iand+iasd+ksd+kyed+kywd+laed+lamd+lawd+med+mdd+mad+mied+miwd+mnd+msnd+mssd+moed+mowd+mtd+ned+nvd+nhd+njd+nmd+nyed+nynd+nysd+nywd+nced+ncmd+ncwd+ndd+ohnd+ohsd+oked+oknd+okwd+ord+paed+pamd+pawd+rid+scd+sdd+tned+tnmd+tnwd+txed+txnd+txsd+txwd+utd+vtd+vaed+vawd+waed+wawd+wvnd+wvsd+wied+wiwd+wyd+gud+nmid+prd+vid&cursor=cz0xMzQwNzk4NDAwMDAwMC4wJnM9NjkzODYyMzgmdD1yJmQ9MjAyNS0wMS0yOA%3D%3D&filed_after=01%2F01%2F2024&filed_before=01%2F01%2F2025&order_by=dateFiled+desc&q=%22Cybersecurity%22+OR+%22Data+Privacy%22+OR+%22Data+Security%22+OR+%22GDPR%22+OR+%22Data+Protection%22+OR+%22Blockchain%22&type=r\n"
     ]
    },
    {
     "name": "stderr",
     "output_type": "stream",
     "text": [
      "Fetching Results: 240batch [00:43,  6.37batch/s, Fetched=240]"
     ]
    },
    {
     "name": "stdout",
     "output_type": "stream",
     "text": [
      "Estimated Time Remaining: 7.22 seconds\n",
      "Fetching: https://www.courtlistener.com/api/rest/v4/search/?court=scotus+ca1+ca2+ca3+ca4+ca5+ca6+ca7+ca8+ca9+ca10+ca11+cadc+cafc+dcd+almd+alnd+alsd+akd+azd+ared+arwd+cacd+caed+cand+casd+cod+ctd+ded+flmd+flnd+flsd+gamd+gand+gasd+hid+idd+ilcd+ilnd+ilsd+innd+insd+iand+iasd+ksd+kyed+kywd+laed+lamd+lawd+med+mdd+mad+mied+miwd+mnd+msnd+mssd+moed+mowd+mtd+ned+nvd+nhd+njd+nmd+nyed+nynd+nysd+nywd+nced+ncmd+ncwd+ndd+ohnd+ohsd+oked+oknd+okwd+ord+paed+pamd+pawd+rid+scd+sdd+tned+tnmd+tnwd+txed+txnd+txsd+txwd+utd+vtd+vaed+vawd+waed+wawd+wvnd+wvsd+wied+wiwd+wyd+gud+nmid+prd+vid&cursor=cz0xMzQwNzYzODAwMDAwMC4wJnM9NjkzODgwODkmdD1yJmQ9MjAyNS0wMS0yOA%3D%3D&filed_after=01%2F01%2F2024&filed_before=01%2F01%2F2025&order_by=dateFiled+desc&q=%22Cybersecurity%22+OR+%22Data+Privacy%22+OR+%22Data+Security%22+OR+%22GDPR%22+OR+%22Data+Protection%22+OR+%22Blockchain%22&type=r\n"
     ]
    },
    {
     "name": "stderr",
     "output_type": "stream",
     "text": [
      "Fetching Results: 260batch [00:45,  6.72batch/s, Fetched=260]"
     ]
    },
    {
     "name": "stdout",
     "output_type": "stream",
     "text": [
      "Estimated Time Remaining: 7.06 seconds\n",
      "Fetching: https://www.courtlistener.com/api/rest/v4/search/?court=scotus+ca1+ca2+ca3+ca4+ca5+ca6+ca7+ca8+ca9+ca10+ca11+cadc+cafc+dcd+almd+alnd+alsd+akd+azd+ared+arwd+cacd+caed+cand+casd+cod+ctd+ded+flmd+flnd+flsd+gamd+gand+gasd+hid+idd+ilcd+ilnd+ilsd+innd+insd+iand+iasd+ksd+kyed+kywd+laed+lamd+lawd+med+mdd+mad+mied+miwd+mnd+msnd+mssd+moed+mowd+mtd+ned+nvd+nhd+njd+nmd+nyed+nynd+nysd+nywd+nced+ncmd+ncwd+ndd+ohnd+ohsd+oked+oknd+okwd+ord+paed+pamd+pawd+rid+scd+sdd+tned+tnmd+tnwd+txed+txnd+txsd+txwd+utd+vtd+vaed+vawd+waed+wawd+wvnd+wvsd+wied+wiwd+wyd+gud+nmid+prd+vid&cursor=cz0xMzQwNzQ2NjAwMDAwMC4wJnM9Njk1MzQ5ODQmdD1yJmQ9MjAyNS0wMS0yOA%3D%3D&filed_after=01%2F01%2F2024&filed_before=01%2F01%2F2025&order_by=dateFiled+desc&q=%22Cybersecurity%22+OR+%22Data+Privacy%22+OR+%22Data+Security%22+OR+%22GDPR%22+OR+%22Data+Protection%22+OR+%22Blockchain%22&type=r\n"
     ]
    },
    {
     "name": "stderr",
     "output_type": "stream",
     "text": [
      "Fetching Results: 280batch [00:48,  6.88batch/s, Fetched=280]"
     ]
    },
    {
     "name": "stdout",
     "output_type": "stream",
     "text": [
      "Estimated Time Remaining: 6.95 seconds\n",
      "Fetching: https://www.courtlistener.com/api/rest/v4/search/?court=scotus+ca1+ca2+ca3+ca4+ca5+ca6+ca7+ca8+ca9+ca10+ca11+cadc+cafc+dcd+almd+alnd+alsd+akd+azd+ared+arwd+cacd+caed+cand+casd+cod+ctd+ded+flmd+flnd+flsd+gamd+gand+gasd+hid+idd+ilcd+ilnd+ilsd+innd+insd+iand+iasd+ksd+kyed+kywd+laed+lamd+lawd+med+mdd+mad+mied+miwd+mnd+msnd+mssd+moed+mowd+mtd+ned+nvd+nhd+njd+nmd+nyed+nynd+nysd+nywd+nced+ncmd+ncwd+ndd+ohnd+ohsd+oked+oknd+okwd+ord+paed+pamd+pawd+rid+scd+sdd+tned+tnmd+tnwd+txed+txnd+txsd+txwd+utd+vtd+vaed+vawd+waed+wawd+wvnd+wvsd+wied+wiwd+wyd+gud+nmid+prd+vid&cursor=cz0xMzQwNzAzNDAwMDAwMC4wJnM9NjkzNTQ1NTAmdD1yJmQ9MjAyNS0wMS0yOA%3D%3D&filed_after=01%2F01%2F2024&filed_before=01%2F01%2F2025&order_by=dateFiled+desc&q=%22Cybersecurity%22+OR+%22Data+Privacy%22+OR+%22Data+Security%22+OR+%22GDPR%22+OR+%22Data+Protection%22+OR+%22Blockchain%22&type=r\n"
     ]
    },
    {
     "name": "stderr",
     "output_type": "stream",
     "text": [
      "Fetching Results: 300batch [00:52,  6.51batch/s, Fetched=300]"
     ]
    },
    {
     "name": "stdout",
     "output_type": "stream",
     "text": [
      "Estimated Time Remaining: 6.95 seconds\n",
      "Fetching: https://www.courtlistener.com/api/rest/v4/search/?court=scotus+ca1+ca2+ca3+ca4+ca5+ca6+ca7+ca8+ca9+ca10+ca11+cadc+cafc+dcd+almd+alnd+alsd+akd+azd+ared+arwd+cacd+caed+cand+casd+cod+ctd+ded+flmd+flnd+flsd+gamd+gand+gasd+hid+idd+ilcd+ilnd+ilsd+innd+insd+iand+iasd+ksd+kyed+kywd+laed+lamd+lawd+med+mdd+mad+mied+miwd+mnd+msnd+mssd+moed+mowd+mtd+ned+nvd+nhd+njd+nmd+nyed+nynd+nysd+nywd+nced+ncmd+ncwd+ndd+ohnd+ohsd+oked+oknd+okwd+ord+paed+pamd+pawd+rid+scd+sdd+tned+tnmd+tnwd+txed+txnd+txsd+txwd+utd+vtd+vaed+vawd+waed+wawd+wvnd+wvsd+wied+wiwd+wyd+gud+nmid+prd+vid&cursor=cz0xMzQwNjc3NDAwMDAwMC4wJnM9NjkzNDU4ODgmdD1yJmQ9MjAyNS0wMS0yOA%3D%3D&filed_after=01%2F01%2F2024&filed_before=01%2F01%2F2025&order_by=dateFiled+desc&q=%22Cybersecurity%22+OR+%22Data+Privacy%22+OR+%22Data+Security%22+OR+%22GDPR%22+OR+%22Data+Protection%22+OR+%22Blockchain%22&type=r\n"
     ]
    },
    {
     "name": "stderr",
     "output_type": "stream",
     "text": [
      "Fetching Results: 320batch [00:55,  6.51batch/s, Fetched=320]"
     ]
    },
    {
     "name": "stdout",
     "output_type": "stream",
     "text": [
      "Estimated Time Remaining: 6.90 seconds\n",
      "Fetching: https://www.courtlistener.com/api/rest/v4/search/?court=scotus+ca1+ca2+ca3+ca4+ca5+ca6+ca7+ca8+ca9+ca10+ca11+cadc+cafc+dcd+almd+alnd+alsd+akd+azd+ared+arwd+cacd+caed+cand+casd+cod+ctd+ded+flmd+flnd+flsd+gamd+gand+gasd+hid+idd+ilcd+ilnd+ilsd+innd+insd+iand+iasd+ksd+kyed+kywd+laed+lamd+lawd+med+mdd+mad+mied+miwd+mnd+msnd+mssd+moed+mowd+mtd+ned+nvd+nhd+njd+nmd+nyed+nynd+nysd+nywd+nced+ncmd+ncwd+ndd+ohnd+ohsd+oked+oknd+okwd+ord+paed+pamd+pawd+rid+scd+sdd+tned+tnmd+tnwd+txed+txnd+txsd+txwd+utd+vtd+vaed+vawd+waed+wawd+wvnd+wvsd+wied+wiwd+wyd+gud+nmid+prd+vid&cursor=cz0xMzQwNjQyOTAwMDAwMC4wJnM9NjkzMzM3NzgmdD1yJmQ9MjAyNS0wMS0yOA%3D%3D&filed_after=01%2F01%2F2024&filed_before=01%2F01%2F2025&order_by=dateFiled+desc&q=%22Cybersecurity%22+OR+%22Data+Privacy%22+OR+%22Data+Security%22+OR+%22GDPR%22+OR+%22Data+Protection%22+OR+%22Blockchain%22&type=r\n"
     ]
    },
    {
     "name": "stderr",
     "output_type": "stream",
     "text": [
      "Fetching Results: 340batch [01:01,  4.85batch/s, Fetched=340]"
     ]
    },
    {
     "name": "stdout",
     "output_type": "stream",
     "text": [
      "Estimated Time Remaining: 7.26 seconds\n",
      "Fetching: https://www.courtlistener.com/api/rest/v4/search/?court=scotus+ca1+ca2+ca3+ca4+ca5+ca6+ca7+ca8+ca9+ca10+ca11+cadc+cafc+dcd+almd+alnd+alsd+akd+azd+ared+arwd+cacd+caed+cand+casd+cod+ctd+ded+flmd+flnd+flsd+gamd+gand+gasd+hid+idd+ilcd+ilnd+ilsd+innd+insd+iand+iasd+ksd+kyed+kywd+laed+lamd+lawd+med+mdd+mad+mied+miwd+mnd+msnd+mssd+moed+mowd+mtd+ned+nvd+nhd+njd+nmd+nyed+nynd+nysd+nywd+nced+ncmd+ncwd+ndd+ohnd+ohsd+oked+oknd+okwd+ord+paed+pamd+pawd+rid+scd+sdd+tned+tnmd+tnwd+txed+txnd+txsd+txwd+utd+vtd+vaed+vawd+waed+wawd+wvnd+wvsd+wied+wiwd+wyd+gud+nmid+prd+vid&cursor=cz0xMzQwNjE3MDAwMDAwMC4wJnM9NjkzMzk1NDEmdD1yJmQ9MjAyNS0wMS0yOA%3D%3D&filed_after=01%2F01%2F2024&filed_before=01%2F01%2F2025&order_by=dateFiled+desc&q=%22Cybersecurity%22+OR+%22Data+Privacy%22+OR+%22Data+Security%22+OR+%22GDPR%22+OR+%22Data+Protection%22+OR+%22Blockchain%22&type=r\n"
     ]
    },
    {
     "name": "stderr",
     "output_type": "stream",
     "text": [
      "Fetching Results: 360batch [01:05,  5.02batch/s, Fetched=360]"
     ]
    },
    {
     "name": "stdout",
     "output_type": "stream",
     "text": [
      "Estimated Time Remaining: 7.27 seconds\n",
      "Fetching: https://www.courtlistener.com/api/rest/v4/search/?court=scotus+ca1+ca2+ca3+ca4+ca5+ca6+ca7+ca8+ca9+ca10+ca11+cadc+cafc+dcd+almd+alnd+alsd+akd+azd+ared+arwd+cacd+caed+cand+casd+cod+ctd+ded+flmd+flnd+flsd+gamd+gand+gasd+hid+idd+ilcd+ilnd+ilsd+innd+insd+iand+iasd+ksd+kyed+kywd+laed+lamd+lawd+med+mdd+mad+mied+miwd+mnd+msnd+mssd+moed+mowd+mtd+ned+nvd+nhd+njd+nmd+nyed+nynd+nysd+nywd+nced+ncmd+ncwd+ndd+ohnd+ohsd+oked+oknd+okwd+ord+paed+pamd+pawd+rid+scd+sdd+tned+tnmd+tnwd+txed+txnd+txsd+txwd+utd+vtd+vaed+vawd+waed+wawd+wvnd+wvsd+wied+wiwd+wyd+gud+nmid+prd+vid&cursor=cz0xMzQwNTczODAwMDAwMC4wJnM9NjkzMDQxNDkmdD1yJmQ9MjAyNS0wMS0yOA%3D%3D&filed_after=01%2F01%2F2024&filed_before=01%2F01%2F2025&order_by=dateFiled+desc&q=%22Cybersecurity%22+OR+%22Data+Privacy%22+OR+%22Data+Security%22+OR+%22GDPR%22+OR+%22Data+Protection%22+OR+%22Blockchain%22&type=r\n"
     ]
    },
    {
     "name": "stderr",
     "output_type": "stream",
     "text": [
      "Fetching Results: 380batch [01:09,  4.83batch/s, Fetched=380]"
     ]
    },
    {
     "name": "stdout",
     "output_type": "stream",
     "text": [
      "Estimated Time Remaining: 7.36 seconds\n",
      "Fetching: https://www.courtlistener.com/api/rest/v4/search/?court=scotus+ca1+ca2+ca3+ca4+ca5+ca6+ca7+ca8+ca9+ca10+ca11+cadc+cafc+dcd+almd+alnd+alsd+akd+azd+ared+arwd+cacd+caed+cand+casd+cod+ctd+ded+flmd+flnd+flsd+gamd+gand+gasd+hid+idd+ilcd+ilnd+ilsd+innd+insd+iand+iasd+ksd+kyed+kywd+laed+lamd+lawd+med+mdd+mad+mied+miwd+mnd+msnd+mssd+moed+mowd+mtd+ned+nvd+nhd+njd+nmd+nyed+nynd+nysd+nywd+nced+ncmd+ncwd+ndd+ohnd+ohsd+oked+oknd+okwd+ord+paed+pamd+pawd+rid+scd+sdd+tned+tnmd+tnwd+txed+txnd+txsd+txwd+utd+vtd+vaed+vawd+waed+wawd+wvnd+wvsd+wied+wiwd+wyd+gud+nmid+prd+vid&cursor=cz0xMzQwNTMwNjAwMDAwMC4wJnM9NjkyNzYzNzYmdD1yJmQ9MjAyNS0wMS0yOA%3D%3D&filed_after=01%2F01%2F2024&filed_before=01%2F01%2F2025&order_by=dateFiled+desc&q=%22Cybersecurity%22+OR+%22Data+Privacy%22+OR+%22Data+Security%22+OR+%22GDPR%22+OR+%22Data+Protection%22+OR+%22Blockchain%22&type=r\n"
     ]
    },
    {
     "name": "stderr",
     "output_type": "stream",
     "text": [
      "Fetching Results: 400batch [01:15,  4.45batch/s, Fetched=400]"
     ]
    },
    {
     "name": "stdout",
     "output_type": "stream",
     "text": [
      "Estimated Time Remaining: 7.52 seconds\n",
      "Fetching: https://www.courtlistener.com/api/rest/v4/search/?court=scotus+ca1+ca2+ca3+ca4+ca5+ca6+ca7+ca8+ca9+ca10+ca11+cadc+cafc+dcd+almd+alnd+alsd+akd+azd+ared+arwd+cacd+caed+cand+casd+cod+ctd+ded+flmd+flnd+flsd+gamd+gand+gasd+hid+idd+ilcd+ilnd+ilsd+innd+insd+iand+iasd+ksd+kyed+kywd+laed+lamd+lawd+med+mdd+mad+mied+miwd+mnd+msnd+mssd+moed+mowd+mtd+ned+nvd+nhd+njd+nmd+nyed+nynd+nysd+nywd+nced+ncmd+ncwd+ndd+ohnd+ohsd+oked+oknd+okwd+ord+paed+pamd+pawd+rid+scd+sdd+tned+tnmd+tnwd+txed+txnd+txsd+txwd+utd+vtd+vaed+vawd+waed+wawd+wvnd+wvsd+wied+wiwd+wyd+gud+nmid+prd+vid&cursor=cz0xMzQwNTEzMzAwMDAwMC4wJnM9NjkyNjk3OTUmdD1yJmQ9MjAyNS0wMS0yOA%3D%3D&filed_after=01%2F01%2F2024&filed_before=01%2F01%2F2025&order_by=dateFiled+desc&q=%22Cybersecurity%22+OR+%22Data+Privacy%22+OR+%22Data+Security%22+OR+%22GDPR%22+OR+%22Data+Protection%22+OR+%22Blockchain%22&type=r\n"
     ]
    },
    {
     "name": "stderr",
     "output_type": "stream",
     "text": [
      "Fetching Results: 420batch [01:20,  4.30batch/s, Fetched=420]"
     ]
    },
    {
     "name": "stdout",
     "output_type": "stream",
     "text": [
      "Estimated Time Remaining: 7.64 seconds\n",
      "Fetching: https://www.courtlistener.com/api/rest/v4/search/?court=scotus+ca1+ca2+ca3+ca4+ca5+ca6+ca7+ca8+ca9+ca10+ca11+cadc+cafc+dcd+almd+alnd+alsd+akd+azd+ared+arwd+cacd+caed+cand+casd+cod+ctd+ded+flmd+flnd+flsd+gamd+gand+gasd+hid+idd+ilcd+ilnd+ilsd+innd+insd+iand+iasd+ksd+kyed+kywd+laed+lamd+lawd+med+mdd+mad+mied+miwd+mnd+msnd+mssd+moed+mowd+mtd+ned+nvd+nhd+njd+nmd+nyed+nynd+nysd+nywd+nced+ncmd+ncwd+ndd+ohnd+ohsd+oked+oknd+okwd+ord+paed+pamd+pawd+rid+scd+sdd+tned+tnmd+tnwd+txed+txnd+txsd+txwd+utd+vtd+vaed+vawd+waed+wawd+wvnd+wvsd+wied+wiwd+wyd+gud+nmid+prd+vid&cursor=cz0xMzQwNTA0NjAwMDAwMC4wJnM9NjkyNjYzNzMmdD1yJmQ9MjAyNS0wMS0yOA%3D%3D&filed_after=01%2F01%2F2024&filed_before=01%2F01%2F2025&order_by=dateFiled+desc&q=%22Cybersecurity%22+OR+%22Data+Privacy%22+OR+%22Data+Security%22+OR+%22GDPR%22+OR+%22Data+Protection%22+OR+%22Blockchain%22&type=r\n"
     ]
    },
    {
     "name": "stderr",
     "output_type": "stream",
     "text": [
      "Fetching Results: 440batch [01:27,  3.65batch/s, Fetched=440]"
     ]
    },
    {
     "name": "stdout",
     "output_type": "stream",
     "text": [
      "Estimated Time Remaining: 7.97 seconds\n",
      "Fetching: https://www.courtlistener.com/api/rest/v4/search/?court=scotus+ca1+ca2+ca3+ca4+ca5+ca6+ca7+ca8+ca9+ca10+ca11+cadc+cafc+dcd+almd+alnd+alsd+akd+azd+ared+arwd+cacd+caed+cand+casd+cod+ctd+ded+flmd+flnd+flsd+gamd+gand+gasd+hid+idd+ilcd+ilnd+ilsd+innd+insd+iand+iasd+ksd+kyed+kywd+laed+lamd+lawd+med+mdd+mad+mied+miwd+mnd+msnd+mssd+moed+mowd+mtd+ned+nvd+nhd+njd+nmd+nyed+nynd+nysd+nywd+nced+ncmd+ncwd+ndd+ohnd+ohsd+oked+oknd+okwd+ord+paed+pamd+pawd+rid+scd+sdd+tned+tnmd+tnwd+txed+txnd+txsd+txwd+utd+vtd+vaed+vawd+waed+wawd+wvnd+wvsd+wied+wiwd+wyd+gud+nmid+prd+vid&cursor=cz0xMzQwNDcwMTAwMDAwMC4wJnM9NjkyNTY1MDYmdD1yJmQ9MjAyNS0wMS0yOA%3D%3D&filed_after=01%2F01%2F2024&filed_before=01%2F01%2F2025&order_by=dateFiled+desc&q=%22Cybersecurity%22+OR+%22Data+Privacy%22+OR+%22Data+Security%22+OR+%22GDPR%22+OR+%22Data+Protection%22+OR+%22Blockchain%22&type=r\n"
     ]
    },
    {
     "name": "stderr",
     "output_type": "stream",
     "text": [
      "Fetching Results: 460batch [01:32,  3.70batch/s, Fetched=460]"
     ]
    },
    {
     "name": "stdout",
     "output_type": "stream",
     "text": [
      "Estimated Time Remaining: 8.08 seconds\n",
      "Fetching: https://www.courtlistener.com/api/rest/v4/search/?court=scotus+ca1+ca2+ca3+ca4+ca5+ca6+ca7+ca8+ca9+ca10+ca11+cadc+cafc+dcd+almd+alnd+alsd+akd+azd+ared+arwd+cacd+caed+cand+casd+cod+ctd+ded+flmd+flnd+flsd+gamd+gand+gasd+hid+idd+ilcd+ilnd+ilsd+innd+insd+iand+iasd+ksd+kyed+kywd+laed+lamd+lawd+med+mdd+mad+mied+miwd+mnd+msnd+mssd+moed+mowd+mtd+ned+nvd+nhd+njd+nmd+nyed+nynd+nysd+nywd+nced+ncmd+ncwd+ndd+ohnd+ohsd+oked+oknd+okwd+ord+paed+pamd+pawd+rid+scd+sdd+tned+tnmd+tnwd+txed+txnd+txsd+txwd+utd+vtd+vaed+vawd+waed+wawd+wvnd+wvsd+wied+wiwd+wyd+gud+nmid+prd+vid&cursor=cz0xMzQwNDUyODAwMDAwMC4wJnM9NjkyNDEwNzAmdD1yJmQ9MjAyNS0wMS0yOA%3D%3D&filed_after=01%2F01%2F2024&filed_before=01%2F01%2F2025&order_by=dateFiled+desc&q=%22Cybersecurity%22+OR+%22Data+Privacy%22+OR+%22Data+Security%22+OR+%22GDPR%22+OR+%22Data+Protection%22+OR+%22Blockchain%22&type=r\n"
     ]
    },
    {
     "name": "stderr",
     "output_type": "stream",
     "text": [
      "Fetching Results: 480batch [01:42,  3.03batch/s, Fetched=480]"
     ]
    },
    {
     "name": "stdout",
     "output_type": "stream",
     "text": [
      "Estimated Time Remaining: 8.52 seconds\n",
      "Fetching: https://www.courtlistener.com/api/rest/v4/search/?court=scotus+ca1+ca2+ca3+ca4+ca5+ca6+ca7+ca8+ca9+ca10+ca11+cadc+cafc+dcd+almd+alnd+alsd+akd+azd+ared+arwd+cacd+caed+cand+casd+cod+ctd+ded+flmd+flnd+flsd+gamd+gand+gasd+hid+idd+ilcd+ilnd+ilsd+innd+insd+iand+iasd+ksd+kyed+kywd+laed+lamd+lawd+med+mdd+mad+mied+miwd+mnd+msnd+mssd+moed+mowd+mtd+ned+nvd+nhd+njd+nmd+nyed+nynd+nysd+nywd+nced+ncmd+ncwd+ndd+ohnd+ohsd+oked+oknd+okwd+ord+paed+pamd+pawd+rid+scd+sdd+tned+tnmd+tnwd+txed+txnd+txsd+txwd+utd+vtd+vaed+vawd+waed+wawd+wvnd+wvsd+wied+wiwd+wyd+gud+nmid+prd+vid&cursor=cz0xMzQwNDQ0MjAwMDAwMC4wJnM9NjkyMzUzNTYmdD1yJmQ9MjAyNS0wMS0yOA%3D%3D&filed_after=01%2F01%2F2024&filed_before=01%2F01%2F2025&order_by=dateFiled+desc&q=%22Cybersecurity%22+OR+%22Data+Privacy%22+OR+%22Data+Security%22+OR+%22GDPR%22+OR+%22Data+Protection%22+OR+%22Blockchain%22&type=r\n"
     ]
    },
    {
     "name": "stderr",
     "output_type": "stream",
     "text": [
      "Fetching Results: 500batch [01:48,  3.14batch/s, Fetched=500]"
     ]
    },
    {
     "name": "stdout",
     "output_type": "stream",
     "text": [
      "Estimated Time Remaining: 8.65 seconds\n",
      "Fetching: https://www.courtlistener.com/api/rest/v4/search/?court=scotus+ca1+ca2+ca3+ca4+ca5+ca6+ca7+ca8+ca9+ca10+ca11+cadc+cafc+dcd+almd+alnd+alsd+akd+azd+ared+arwd+cacd+caed+cand+casd+cod+ctd+ded+flmd+flnd+flsd+gamd+gand+gasd+hid+idd+ilcd+ilnd+ilsd+innd+insd+iand+iasd+ksd+kyed+kywd+laed+lamd+lawd+med+mdd+mad+mied+miwd+mnd+msnd+mssd+moed+mowd+mtd+ned+nvd+nhd+njd+nmd+nyed+nynd+nysd+nywd+nced+ncmd+ncwd+ndd+ohnd+ohsd+oked+oknd+okwd+ord+paed+pamd+pawd+rid+scd+sdd+tned+tnmd+tnwd+txed+txnd+txsd+txwd+utd+vtd+vaed+vawd+waed+wawd+wvnd+wvsd+wied+wiwd+wyd+gud+nmid+prd+vid&cursor=cz0xMzQwNDA5NjAwMDAwMC4wJnM9NjkyMjgxMDkmdD1yJmQ9MjAyNS0wMS0yOA%3D%3D&filed_after=01%2F01%2F2024&filed_before=01%2F01%2F2025&order_by=dateFiled+desc&q=%22Cybersecurity%22+OR+%22Data+Privacy%22+OR+%22Data+Security%22+OR+%22GDPR%22+OR+%22Data+Protection%22+OR+%22Blockchain%22&type=r\n"
     ]
    },
    {
     "name": "stderr",
     "output_type": "stream",
     "text": [
      "Fetching Results: 520batch [01:58,  2.65batch/s, Fetched=520]"
     ]
    },
    {
     "name": "stdout",
     "output_type": "stream",
     "text": [
      "Estimated Time Remaining: 9.11 seconds\n",
      "Fetching: https://www.courtlistener.com/api/rest/v4/search/?court=scotus+ca1+ca2+ca3+ca4+ca5+ca6+ca7+ca8+ca9+ca10+ca11+cadc+cafc+dcd+almd+alnd+alsd+akd+azd+ared+arwd+cacd+caed+cand+casd+cod+ctd+ded+flmd+flnd+flsd+gamd+gand+gasd+hid+idd+ilcd+ilnd+ilsd+innd+insd+iand+iasd+ksd+kyed+kywd+laed+lamd+lawd+med+mdd+mad+mied+miwd+mnd+msnd+mssd+moed+mowd+mtd+ned+nvd+nhd+njd+nmd+nyed+nynd+nysd+nywd+nced+ncmd+ncwd+ndd+ohnd+ohsd+oked+oknd+okwd+ord+paed+pamd+pawd+rid+scd+sdd+tned+tnmd+tnwd+txed+txnd+txsd+txwd+utd+vtd+vaed+vawd+waed+wawd+wvnd+wvsd+wied+wiwd+wyd+gud+nmid+prd+vid&cursor=cz0xMzQwMzgzNzAwMDAwMC4wJnM9NjkyMTQ3NDgmdD1yJmQ9MjAyNS0wMS0yOA%3D%3D&filed_after=01%2F01%2F2024&filed_before=01%2F01%2F2025&order_by=dateFiled+desc&q=%22Cybersecurity%22+OR+%22Data+Privacy%22+OR+%22Data+Security%22+OR+%22GDPR%22+OR+%22Data+Protection%22+OR+%22Blockchain%22&type=r\n"
     ]
    },
    {
     "name": "stderr",
     "output_type": "stream",
     "text": [
      "Fetching Results: 540batch [02:04,  2.81batch/s, Fetched=540]"
     ]
    },
    {
     "name": "stdout",
     "output_type": "stream",
     "text": [
      "Estimated Time Remaining: 9.22 seconds\n",
      "Fetching: https://www.courtlistener.com/api/rest/v4/search/?court=scotus+ca1+ca2+ca3+ca4+ca5+ca6+ca7+ca8+ca9+ca10+ca11+cadc+cafc+dcd+almd+alnd+alsd+akd+azd+ared+arwd+cacd+caed+cand+casd+cod+ctd+ded+flmd+flnd+flsd+gamd+gand+gasd+hid+idd+ilcd+ilnd+ilsd+innd+insd+iand+iasd+ksd+kyed+kywd+laed+lamd+lawd+med+mdd+mad+mied+miwd+mnd+msnd+mssd+moed+mowd+mtd+ned+nvd+nhd+njd+nmd+nyed+nynd+nysd+nywd+nced+ncmd+ncwd+ndd+ohnd+ohsd+oked+oknd+okwd+ord+paed+pamd+pawd+rid+scd+sdd+tned+tnmd+tnwd+txed+txnd+txsd+txwd+utd+vtd+vaed+vawd+waed+wawd+wvnd+wvsd+wied+wiwd+wyd+gud+nmid+prd+vid&cursor=cz0xMzQwMzQwNTAwMDAwMC4wJnM9NjkyMDA2MTcmdD1yJmQ9MjAyNS0wMS0yOA%3D%3D&filed_after=01%2F01%2F2024&filed_before=01%2F01%2F2025&order_by=dateFiled+desc&q=%22Cybersecurity%22+OR+%22Data+Privacy%22+OR+%22Data+Security%22+OR+%22GDPR%22+OR+%22Data+Protection%22+OR+%22Blockchain%22&type=r\n"
     ]
    },
    {
     "name": "stderr",
     "output_type": "stream",
     "text": [
      "Fetching Results: 560batch [02:10,  2.92batch/s, Fetched=560]"
     ]
    },
    {
     "name": "stdout",
     "output_type": "stream",
     "text": [
      "Estimated Time Remaining: 9.34 seconds\n",
      "Fetching: https://www.courtlistener.com/api/rest/v4/search/?court=scotus+ca1+ca2+ca3+ca4+ca5+ca6+ca7+ca8+ca9+ca10+ca11+cadc+cafc+dcd+almd+alnd+alsd+akd+azd+ared+arwd+cacd+caed+cand+casd+cod+ctd+ded+flmd+flnd+flsd+gamd+gand+gasd+hid+idd+ilcd+ilnd+ilsd+innd+insd+iand+iasd+ksd+kyed+kywd+laed+lamd+lawd+med+mdd+mad+mied+miwd+mnd+msnd+mssd+moed+mowd+mtd+ned+nvd+nhd+njd+nmd+nyed+nynd+nysd+nywd+nced+ncmd+ncwd+ndd+ohnd+ohsd+oked+oknd+okwd+ord+paed+pamd+pawd+rid+scd+sdd+tned+tnmd+tnwd+txed+txnd+txsd+txwd+utd+vtd+vaed+vawd+waed+wawd+wvnd+wvsd+wied+wiwd+wyd+gud+nmid+prd+vid&cursor=cz0xMzQwMzE0NjAwMDAwMC4wJnM9NjkxODc4NDkmdD1yJmQ9MjAyNS0wMS0yOA%3D%3D&filed_after=01%2F01%2F2024&filed_before=01%2F01%2F2025&order_by=dateFiled+desc&q=%22Cybersecurity%22+OR+%22Data+Privacy%22+OR+%22Data+Security%22+OR+%22GDPR%22+OR+%22Data+Protection%22+OR+%22Blockchain%22&type=r\n"
     ]
    },
    {
     "name": "stderr",
     "output_type": "stream",
     "text": [
      "Fetching Results: 580batch [02:19,  2.70batch/s, Fetched=580]"
     ]
    },
    {
     "name": "stdout",
     "output_type": "stream",
     "text": [
      "Estimated Time Remaining: 9.62 seconds\n",
      "Fetching: https://www.courtlistener.com/api/rest/v4/search/?court=scotus+ca1+ca2+ca3+ca4+ca5+ca6+ca7+ca8+ca9+ca10+ca11+cadc+cafc+dcd+almd+alnd+alsd+akd+azd+ared+arwd+cacd+caed+cand+casd+cod+ctd+ded+flmd+flnd+flsd+gamd+gand+gasd+hid+idd+ilcd+ilnd+ilsd+innd+insd+iand+iasd+ksd+kyed+kywd+laed+lamd+lawd+med+mdd+mad+mied+miwd+mnd+msnd+mssd+moed+mowd+mtd+ned+nvd+nhd+njd+nmd+nyed+nynd+nysd+nywd+nced+ncmd+ncwd+ndd+ohnd+ohsd+oked+oknd+okwd+ord+paed+pamd+pawd+rid+scd+sdd+tned+tnmd+tnwd+txed+txnd+txsd+txwd+utd+vtd+vaed+vawd+waed+wawd+wvnd+wvsd+wied+wiwd+wyd+gud+nmid+prd+vid&cursor=cz0xMzQwMjgwMDAwMDAwMC4wJnM9NjkxNzc3NjMmdD1yJmQ9MjAyNS0wMS0yOA%3D%3D&filed_after=01%2F01%2F2024&filed_before=01%2F01%2F2025&order_by=dateFiled+desc&q=%22Cybersecurity%22+OR+%22Data+Privacy%22+OR+%22Data+Security%22+OR+%22GDPR%22+OR+%22Data+Protection%22+OR+%22Blockchain%22&type=r\n"
     ]
    },
    {
     "name": "stderr",
     "output_type": "stream",
     "text": [
      "Fetching Results: 600batch [02:27,  2.64batch/s, Fetched=600]"
     ]
    },
    {
     "name": "stdout",
     "output_type": "stream",
     "text": [
      "Estimated Time Remaining: 9.83 seconds\n",
      "Fetching: https://www.courtlistener.com/api/rest/v4/search/?court=scotus+ca1+ca2+ca3+ca4+ca5+ca6+ca7+ca8+ca9+ca10+ca11+cadc+cafc+dcd+almd+alnd+alsd+akd+azd+ared+arwd+cacd+caed+cand+casd+cod+ctd+ded+flmd+flnd+flsd+gamd+gand+gasd+hid+idd+ilcd+ilnd+ilsd+innd+insd+iand+iasd+ksd+kyed+kywd+laed+lamd+lawd+med+mdd+mad+mied+miwd+mnd+msnd+mssd+moed+mowd+mtd+ned+nvd+nhd+njd+nmd+nyed+nynd+nysd+nywd+nced+ncmd+ncwd+ndd+ohnd+ohsd+oked+oknd+okwd+ord+paed+pamd+pawd+rid+scd+sdd+tned+tnmd+tnwd+txed+txnd+txsd+txwd+utd+vtd+vaed+vawd+waed+wawd+wvnd+wvsd+wied+wiwd+wyd+gud+nmid+prd+vid&cursor=cz0xMzQwMjYyNzAwMDAwMC4wJnM9NjkxNjg1NDcmdD1yJmQ9MjAyNS0wMS0yOA%3D%3D&filed_after=01%2F01%2F2024&filed_before=01%2F01%2F2025&order_by=dateFiled+desc&q=%22Cybersecurity%22+OR+%22Data+Privacy%22+OR+%22Data+Security%22+OR+%22GDPR%22+OR+%22Data+Protection%22+OR+%22Blockchain%22&type=r\n"
     ]
    },
    {
     "name": "stderr",
     "output_type": "stream",
     "text": [
      "Fetching Results: 620batch [02:33,  2.83batch/s, Fetched=620]"
     ]
    },
    {
     "name": "stdout",
     "output_type": "stream",
     "text": [
      "Estimated Time Remaining: 9.89 seconds\n",
      "Fetching: https://www.courtlistener.com/api/rest/v4/search/?court=scotus+ca1+ca2+ca3+ca4+ca5+ca6+ca7+ca8+ca9+ca10+ca11+cadc+cafc+dcd+almd+alnd+alsd+akd+azd+ared+arwd+cacd+caed+cand+casd+cod+ctd+ded+flmd+flnd+flsd+gamd+gand+gasd+hid+idd+ilcd+ilnd+ilsd+innd+insd+iand+iasd+ksd+kyed+kywd+laed+lamd+lawd+med+mdd+mad+mied+miwd+mnd+msnd+mssd+moed+mowd+mtd+ned+nvd+nhd+njd+nmd+nyed+nynd+nysd+nywd+nced+ncmd+ncwd+ndd+ohnd+ohsd+oked+oknd+okwd+ord+paed+pamd+pawd+rid+scd+sdd+tned+tnmd+tnwd+txed+txnd+txsd+txwd+utd+vtd+vaed+vawd+waed+wawd+wvnd+wvsd+wied+wiwd+wyd+gud+nmid+prd+vid&cursor=cz0xMzQwMjI4MjAwMDAwMC4wJnM9NjkxNjA5MjQmdD1yJmQ9MjAyNS0wMS0yOA%3D%3D&filed_after=01%2F01%2F2024&filed_before=01%2F01%2F2025&order_by=dateFiled+desc&q=%22Cybersecurity%22+OR+%22Data+Privacy%22+OR+%22Data+Security%22+OR+%22GDPR%22+OR+%22Data+Protection%22+OR+%22Blockchain%22&type=r\n"
     ]
    },
    {
     "name": "stderr",
     "output_type": "stream",
     "text": [
      "Fetching Results: 640batch [02:41,  2.68batch/s, Fetched=640]"
     ]
    },
    {
     "name": "stdout",
     "output_type": "stream",
     "text": [
      "Estimated Time Remaining: 10.10 seconds\n",
      "Fetching: https://www.courtlistener.com/api/rest/v4/search/?court=scotus+ca1+ca2+ca3+ca4+ca5+ca6+ca7+ca8+ca9+ca10+ca11+cadc+cafc+dcd+almd+alnd+alsd+akd+azd+ared+arwd+cacd+caed+cand+casd+cod+ctd+ded+flmd+flnd+flsd+gamd+gand+gasd+hid+idd+ilcd+ilnd+ilsd+innd+insd+iand+iasd+ksd+kyed+kywd+laed+lamd+lawd+med+mdd+mad+mied+miwd+mnd+msnd+mssd+moed+mowd+mtd+ned+nvd+nhd+njd+nmd+nyed+nynd+nysd+nywd+nced+ncmd+ncwd+ndd+ohnd+ohsd+oked+oknd+okwd+ord+paed+pamd+pawd+rid+scd+sdd+tned+tnmd+tnwd+txed+txnd+txsd+txwd+utd+vtd+vaed+vawd+waed+wawd+wvnd+wvsd+wied+wiwd+wyd+gud+nmid+prd+vid&cursor=cz0xMzQwMjEwOTAwMDAwMC4wJnM9NjkxNTQxNzQmdD1yJmQ9MjAyNS0wMS0yOA%3D%3D&filed_after=01%2F01%2F2024&filed_before=01%2F01%2F2025&order_by=dateFiled+desc&q=%22Cybersecurity%22+OR+%22Data+Privacy%22+OR+%22Data+Security%22+OR+%22GDPR%22+OR+%22Data+Protection%22+OR+%22Blockchain%22&type=r\n"
     ]
    },
    {
     "name": "stderr",
     "output_type": "stream",
     "text": [
      "Fetching Results: 660batch [02:46,  3.01batch/s, Fetched=660]"
     ]
    },
    {
     "name": "stdout",
     "output_type": "stream",
     "text": [
      "Estimated Time Remaining: 10.08 seconds\n",
      "Fetching: https://www.courtlistener.com/api/rest/v4/search/?court=scotus+ca1+ca2+ca3+ca4+ca5+ca6+ca7+ca8+ca9+ca10+ca11+cadc+cafc+dcd+almd+alnd+alsd+akd+azd+ared+arwd+cacd+caed+cand+casd+cod+ctd+ded+flmd+flnd+flsd+gamd+gand+gasd+hid+idd+ilcd+ilnd+ilsd+innd+insd+iand+iasd+ksd+kyed+kywd+laed+lamd+lawd+med+mdd+mad+mied+miwd+mnd+msnd+mssd+moed+mowd+mtd+ned+nvd+nhd+njd+nmd+nyed+nynd+nysd+nywd+nced+ncmd+ncwd+ndd+ohnd+ohsd+oked+oknd+okwd+ord+paed+pamd+pawd+rid+scd+sdd+tned+tnmd+tnwd+txed+txnd+txsd+txwd+utd+vtd+vaed+vawd+waed+wawd+wvnd+wvsd+wied+wiwd+wyd+gud+nmid+prd+vid&cursor=cz0xMzQwMTY3NzAwMDAwMC4wJnM9NjkxMzQ5NzgmdD1yJmQ9MjAyNS0wMS0yOA%3D%3D&filed_after=01%2F01%2F2024&filed_before=01%2F01%2F2025&order_by=dateFiled+desc&q=%22Cybersecurity%22+OR+%22Data+Privacy%22+OR+%22Data+Security%22+OR+%22GDPR%22+OR+%22Data+Protection%22+OR+%22Blockchain%22&type=r\n"
     ]
    },
    {
     "name": "stderr",
     "output_type": "stream",
     "text": [
      "Fetching Results: 680batch [03:00,  2.24batch/s, Fetched=680]"
     ]
    },
    {
     "name": "stdout",
     "output_type": "stream",
     "text": [
      "Estimated Time Remaining: 10.63 seconds\n",
      "Fetching: https://www.courtlistener.com/api/rest/v4/search/?court=scotus+ca1+ca2+ca3+ca4+ca5+ca6+ca7+ca8+ca9+ca10+ca11+cadc+cafc+dcd+almd+alnd+alsd+akd+azd+ared+arwd+cacd+caed+cand+casd+cod+ctd+ded+flmd+flnd+flsd+gamd+gand+gasd+hid+idd+ilcd+ilnd+ilsd+innd+insd+iand+iasd+ksd+kyed+kywd+laed+lamd+lawd+med+mdd+mad+mied+miwd+mnd+msnd+mssd+moed+mowd+mtd+ned+nvd+nhd+njd+nmd+nyed+nynd+nysd+nywd+nced+ncmd+ncwd+ndd+ohnd+ohsd+oked+oknd+okwd+ord+paed+pamd+pawd+rid+scd+sdd+tned+tnmd+tnwd+txed+txnd+txsd+txwd+utd+vtd+vaed+vawd+waed+wawd+wvnd+wvsd+wied+wiwd+wyd+gud+nmid+prd+vid&cursor=cz0xMzQwMTQxODAwMDAwMC4wJnM9NjkxMjc0OTkmdD1yJmQ9MjAyNS0wMS0yOA%3D%3D&filed_after=01%2F01%2F2024&filed_before=01%2F01%2F2025&order_by=dateFiled+desc&q=%22Cybersecurity%22+OR+%22Data+Privacy%22+OR+%22Data+Security%22+OR+%22GDPR%22+OR+%22Data+Protection%22+OR+%22Blockchain%22&type=r\n"
     ]
    },
    {
     "name": "stderr",
     "output_type": "stream",
     "text": [
      "Fetching Results: 700batch [03:09,  2.25batch/s, Fetched=700]"
     ]
    },
    {
     "name": "stdout",
     "output_type": "stream",
     "text": [
      "Estimated Time Remaining: 10.83 seconds\n",
      "Fetching: https://www.courtlistener.com/api/rest/v4/search/?court=scotus+ca1+ca2+ca3+ca4+ca5+ca6+ca7+ca8+ca9+ca10+ca11+cadc+cafc+dcd+almd+alnd+alsd+akd+azd+ared+arwd+cacd+caed+cand+casd+cod+ctd+ded+flmd+flnd+flsd+gamd+gand+gasd+hid+idd+ilcd+ilnd+ilsd+innd+insd+iand+iasd+ksd+kyed+kywd+laed+lamd+lawd+med+mdd+mad+mied+miwd+mnd+msnd+mssd+moed+mowd+mtd+ned+nvd+nhd+njd+nmd+nyed+nynd+nysd+nywd+nced+ncmd+ncwd+ndd+ohnd+ohsd+oked+oknd+okwd+ord+paed+pamd+pawd+rid+scd+sdd+tned+tnmd+tnwd+txed+txnd+txsd+txwd+utd+vtd+vaed+vawd+waed+wawd+wvnd+wvsd+wied+wiwd+wyd+gud+nmid+prd+vid&cursor=cz0xMzQwMDk4NjAwMDAwMC4wJnM9NjkxMjQzNjAmdD1yJmQ9MjAyNS0wMS0yOA%3D%3D&filed_after=01%2F01%2F2024&filed_before=01%2F01%2F2025&order_by=dateFiled+desc&q=%22Cybersecurity%22+OR+%22Data+Privacy%22+OR+%22Data+Security%22+OR+%22GDPR%22+OR+%22Data+Protection%22+OR+%22Blockchain%22&type=r\n"
     ]
    },
    {
     "name": "stderr",
     "output_type": "stream",
     "text": [
      "Fetching Results: 720batch [03:14,  2.60batch/s, Fetched=720]"
     ]
    },
    {
     "name": "stdout",
     "output_type": "stream",
     "text": [
      "Estimated Time Remaining: 10.80 seconds\n",
      "Fetching: https://www.courtlistener.com/api/rest/v4/search/?court=scotus+ca1+ca2+ca3+ca4+ca5+ca6+ca7+ca8+ca9+ca10+ca11+cadc+cafc+dcd+almd+alnd+alsd+akd+azd+ared+arwd+cacd+caed+cand+casd+cod+ctd+ded+flmd+flnd+flsd+gamd+gand+gasd+hid+idd+ilcd+ilnd+ilsd+innd+insd+iand+iasd+ksd+kyed+kywd+laed+lamd+lawd+med+mdd+mad+mied+miwd+mnd+msnd+mssd+moed+mowd+mtd+ned+nvd+nhd+njd+nmd+nyed+nynd+nysd+nywd+nced+ncmd+ncwd+ndd+ohnd+ohsd+oked+oknd+okwd+ord+paed+pamd+pawd+rid+scd+sdd+tned+tnmd+tnwd+txed+txnd+txsd+txwd+utd+vtd+vaed+vawd+waed+wawd+wvnd+wvsd+wied+wiwd+wyd+gud+nmid+prd+vid&cursor=cz0xMzQwMDgxMzAwMDAwMC4wJnM9NjkwOTc0MzAmdD1yJmQ9MjAyNS0wMS0yOA%3D%3D&filed_after=01%2F01%2F2024&filed_before=01%2F01%2F2025&order_by=dateFiled+desc&q=%22Cybersecurity%22+OR+%22Data+Privacy%22+OR+%22Data+Security%22+OR+%22GDPR%22+OR+%22Data+Protection%22+OR+%22Blockchain%22&type=r\n"
     ]
    },
    {
     "name": "stderr",
     "output_type": "stream",
     "text": [
      "Fetching Results: 740batch [03:20,  2.81batch/s, Fetched=740]"
     ]
    },
    {
     "name": "stdout",
     "output_type": "stream",
     "text": [
      "Estimated Time Remaining: 10.82 seconds\n",
      "Fetching: https://www.courtlistener.com/api/rest/v4/search/?court=scotus+ca1+ca2+ca3+ca4+ca5+ca6+ca7+ca8+ca9+ca10+ca11+cadc+cafc+dcd+almd+alnd+alsd+akd+azd+ared+arwd+cacd+caed+cand+casd+cod+ctd+ded+flmd+flnd+flsd+gamd+gand+gasd+hid+idd+ilcd+ilnd+ilsd+innd+insd+iand+iasd+ksd+kyed+kywd+laed+lamd+lawd+med+mdd+mad+mied+miwd+mnd+msnd+mssd+moed+mowd+mtd+ned+nvd+nhd+njd+nmd+nyed+nynd+nysd+nywd+nced+ncmd+ncwd+ndd+ohnd+ohsd+oked+oknd+okwd+ord+paed+pamd+pawd+rid+scd+sdd+tned+tnmd+tnwd+txed+txnd+txsd+txwd+utd+vtd+vaed+vawd+waed+wawd+wvnd+wvsd+wied+wiwd+wyd+gud+nmid+prd+vid&cursor=cz0xMzQwMDQ2NzAwMDAwMC4wJnM9NjkwNzgzMzUmdD1yJmQ9MjAyNS0wMS0yOA%3D%3D&filed_after=01%2F01%2F2024&filed_before=01%2F01%2F2025&order_by=dateFiled+desc&q=%22Cybersecurity%22+OR+%22Data+Privacy%22+OR+%22Data+Security%22+OR+%22GDPR%22+OR+%22Data+Protection%22+OR+%22Blockchain%22&type=r\n"
     ]
    },
    {
     "name": "stderr",
     "output_type": "stream",
     "text": [
      "Fetching Results: 760batch [03:26,  2.93batch/s, Fetched=760]"
     ]
    },
    {
     "name": "stdout",
     "output_type": "stream",
     "text": [
      "Estimated Time Remaining: 10.86 seconds\n",
      "Fetching: https://www.courtlistener.com/api/rest/v4/search/?court=scotus+ca1+ca2+ca3+ca4+ca5+ca6+ca7+ca8+ca9+ca10+ca11+cadc+cafc+dcd+almd+alnd+alsd+akd+azd+ared+arwd+cacd+caed+cand+casd+cod+ctd+ded+flmd+flnd+flsd+gamd+gand+gasd+hid+idd+ilcd+ilnd+ilsd+innd+insd+iand+iasd+ksd+kyed+kywd+laed+lamd+lawd+med+mdd+mad+mied+miwd+mnd+msnd+mssd+moed+mowd+mtd+ned+nvd+nhd+njd+nmd+nyed+nynd+nysd+nywd+nced+ncmd+ncwd+ndd+ohnd+ohsd+oked+oknd+okwd+ord+paed+pamd+pawd+rid+scd+sdd+tned+tnmd+tnwd+txed+txnd+txsd+txwd+utd+vtd+vaed+vawd+waed+wawd+wvnd+wvsd+wied+wiwd+wyd+gud+nmid+prd+vid&cursor=cz0xMzQwMDIwODAwMDAwMC4wJnM9NjkwNjIxNjgmdD1yJmQ9MjAyNS0wMS0yOA%3D%3D&filed_after=01%2F01%2F2024&filed_before=01%2F01%2F2025&order_by=dateFiled+desc&q=%22Cybersecurity%22+OR+%22Data+Privacy%22+OR+%22Data+Security%22+OR+%22GDPR%22+OR+%22Data+Protection%22+OR+%22Blockchain%22&type=r\n"
     ]
    },
    {
     "name": "stderr",
     "output_type": "stream",
     "text": [
      "Fetching Results: 780batch [03:32,  3.02batch/s, Fetched=780]"
     ]
    },
    {
     "name": "stdout",
     "output_type": "stream",
     "text": [
      "Estimated Time Remaining: 10.89 seconds\n",
      "Fetching: https://www.courtlistener.com/api/rest/v4/search/?court=scotus+ca1+ca2+ca3+ca4+ca5+ca6+ca7+ca8+ca9+ca10+ca11+cadc+cafc+dcd+almd+alnd+alsd+akd+azd+ared+arwd+cacd+caed+cand+casd+cod+ctd+ded+flmd+flnd+flsd+gamd+gand+gasd+hid+idd+ilcd+ilnd+ilsd+innd+insd+iand+iasd+ksd+kyed+kywd+laed+lamd+lawd+med+mdd+mad+mied+miwd+mnd+msnd+mssd+moed+mowd+mtd+ned+nvd+nhd+njd+nmd+nyed+nynd+nysd+nywd+nced+ncmd+ncwd+ndd+ohnd+ohsd+oked+oknd+okwd+ord+paed+pamd+pawd+rid+scd+sdd+tned+tnmd+tnwd+txed+txnd+txsd+txwd+utd+vtd+vaed+vawd+waed+wawd+wvnd+wvsd+wied+wiwd+wyd+gud+nmid+prd+vid&cursor=cz0xMzM5OTg2MzAwMDAwMC4wJnM9NjkxODUyNDAmdD1yJmQ9MjAyNS0wMS0yOA%3D%3D&filed_after=01%2F01%2F2024&filed_before=01%2F01%2F2025&order_by=dateFiled+desc&q=%22Cybersecurity%22+OR+%22Data+Privacy%22+OR+%22Data+Security%22+OR+%22GDPR%22+OR+%22Data+Protection%22+OR+%22Blockchain%22&type=r\n"
     ]
    },
    {
     "name": "stderr",
     "output_type": "stream",
     "text": [
      "Fetching Results: 800batch [03:37,  3.19batch/s, Fetched=800]"
     ]
    },
    {
     "name": "stdout",
     "output_type": "stream",
     "text": [
      "Estimated Time Remaining: 10.89 seconds\n",
      "Fetching: https://www.courtlistener.com/api/rest/v4/search/?court=scotus+ca1+ca2+ca3+ca4+ca5+ca6+ca7+ca8+ca9+ca10+ca11+cadc+cafc+dcd+almd+alnd+alsd+akd+azd+ared+arwd+cacd+caed+cand+casd+cod+ctd+ded+flmd+flnd+flsd+gamd+gand+gasd+hid+idd+ilcd+ilnd+ilsd+innd+insd+iand+iasd+ksd+kyed+kywd+laed+lamd+lawd+med+mdd+mad+mied+miwd+mnd+msnd+mssd+moed+mowd+mtd+ned+nvd+nhd+njd+nmd+nyed+nynd+nysd+nywd+nced+ncmd+ncwd+ndd+ohnd+ohsd+oked+oknd+okwd+ord+paed+pamd+pawd+rid+scd+sdd+tned+tnmd+tnwd+txed+txnd+txsd+txwd+utd+vtd+vaed+vawd+waed+wawd+wvnd+wvsd+wied+wiwd+wyd+gud+nmid+prd+vid&cursor=cz0xMzM5OTY5MDAwMDAwMC4wJnM9NjkwNDUzMDYmdD1yJmQ9MjAyNS0wMS0yOA%3D%3D&filed_after=01%2F01%2F2024&filed_before=01%2F01%2F2025&order_by=dateFiled+desc&q=%22Cybersecurity%22+OR+%22Data+Privacy%22+OR+%22Data+Security%22+OR+%22GDPR%22+OR+%22Data+Protection%22+OR+%22Blockchain%22&type=r\n"
     ]
    },
    {
     "name": "stderr",
     "output_type": "stream",
     "text": [
      "Fetching Results: 820batch [03:43,  3.31batch/s, Fetched=820]"
     ]
    },
    {
     "name": "stdout",
     "output_type": "stream",
     "text": [
      "Estimated Time Remaining: 10.90 seconds\n",
      "Fetching: https://www.courtlistener.com/api/rest/v4/search/?court=scotus+ca1+ca2+ca3+ca4+ca5+ca6+ca7+ca8+ca9+ca10+ca11+cadc+cafc+dcd+almd+alnd+alsd+akd+azd+ared+arwd+cacd+caed+cand+casd+cod+ctd+ded+flmd+flnd+flsd+gamd+gand+gasd+hid+idd+ilcd+ilnd+ilsd+innd+insd+iand+iasd+ksd+kyed+kywd+laed+lamd+lawd+med+mdd+mad+mied+miwd+mnd+msnd+mssd+moed+mowd+mtd+ned+nvd+nhd+njd+nmd+nyed+nynd+nysd+nywd+nced+ncmd+ncwd+ndd+ohnd+ohsd+oked+oknd+okwd+ord+paed+pamd+pawd+rid+scd+sdd+tned+tnmd+tnwd+txed+txnd+txsd+txwd+utd+vtd+vaed+vawd+waed+wawd+wvnd+wvsd+wied+wiwd+wyd+gud+nmid+prd+vid&cursor=cz0xMzM5OTUxNzAwMDAwMC4wJnM9NjkwMzc2NjcmdD1yJmQ9MjAyNS0wMS0yOA%3D%3D&filed_after=01%2F01%2F2024&filed_before=01%2F01%2F2025&order_by=dateFiled+desc&q=%22Cybersecurity%22+OR+%22Data+Privacy%22+OR+%22Data+Security%22+OR+%22GDPR%22+OR+%22Data+Protection%22+OR+%22Blockchain%22&type=r\n"
     ]
    },
    {
     "name": "stderr",
     "output_type": "stream",
     "text": [
      "Fetching Results: 840batch [03:48,  3.56batch/s, Fetched=840]"
     ]
    },
    {
     "name": "stdout",
     "output_type": "stream",
     "text": [
      "Estimated Time Remaining: 10.86 seconds\n",
      "Fetching: https://www.courtlistener.com/api/rest/v4/search/?court=scotus+ca1+ca2+ca3+ca4+ca5+ca6+ca7+ca8+ca9+ca10+ca11+cadc+cafc+dcd+almd+alnd+alsd+akd+azd+ared+arwd+cacd+caed+cand+casd+cod+ctd+ded+flmd+flnd+flsd+gamd+gand+gasd+hid+idd+ilcd+ilnd+ilsd+innd+insd+iand+iasd+ksd+kyed+kywd+laed+lamd+lawd+med+mdd+mad+mied+miwd+mnd+msnd+mssd+moed+mowd+mtd+ned+nvd+nhd+njd+nmd+nyed+nynd+nysd+nywd+nced+ncmd+ncwd+ndd+ohnd+ohsd+oked+oknd+okwd+ord+paed+pamd+pawd+rid+scd+sdd+tned+tnmd+tnwd+txed+txnd+txsd+txwd+utd+vtd+vaed+vawd+waed+wawd+wvnd+wvsd+wied+wiwd+wyd+gud+nmid+prd+vid&cursor=cz0xMzM5OTE3MTAwMDAwMC4wJnM9NjkwMjkwMzkmdD1yJmQ9MjAyNS0wMS0yOA%3D%3D&filed_after=01%2F01%2F2024&filed_before=01%2F01%2F2025&order_by=dateFiled+desc&q=%22Cybersecurity%22+OR+%22Data+Privacy%22+OR+%22Data+Security%22+OR+%22GDPR%22+OR+%22Data+Protection%22+OR+%22Blockchain%22&type=r\n"
     ]
    },
    {
     "name": "stderr",
     "output_type": "stream",
     "text": [
      "Fetching Results: 860batch [03:54,  3.36batch/s, Fetched=860]"
     ]
    },
    {
     "name": "stdout",
     "output_type": "stream",
     "text": [
      "Estimated Time Remaining: 10.92 seconds\n",
      "Fetching: https://www.courtlistener.com/api/rest/v4/search/?court=scotus+ca1+ca2+ca3+ca4+ca5+ca6+ca7+ca8+ca9+ca10+ca11+cadc+cafc+dcd+almd+alnd+alsd+akd+azd+ared+arwd+cacd+caed+cand+casd+cod+ctd+ded+flmd+flnd+flsd+gamd+gand+gasd+hid+idd+ilcd+ilnd+ilsd+innd+insd+iand+iasd+ksd+kyed+kywd+laed+lamd+lawd+med+mdd+mad+mied+miwd+mnd+msnd+mssd+moed+mowd+mtd+ned+nvd+nhd+njd+nmd+nyed+nynd+nysd+nywd+nced+ncmd+ncwd+ndd+ohnd+ohsd+oked+oknd+okwd+ord+paed+pamd+pawd+rid+scd+sdd+tned+tnmd+tnwd+txed+txnd+txsd+txwd+utd+vtd+vaed+vawd+waed+wawd+wvnd+wvsd+wied+wiwd+wyd+gud+nmid+prd+vid&cursor=cz0xMzM5ODkxMjAwMDAwMC4wJnM9NjkwMTY5NzcmdD1yJmQ9MjAyNS0wMS0yOA%3D%3D&filed_after=01%2F01%2F2024&filed_before=01%2F01%2F2025&order_by=dateFiled+desc&q=%22Cybersecurity%22+OR+%22Data+Privacy%22+OR+%22Data+Security%22+OR+%22GDPR%22+OR+%22Data+Protection%22+OR+%22Blockchain%22&type=r\n"
     ]
    },
    {
     "name": "stderr",
     "output_type": "stream",
     "text": [
      "Fetching Results: 880batch [03:58,  3.76batch/s, Fetched=880]"
     ]
    },
    {
     "name": "stdout",
     "output_type": "stream",
     "text": [
      "Estimated Time Remaining: 10.85 seconds\n",
      "Fetching: https://www.courtlistener.com/api/rest/v4/search/?court=scotus+ca1+ca2+ca3+ca4+ca5+ca6+ca7+ca8+ca9+ca10+ca11+cadc+cafc+dcd+almd+alnd+alsd+akd+azd+ared+arwd+cacd+caed+cand+casd+cod+ctd+ded+flmd+flnd+flsd+gamd+gand+gasd+hid+idd+ilcd+ilnd+ilsd+innd+insd+iand+iasd+ksd+kyed+kywd+laed+lamd+lawd+med+mdd+mad+mied+miwd+mnd+msnd+mssd+moed+mowd+mtd+ned+nvd+nhd+njd+nmd+nyed+nynd+nysd+nywd+nced+ncmd+ncwd+ndd+ohnd+ohsd+oked+oknd+okwd+ord+paed+pamd+pawd+rid+scd+sdd+tned+tnmd+tnwd+txed+txnd+txsd+txwd+utd+vtd+vaed+vawd+waed+wawd+wvnd+wvsd+wied+wiwd+wyd+gud+nmid+prd+vid&cursor=cz0xMzM5ODY1MzAwMDAwMC4wJnM9NjkwMTA5MTQmdD1yJmQ9MjAyNS0wMS0yOA%3D%3D&filed_after=01%2F01%2F2024&filed_before=01%2F01%2F2025&order_by=dateFiled+desc&q=%22Cybersecurity%22+OR+%22Data+Privacy%22+OR+%22Data+Security%22+OR+%22GDPR%22+OR+%22Data+Protection%22+OR+%22Blockchain%22&type=r\n"
     ]
    },
    {
     "name": "stderr",
     "output_type": "stream",
     "text": [
      "Fetching Results: 900batch [04:03,  3.86batch/s, Fetched=900]"
     ]
    },
    {
     "name": "stdout",
     "output_type": "stream",
     "text": [
      "Estimated Time Remaining: 10.82 seconds\n",
      "Fetching: https://www.courtlistener.com/api/rest/v4/search/?court=scotus+ca1+ca2+ca3+ca4+ca5+ca6+ca7+ca8+ca9+ca10+ca11+cadc+cafc+dcd+almd+alnd+alsd+akd+azd+ared+arwd+cacd+caed+cand+casd+cod+ctd+ded+flmd+flnd+flsd+gamd+gand+gasd+hid+idd+ilcd+ilnd+ilsd+innd+insd+iand+iasd+ksd+kyed+kywd+laed+lamd+lawd+med+mdd+mad+mied+miwd+mnd+msnd+mssd+moed+mowd+mtd+ned+nvd+nhd+njd+nmd+nyed+nynd+nysd+nywd+nced+ncmd+ncwd+ndd+ohnd+ohsd+oked+oknd+okwd+ord+paed+pamd+pawd+rid+scd+sdd+tned+tnmd+tnwd+txed+txnd+txsd+txwd+utd+vtd+vaed+vawd+waed+wawd+wvnd+wvsd+wied+wiwd+wyd+gud+nmid+prd+vid&cursor=cz0xMzM5ODQ4MDAwMDAwMC4wJnM9NjkwMDUwMDMmdD1yJmQ9MjAyNS0wMS0yOA%3D%3D&filed_after=01%2F01%2F2024&filed_before=01%2F01%2F2025&order_by=dateFiled+desc&q=%22Cybersecurity%22+OR+%22Data+Privacy%22+OR+%22Data+Security%22+OR+%22GDPR%22+OR+%22Data+Protection%22+OR+%22Blockchain%22&type=r\n"
     ]
    },
    {
     "name": "stderr",
     "output_type": "stream",
     "text": [
      "Fetching Results: 920batch [04:10,  3.47batch/s, Fetched=920]"
     ]
    },
    {
     "name": "stdout",
     "output_type": "stream",
     "text": [
      "Estimated Time Remaining: 10.90 seconds\n",
      "Fetching: https://www.courtlistener.com/api/rest/v4/search/?court=scotus+ca1+ca2+ca3+ca4+ca5+ca6+ca7+ca8+ca9+ca10+ca11+cadc+cafc+dcd+almd+alnd+alsd+akd+azd+ared+arwd+cacd+caed+cand+casd+cod+ctd+ded+flmd+flnd+flsd+gamd+gand+gasd+hid+idd+ilcd+ilnd+ilsd+innd+insd+iand+iasd+ksd+kyed+kywd+laed+lamd+lawd+med+mdd+mad+mied+miwd+mnd+msnd+mssd+moed+mowd+mtd+ned+nvd+nhd+njd+nmd+nyed+nynd+nysd+nywd+nced+ncmd+ncwd+ndd+ohnd+ohsd+oked+oknd+okwd+ord+paed+pamd+pawd+rid+scd+sdd+tned+tnmd+tnwd+txed+txnd+txsd+txwd+utd+vtd+vaed+vawd+waed+wawd+wvnd+wvsd+wied+wiwd+wyd+gud+nmid+prd+vid&cursor=cz0xMzM5ODMwNzAwMDAwMC4wJnM9Njg5OTgxNjQmdD1yJmQ9MjAyNS0wMS0yOA%3D%3D&filed_after=01%2F01%2F2024&filed_before=01%2F01%2F2025&order_by=dateFiled+desc&q=%22Cybersecurity%22+OR+%22Data+Privacy%22+OR+%22Data+Security%22+OR+%22GDPR%22+OR+%22Data+Protection%22+OR+%22Blockchain%22&type=r\n"
     ]
    },
    {
     "name": "stderr",
     "output_type": "stream",
     "text": [
      "Fetching Results: 940batch [04:17,  3.36batch/s, Fetched=940]"
     ]
    },
    {
     "name": "stdout",
     "output_type": "stream",
     "text": [
      "Estimated Time Remaining: 10.94 seconds\n",
      "Fetching: https://www.courtlistener.com/api/rest/v4/search/?court=scotus+ca1+ca2+ca3+ca4+ca5+ca6+ca7+ca8+ca9+ca10+ca11+cadc+cafc+dcd+almd+alnd+alsd+akd+azd+ared+arwd+cacd+caed+cand+casd+cod+ctd+ded+flmd+flnd+flsd+gamd+gand+gasd+hid+idd+ilcd+ilnd+ilsd+innd+insd+iand+iasd+ksd+kyed+kywd+laed+lamd+lawd+med+mdd+mad+mied+miwd+mnd+msnd+mssd+moed+mowd+mtd+ned+nvd+nhd+njd+nmd+nyed+nynd+nysd+nywd+nced+ncmd+ncwd+ndd+ohnd+ohsd+oked+oknd+okwd+ord+paed+pamd+pawd+rid+scd+sdd+tned+tnmd+tnwd+txed+txnd+txsd+txwd+utd+vtd+vaed+vawd+waed+wawd+wvnd+wvsd+wied+wiwd+wyd+gud+nmid+prd+vid&cursor=cz0xMzM5ODA0ODAwMDAwMC4wJnM9Njg5ODE5MTYmdD1yJmQ9MjAyNS0wMS0yOA%3D%3D&filed_after=01%2F01%2F2024&filed_before=01%2F01%2F2025&order_by=dateFiled+desc&q=%22Cybersecurity%22+OR+%22Data+Privacy%22+OR+%22Data+Security%22+OR+%22GDPR%22+OR+%22Data+Protection%22+OR+%22Blockchain%22&type=r\n"
     ]
    },
    {
     "name": "stderr",
     "output_type": "stream",
     "text": [
      "Fetching Results: 960batch [04:26,  2.79batch/s, Fetched=960]"
     ]
    },
    {
     "name": "stdout",
     "output_type": "stream",
     "text": [
      "Estimated Time Remaining: 11.12 seconds\n",
      "Fetching: https://www.courtlistener.com/api/rest/v4/search/?court=scotus+ca1+ca2+ca3+ca4+ca5+ca6+ca7+ca8+ca9+ca10+ca11+cadc+cafc+dcd+almd+alnd+alsd+akd+azd+ared+arwd+cacd+caed+cand+casd+cod+ctd+ded+flmd+flnd+flsd+gamd+gand+gasd+hid+idd+ilcd+ilnd+ilsd+innd+insd+iand+iasd+ksd+kyed+kywd+laed+lamd+lawd+med+mdd+mad+mied+miwd+mnd+msnd+mssd+moed+mowd+mtd+ned+nvd+nhd+njd+nmd+nyed+nynd+nysd+nywd+nced+ncmd+ncwd+ndd+ohnd+ohsd+oked+oknd+okwd+ord+paed+pamd+pawd+rid+scd+sdd+tned+tnmd+tnwd+txed+txnd+txsd+txwd+utd+vtd+vaed+vawd+waed+wawd+wvnd+wvsd+wied+wiwd+wyd+gud+nmid+prd+vid&cursor=cz0xMzM5Nzg3NTAwMDAwMC4wJnM9Njg5NzQxMDYmdD1yJmQ9MjAyNS0wMS0yOA%3D%3D&filed_after=01%2F01%2F2024&filed_before=01%2F01%2F2025&order_by=dateFiled+desc&q=%22Cybersecurity%22+OR+%22Data+Privacy%22+OR+%22Data+Security%22+OR+%22GDPR%22+OR+%22Data+Protection%22+OR+%22Blockchain%22&type=r\n"
     ]
    },
    {
     "name": "stderr",
     "output_type": "stream",
     "text": [
      "Fetching Results: 980batch [04:34,  2.77batch/s, Fetched=980]"
     ]
    },
    {
     "name": "stdout",
     "output_type": "stream",
     "text": [
      "Estimated Time Remaining: 11.20 seconds\n",
      "Fetching: https://www.courtlistener.com/api/rest/v4/search/?court=scotus+ca1+ca2+ca3+ca4+ca5+ca6+ca7+ca8+ca9+ca10+ca11+cadc+cafc+dcd+almd+alnd+alsd+akd+azd+ared+arwd+cacd+caed+cand+casd+cod+ctd+ded+flmd+flnd+flsd+gamd+gand+gasd+hid+idd+ilcd+ilnd+ilsd+innd+insd+iand+iasd+ksd+kyed+kywd+laed+lamd+lawd+med+mdd+mad+mied+miwd+mnd+msnd+mssd+moed+mowd+mtd+ned+nvd+nhd+njd+nmd+nyed+nynd+nysd+nywd+nced+ncmd+ncwd+ndd+ohnd+ohsd+oked+oknd+okwd+ord+paed+pamd+pawd+rid+scd+sdd+tned+tnmd+tnwd+txed+txnd+txsd+txwd+utd+vtd+vaed+vawd+waed+wawd+wvnd+wvsd+wied+wiwd+wyd+gud+nmid+prd+vid&cursor=cz0xMzM5NzcwMzAwMDAwMC4wJnM9Njg5NjU5NDYmdD1yJmQ9MjAyNS0wMS0yOA%3D%3D&filed_after=01%2F01%2F2024&filed_before=01%2F01%2F2025&order_by=dateFiled+desc&q=%22Cybersecurity%22+OR+%22Data+Privacy%22+OR+%22Data+Security%22+OR+%22GDPR%22+OR+%22Data+Protection%22+OR+%22Blockchain%22&type=r\n"
     ]
    },
    {
     "name": "stderr",
     "output_type": "stream",
     "text": [
      "Fetching Results: 1000batch [04:40,  2.85batch/s, Fetched=1000]"
     ]
    },
    {
     "name": "stdout",
     "output_type": "stream",
     "text": [
      "Estimated Time Remaining: 11.23 seconds\n",
      "Fetching: https://www.courtlistener.com/api/rest/v4/search/?court=scotus+ca1+ca2+ca3+ca4+ca5+ca6+ca7+ca8+ca9+ca10+ca11+cadc+cafc+dcd+almd+alnd+alsd+akd+azd+ared+arwd+cacd+caed+cand+casd+cod+ctd+ded+flmd+flnd+flsd+gamd+gand+gasd+hid+idd+ilcd+ilnd+ilsd+innd+insd+iand+iasd+ksd+kyed+kywd+laed+lamd+lawd+med+mdd+mad+mied+miwd+mnd+msnd+mssd+moed+mowd+mtd+ned+nvd+nhd+njd+nmd+nyed+nynd+nysd+nywd+nced+ncmd+ncwd+ndd+ohnd+ohsd+oked+oknd+okwd+ord+paed+pamd+pawd+rid+scd+sdd+tned+tnmd+tnwd+txed+txnd+txsd+txwd+utd+vtd+vaed+vawd+waed+wawd+wvnd+wvsd+wied+wiwd+wyd+gud+nmid+prd+vid&cursor=cz0xMzM5NzM1NzAwMDAwMC4wJnM9Njg5NTYzNDMmdD1yJmQ9MjAyNS0wMS0yOA%3D%3D&filed_after=01%2F01%2F2024&filed_before=01%2F01%2F2025&order_by=dateFiled+desc&q=%22Cybersecurity%22+OR+%22Data+Privacy%22+OR+%22Data+Security%22+OR+%22GDPR%22+OR+%22Data+Protection%22+OR+%22Blockchain%22&type=r\n"
     ]
    },
    {
     "name": "stderr",
     "output_type": "stream",
     "text": [
      "Fetching Results: 1020batch [04:51,  2.49batch/s, Fetched=1020]"
     ]
    },
    {
     "name": "stdout",
     "output_type": "stream",
     "text": [
      "Estimated Time Remaining: 11.42 seconds\n",
      "Fetching: https://www.courtlistener.com/api/rest/v4/search/?court=scotus+ca1+ca2+ca3+ca4+ca5+ca6+ca7+ca8+ca9+ca10+ca11+cadc+cafc+dcd+almd+alnd+alsd+akd+azd+ared+arwd+cacd+caed+cand+casd+cod+ctd+ded+flmd+flnd+flsd+gamd+gand+gasd+hid+idd+ilcd+ilnd+ilsd+innd+insd+iand+iasd+ksd+kyed+kywd+laed+lamd+lawd+med+mdd+mad+mied+miwd+mnd+msnd+mssd+moed+mowd+mtd+ned+nvd+nhd+njd+nmd+nyed+nynd+nysd+nywd+nced+ncmd+ncwd+ndd+ohnd+ohsd+oked+oknd+okwd+ord+paed+pamd+pawd+rid+scd+sdd+tned+tnmd+tnwd+txed+txnd+txsd+txwd+utd+vtd+vaed+vawd+waed+wawd+wvnd+wvsd+wied+wiwd+wyd+gud+nmid+prd+vid&cursor=cz0xMzM5NzE4NDAwMDAwMC4wJnM9Njg5NTAxMzQmdD1yJmQ9MjAyNS0wMS0yOA%3D%3D&filed_after=01%2F01%2F2024&filed_before=01%2F01%2F2025&order_by=dateFiled+desc&q=%22Cybersecurity%22+OR+%22Data+Privacy%22+OR+%22Data+Security%22+OR+%22GDPR%22+OR+%22Data+Protection%22+OR+%22Blockchain%22&type=r\n"
     ]
    },
    {
     "name": "stderr",
     "output_type": "stream",
     "text": [
      "Fetching Results: 1040batch [05:00,  2.36batch/s, Fetched=1040]"
     ]
    },
    {
     "name": "stdout",
     "output_type": "stream",
     "text": [
      "Estimated Time Remaining: 11.57 seconds\n",
      "Fetching: https://www.courtlistener.com/api/rest/v4/search/?court=scotus+ca1+ca2+ca3+ca4+ca5+ca6+ca7+ca8+ca9+ca10+ca11+cadc+cafc+dcd+almd+alnd+alsd+akd+azd+ared+arwd+cacd+caed+cand+casd+cod+ctd+ded+flmd+flnd+flsd+gamd+gand+gasd+hid+idd+ilcd+ilnd+ilsd+innd+insd+iand+iasd+ksd+kyed+kywd+laed+lamd+lawd+med+mdd+mad+mied+miwd+mnd+msnd+mssd+moed+mowd+mtd+ned+nvd+nhd+njd+nmd+nyed+nynd+nysd+nywd+nced+ncmd+ncwd+ndd+ohnd+ohsd+oked+oknd+okwd+ord+paed+pamd+pawd+rid+scd+sdd+tned+tnmd+tnwd+txed+txnd+txsd+txwd+utd+vtd+vaed+vawd+waed+wawd+wvnd+wvsd+wied+wiwd+wyd+gud+nmid+prd+vid&cursor=cz0xMzM5NzA5ODAwMDAwMC4wJnM9Njg5NDI3NzkmdD1yJmQ9MjAyNS0wMS0yOA%3D%3D&filed_after=01%2F01%2F2024&filed_before=01%2F01%2F2025&order_by=dateFiled+desc&q=%22Cybersecurity%22+OR+%22Data+Privacy%22+OR+%22Data+Security%22+OR+%22GDPR%22+OR+%22Data+Protection%22+OR+%22Blockchain%22&type=r\n"
     ]
    },
    {
     "name": "stderr",
     "output_type": "stream",
     "text": [
      "Fetching Results: 1060batch [05:10,  2.24batch/s, Fetched=1060]"
     ]
    },
    {
     "name": "stdout",
     "output_type": "stream",
     "text": [
      "Estimated Time Remaining: 11.73 seconds\n",
      "Fetching: https://www.courtlistener.com/api/rest/v4/search/?court=scotus+ca1+ca2+ca3+ca4+ca5+ca6+ca7+ca8+ca9+ca10+ca11+cadc+cafc+dcd+almd+alnd+alsd+akd+azd+ared+arwd+cacd+caed+cand+casd+cod+ctd+ded+flmd+flnd+flsd+gamd+gand+gasd+hid+idd+ilcd+ilnd+ilsd+innd+insd+iand+iasd+ksd+kyed+kywd+laed+lamd+lawd+med+mdd+mad+mied+miwd+mnd+msnd+mssd+moed+mowd+mtd+ned+nvd+nhd+njd+nmd+nyed+nynd+nysd+nywd+nced+ncmd+ncwd+ndd+ohnd+ohsd+oked+oknd+okwd+ord+paed+pamd+pawd+rid+scd+sdd+tned+tnmd+tnwd+txed+txnd+txsd+txwd+utd+vtd+vaed+vawd+waed+wawd+wvnd+wvsd+wied+wiwd+wyd+gud+nmid+prd+vid&cursor=cz0xMzM5NjY2NjAwMDAwMC4wJnM9Njg5MzUyNzEmdD1yJmQ9MjAyNS0wMS0yOA%3D%3D&filed_after=01%2F01%2F2024&filed_before=01%2F01%2F2025&order_by=dateFiled+desc&q=%22Cybersecurity%22+OR+%22Data+Privacy%22+OR+%22Data+Security%22+OR+%22GDPR%22+OR+%22Data+Protection%22+OR+%22Blockchain%22&type=r\n"
     ]
    },
    {
     "name": "stderr",
     "output_type": "stream",
     "text": [
      "Fetching Results: 1080batch [05:15,  2.62batch/s, Fetched=1080]"
     ]
    },
    {
     "name": "stdout",
     "output_type": "stream",
     "text": [
      "Estimated Time Remaining: 11.68 seconds\n",
      "Fetching: https://www.courtlistener.com/api/rest/v4/search/?court=scotus+ca1+ca2+ca3+ca4+ca5+ca6+ca7+ca8+ca9+ca10+ca11+cadc+cafc+dcd+almd+alnd+alsd+akd+azd+ared+arwd+cacd+caed+cand+casd+cod+ctd+ded+flmd+flnd+flsd+gamd+gand+gasd+hid+idd+ilcd+ilnd+ilsd+innd+insd+iand+iasd+ksd+kyed+kywd+laed+lamd+lawd+med+mdd+mad+mied+miwd+mnd+msnd+mssd+moed+mowd+mtd+ned+nvd+nhd+njd+nmd+nyed+nynd+nysd+nywd+nced+ncmd+ncwd+ndd+ohnd+ohsd+oked+oknd+okwd+ord+paed+pamd+pawd+rid+scd+sdd+tned+tnmd+tnwd+txed+txnd+txsd+txwd+utd+vtd+vaed+vawd+waed+wawd+wvnd+wvsd+wied+wiwd+wyd+gud+nmid+prd+vid&cursor=cz0xMzM5NjQ5MzAwMDAwMC4wJnM9Njg5Mjc0NTUmdD1yJmQ9MjAyNS0wMS0yOA%3D%3D&filed_after=01%2F01%2F2024&filed_before=01%2F01%2F2025&order_by=dateFiled+desc&q=%22Cybersecurity%22+OR+%22Data+Privacy%22+OR+%22Data+Security%22+OR+%22GDPR%22+OR+%22Data+Protection%22+OR+%22Blockchain%22&type=r\n"
     ]
    },
    {
     "name": "stderr",
     "output_type": "stream",
     "text": [
      "Fetching Results: 1100batch [05:20,  2.96batch/s, Fetched=1100]"
     ]
    },
    {
     "name": "stdout",
     "output_type": "stream",
     "text": [
      "Estimated Time Remaining: 11.64 seconds\n",
      "Fetching: https://www.courtlistener.com/api/rest/v4/search/?court=scotus+ca1+ca2+ca3+ca4+ca5+ca6+ca7+ca8+ca9+ca10+ca11+cadc+cafc+dcd+almd+alnd+alsd+akd+azd+ared+arwd+cacd+caed+cand+casd+cod+ctd+ded+flmd+flnd+flsd+gamd+gand+gasd+hid+idd+ilcd+ilnd+ilsd+innd+insd+iand+iasd+ksd+kyed+kywd+laed+lamd+lawd+med+mdd+mad+mied+miwd+mnd+msnd+mssd+moed+mowd+mtd+ned+nvd+nhd+njd+nmd+nyed+nynd+nysd+nywd+nced+ncmd+ncwd+ndd+ohnd+ohsd+oked+oknd+okwd+ord+paed+pamd+pawd+rid+scd+sdd+tned+tnmd+tnwd+txed+txnd+txsd+txwd+utd+vtd+vaed+vawd+waed+wawd+wvnd+wvsd+wied+wiwd+wyd+gud+nmid+prd+vid&cursor=cz0xMzM5NjA2MTAwMDAwMC4wJnM9Njg5MTY5MDEmdD1yJmQ9MjAyNS0wMS0yOA%3D%3D&filed_after=01%2F01%2F2024&filed_before=01%2F01%2F2025&order_by=dateFiled+desc&q=%22Cybersecurity%22+OR+%22Data+Privacy%22+OR+%22Data+Security%22+OR+%22GDPR%22+OR+%22Data+Protection%22+OR+%22Blockchain%22&type=r\n"
     ]
    },
    {
     "name": "stderr",
     "output_type": "stream",
     "text": [
      "Fetching Results: 1120batch [05:28,  2.75batch/s, Fetched=1120]"
     ]
    },
    {
     "name": "stdout",
     "output_type": "stream",
     "text": [
      "Estimated Time Remaining: 11.74 seconds\n",
      "Fetching: https://www.courtlistener.com/api/rest/v4/search/?court=scotus+ca1+ca2+ca3+ca4+ca5+ca6+ca7+ca8+ca9+ca10+ca11+cadc+cafc+dcd+almd+alnd+alsd+akd+azd+ared+arwd+cacd+caed+cand+casd+cod+ctd+ded+flmd+flnd+flsd+gamd+gand+gasd+hid+idd+ilcd+ilnd+ilsd+innd+insd+iand+iasd+ksd+kyed+kywd+laed+lamd+lawd+med+mdd+mad+mied+miwd+mnd+msnd+mssd+moed+mowd+mtd+ned+nvd+nhd+njd+nmd+nyed+nynd+nysd+nywd+nced+ncmd+ncwd+ndd+ohnd+ohsd+oked+oknd+okwd+ord+paed+pamd+pawd+rid+scd+sdd+tned+tnmd+tnwd+txed+txnd+txsd+txwd+utd+vtd+vaed+vawd+waed+wawd+wvnd+wvsd+wied+wiwd+wyd+gud+nmid+prd+vid&cursor=cz0xMzM5NTk3NTAwMDAwMC4wJnM9Njg5MDg0MTImdD1yJmQ9MjAyNS0wMS0yOA%3D%3D&filed_after=01%2F01%2F2024&filed_before=01%2F01%2F2025&order_by=dateFiled+desc&q=%22Cybersecurity%22+OR+%22Data+Privacy%22+OR+%22Data+Security%22+OR+%22GDPR%22+OR+%22Data+Protection%22+OR+%22Blockchain%22&type=r\n"
     ]
    },
    {
     "name": "stderr",
     "output_type": "stream",
     "text": [
      "Fetching Results: 1140batch [05:39,  2.43batch/s, Fetched=1140]"
     ]
    },
    {
     "name": "stdout",
     "output_type": "stream",
     "text": [
      "Estimated Time Remaining: 11.90 seconds\n",
      "Fetching: https://www.courtlistener.com/api/rest/v4/search/?court=scotus+ca1+ca2+ca3+ca4+ca5+ca6+ca7+ca8+ca9+ca10+ca11+cadc+cafc+dcd+almd+alnd+alsd+akd+azd+ared+arwd+cacd+caed+cand+casd+cod+ctd+ded+flmd+flnd+flsd+gamd+gand+gasd+hid+idd+ilcd+ilnd+ilsd+innd+insd+iand+iasd+ksd+kyed+kywd+laed+lamd+lawd+med+mdd+mad+mied+miwd+mnd+msnd+mssd+moed+mowd+mtd+ned+nvd+nhd+njd+nmd+nyed+nynd+nysd+nywd+nced+ncmd+ncwd+ndd+ohnd+ohsd+oked+oknd+okwd+ord+paed+pamd+pawd+rid+scd+sdd+tned+tnmd+tnwd+txed+txnd+txsd+txwd+utd+vtd+vaed+vawd+waed+wawd+wvnd+wvsd+wied+wiwd+wyd+gud+nmid+prd+vid&cursor=cz0xMzM5NTYyOTAwMDAwMC4wJnM9Njg5MDEzMjAmdD1yJmQ9MjAyNS0wMS0yOA%3D%3D&filed_after=01%2F01%2F2024&filed_before=01%2F01%2F2025&order_by=dateFiled+desc&q=%22Cybersecurity%22+OR+%22Data+Privacy%22+OR+%22Data+Security%22+OR+%22GDPR%22+OR+%22Data+Protection%22+OR+%22Blockchain%22&type=r\n"
     ]
    },
    {
     "name": "stderr",
     "output_type": "stream",
     "text": [
      "Fetching Results: 1160batch [05:43,  2.81batch/s, Fetched=1160]"
     ]
    },
    {
     "name": "stdout",
     "output_type": "stream",
     "text": [
      "Estimated Time Remaining: 11.85 seconds\n",
      "Fetching: https://www.courtlistener.com/api/rest/v4/search/?court=scotus+ca1+ca2+ca3+ca4+ca5+ca6+ca7+ca8+ca9+ca10+ca11+cadc+cafc+dcd+almd+alnd+alsd+akd+azd+ared+arwd+cacd+caed+cand+casd+cod+ctd+ded+flmd+flnd+flsd+gamd+gand+gasd+hid+idd+ilcd+ilnd+ilsd+innd+insd+iand+iasd+ksd+kyed+kywd+laed+lamd+lawd+med+mdd+mad+mied+miwd+mnd+msnd+mssd+moed+mowd+mtd+ned+nvd+nhd+njd+nmd+nyed+nynd+nysd+nywd+nced+ncmd+ncwd+ndd+ohnd+ohsd+oked+oknd+okwd+ord+paed+pamd+pawd+rid+scd+sdd+tned+tnmd+tnwd+txed+txnd+txsd+txwd+utd+vtd+vaed+vawd+waed+wawd+wvnd+wvsd+wied+wiwd+wyd+gud+nmid+prd+vid&cursor=cz0xMzM5NTU0MzAwMDAwMC4wJnM9Njg4OTA5MDUmdD1yJmQ9MjAyNS0wMS0yOA%3D%3D&filed_after=01%2F01%2F2024&filed_before=01%2F01%2F2025&order_by=dateFiled+desc&q=%22Cybersecurity%22+OR+%22Data+Privacy%22+OR+%22Data+Security%22+OR+%22GDPR%22+OR+%22Data+Protection%22+OR+%22Blockchain%22&type=r\n"
     ]
    },
    {
     "name": "stderr",
     "output_type": "stream",
     "text": [
      "Fetching Results: 1180batch [05:48,  3.14batch/s, Fetched=1180]"
     ]
    },
    {
     "name": "stdout",
     "output_type": "stream",
     "text": [
      "Estimated Time Remaining: 11.80 seconds\n",
      "Fetching: https://www.courtlistener.com/api/rest/v4/search/?court=scotus+ca1+ca2+ca3+ca4+ca5+ca6+ca7+ca8+ca9+ca10+ca11+cadc+cafc+dcd+almd+alnd+alsd+akd+azd+ared+arwd+cacd+caed+cand+casd+cod+ctd+ded+flmd+flnd+flsd+gamd+gand+gasd+hid+idd+ilcd+ilnd+ilsd+innd+insd+iand+iasd+ksd+kyed+kywd+laed+lamd+lawd+med+mdd+mad+mied+miwd+mnd+msnd+mssd+moed+mowd+mtd+ned+nvd+nhd+njd+nmd+nyed+nynd+nysd+nywd+nced+ncmd+ncwd+ndd+ohnd+ohsd+oked+oknd+okwd+ord+paed+pamd+pawd+rid+scd+sdd+tned+tnmd+tnwd+txed+txnd+txsd+txwd+utd+vtd+vaed+vawd+waed+wawd+wvnd+wvsd+wied+wiwd+wyd+gud+nmid+prd+vid&cursor=cz0xMzM5NTI4NDAwMDAwMC4wJnM9Njg4NzkwMDEmdD1yJmQ9MjAyNS0wMS0yOA%3D%3D&filed_after=01%2F01%2F2024&filed_before=01%2F01%2F2025&order_by=dateFiled+desc&q=%22Cybersecurity%22+OR+%22Data+Privacy%22+OR+%22Data+Security%22+OR+%22GDPR%22+OR+%22Data+Protection%22+OR+%22Blockchain%22&type=r\n"
     ]
    },
    {
     "name": "stderr",
     "output_type": "stream",
     "text": [
      "Fetching Results: 1200batch [05:52,  3.40batch/s, Fetched=1200]"
     ]
    },
    {
     "name": "stdout",
     "output_type": "stream",
     "text": [
      "Estimated Time Remaining: 11.76 seconds\n",
      "Fetching: https://www.courtlistener.com/api/rest/v4/search/?court=scotus+ca1+ca2+ca3+ca4+ca5+ca6+ca7+ca8+ca9+ca10+ca11+cadc+cafc+dcd+almd+alnd+alsd+akd+azd+ared+arwd+cacd+caed+cand+casd+cod+ctd+ded+flmd+flnd+flsd+gamd+gand+gasd+hid+idd+ilcd+ilnd+ilsd+innd+insd+iand+iasd+ksd+kyed+kywd+laed+lamd+lawd+med+mdd+mad+mied+miwd+mnd+msnd+mssd+moed+mowd+mtd+ned+nvd+nhd+njd+nmd+nyed+nynd+nysd+nywd+nced+ncmd+ncwd+ndd+ohnd+ohsd+oked+oknd+okwd+ord+paed+pamd+pawd+rid+scd+sdd+tned+tnmd+tnwd+txed+txnd+txsd+txwd+utd+vtd+vaed+vawd+waed+wawd+wvnd+wvsd+wied+wiwd+wyd+gud+nmid+prd+vid&cursor=cz0xMzM5NDkzODAwMDAwMC4wJnM9Njg4NzcwMTUmdD1yJmQ9MjAyNS0wMS0yOA%3D%3D&filed_after=01%2F01%2F2024&filed_before=01%2F01%2F2025&order_by=dateFiled+desc&q=%22Cybersecurity%22+OR+%22Data+Privacy%22+OR+%22Data+Security%22+OR+%22GDPR%22+OR+%22Data+Protection%22+OR+%22Blockchain%22&type=r\n"
     ]
    },
    {
     "name": "stderr",
     "output_type": "stream",
     "text": [
      "Fetching Results: 1220batch [05:58,  3.37batch/s, Fetched=1220]"
     ]
    },
    {
     "name": "stdout",
     "output_type": "stream",
     "text": [
      "Estimated Time Remaining: 11.77 seconds\n",
      "Fetching: https://www.courtlistener.com/api/rest/v4/search/?court=scotus+ca1+ca2+ca3+ca4+ca5+ca6+ca7+ca8+ca9+ca10+ca11+cadc+cafc+dcd+almd+alnd+alsd+akd+azd+ared+arwd+cacd+caed+cand+casd+cod+ctd+ded+flmd+flnd+flsd+gamd+gand+gasd+hid+idd+ilcd+ilnd+ilsd+innd+insd+iand+iasd+ksd+kyed+kywd+laed+lamd+lawd+med+mdd+mad+mied+miwd+mnd+msnd+mssd+moed+mowd+mtd+ned+nvd+nhd+njd+nmd+nyed+nynd+nysd+nywd+nced+ncmd+ncwd+ndd+ohnd+ohsd+oked+oknd+okwd+ord+paed+pamd+pawd+rid+scd+sdd+tned+tnmd+tnwd+txed+txnd+txsd+txwd+utd+vtd+vaed+vawd+waed+wawd+wvnd+wvsd+wied+wiwd+wyd+gud+nmid+prd+vid&cursor=cz0xMzM5NDc2NTAwMDAwMC4wJnM9Njg4NjQ2MzAmdD1yJmQ9MjAyNS0wMS0yOA%3D%3D&filed_after=01%2F01%2F2024&filed_before=01%2F01%2F2025&order_by=dateFiled+desc&q=%22Cybersecurity%22+OR+%22Data+Privacy%22+OR+%22Data+Security%22+OR+%22GDPR%22+OR+%22Data+Protection%22+OR+%22Blockchain%22&type=r\n"
     ]
    },
    {
     "name": "stderr",
     "output_type": "stream",
     "text": [
      "Fetching Results: 1240batch [06:05,  3.22batch/s, Fetched=1240]"
     ]
    },
    {
     "name": "stdout",
     "output_type": "stream",
     "text": [
      "Estimated Time Remaining: 11.80 seconds\n",
      "Fetching: https://www.courtlistener.com/api/rest/v4/search/?court=scotus+ca1+ca2+ca3+ca4+ca5+ca6+ca7+ca8+ca9+ca10+ca11+cadc+cafc+dcd+almd+alnd+alsd+akd+azd+ared+arwd+cacd+caed+cand+casd+cod+ctd+ded+flmd+flnd+flsd+gamd+gand+gasd+hid+idd+ilcd+ilnd+ilsd+innd+insd+iand+iasd+ksd+kyed+kywd+laed+lamd+lawd+med+mdd+mad+mied+miwd+mnd+msnd+mssd+moed+mowd+mtd+ned+nvd+nhd+njd+nmd+nyed+nynd+nysd+nywd+nced+ncmd+ncwd+ndd+ohnd+ohsd+oked+oknd+okwd+ord+paed+pamd+pawd+rid+scd+sdd+tned+tnmd+tnwd+txed+txnd+txsd+txwd+utd+vtd+vaed+vawd+waed+wawd+wvnd+wvsd+wied+wiwd+wyd+gud+nmid+prd+vid&cursor=cz0xMzM5NDQyMDAwMDAwMC4wJnM9Njg4NjE0MTAmdD1yJmQ9MjAyNS0wMS0yOA%3D%3D&filed_after=01%2F01%2F2024&filed_before=01%2F01%2F2025&order_by=dateFiled+desc&q=%22Cybersecurity%22+OR+%22Data+Privacy%22+OR+%22Data+Security%22+OR+%22GDPR%22+OR+%22Data+Protection%22+OR+%22Blockchain%22&type=r\n"
     ]
    },
    {
     "name": "stderr",
     "output_type": "stream",
     "text": [
      "Fetching Results: 1260batch [06:13,  3.02batch/s, Fetched=1260]"
     ]
    },
    {
     "name": "stdout",
     "output_type": "stream",
     "text": [
      "Estimated Time Remaining: 11.85 seconds\n",
      "Fetching: https://www.courtlistener.com/api/rest/v4/search/?court=scotus+ca1+ca2+ca3+ca4+ca5+ca6+ca7+ca8+ca9+ca10+ca11+cadc+cafc+dcd+almd+alnd+alsd+akd+azd+ared+arwd+cacd+caed+cand+casd+cod+ctd+ded+flmd+flnd+flsd+gamd+gand+gasd+hid+idd+ilcd+ilnd+ilsd+innd+insd+iand+iasd+ksd+kyed+kywd+laed+lamd+lawd+med+mdd+mad+mied+miwd+mnd+msnd+mssd+moed+mowd+mtd+ned+nvd+nhd+njd+nmd+nyed+nynd+nysd+nywd+nced+ncmd+ncwd+ndd+ohnd+ohsd+oked+oknd+okwd+ord+paed+pamd+pawd+rid+scd+sdd+tned+tnmd+tnwd+txed+txnd+txsd+txwd+utd+vtd+vaed+vawd+waed+wawd+wvnd+wvsd+wied+wiwd+wyd+gud+nmid+prd+vid&cursor=cz0xMzM5NDMzMzAwMDAwMC4wJnM9Njg4NTM0MjEmdD1yJmQ9MjAyNS0wMS0yOA%3D%3D&filed_after=01%2F01%2F2024&filed_before=01%2F01%2F2025&order_by=dateFiled+desc&q=%22Cybersecurity%22+OR+%22Data+Privacy%22+OR+%22Data+Security%22+OR+%22GDPR%22+OR+%22Data+Protection%22+OR+%22Blockchain%22&type=r\n"
     ]
    },
    {
     "name": "stderr",
     "output_type": "stream",
     "text": [
      "Fetching Results: 1280batch [06:18,  3.27batch/s, Fetched=1280]"
     ]
    },
    {
     "name": "stdout",
     "output_type": "stream",
     "text": [
      "Estimated Time Remaining: 11.82 seconds\n",
      "Fetching: https://www.courtlistener.com/api/rest/v4/search/?court=scotus+ca1+ca2+ca3+ca4+ca5+ca6+ca7+ca8+ca9+ca10+ca11+cadc+cafc+dcd+almd+alnd+alsd+akd+azd+ared+arwd+cacd+caed+cand+casd+cod+ctd+ded+flmd+flnd+flsd+gamd+gand+gasd+hid+idd+ilcd+ilnd+ilsd+innd+insd+iand+iasd+ksd+kyed+kywd+laed+lamd+lawd+med+mdd+mad+mied+miwd+mnd+msnd+mssd+moed+mowd+mtd+ned+nvd+nhd+njd+nmd+nyed+nynd+nysd+nywd+nced+ncmd+ncwd+ndd+ohnd+ohsd+oked+oknd+okwd+ord+paed+pamd+pawd+rid+scd+sdd+tned+tnmd+tnwd+txed+txnd+txsd+txwd+utd+vtd+vaed+vawd+waed+wawd+wvnd+wvsd+wied+wiwd+wyd+gud+nmid+prd+vid&cursor=cz0xMzM5NDE2MDAwMDAwMC4wJnM9Njg4NDc0NDImdD1yJmQ9MjAyNS0wMS0yOA%3D%3D&filed_after=01%2F01%2F2024&filed_before=01%2F01%2F2025&order_by=dateFiled+desc&q=%22Cybersecurity%22+OR+%22Data+Privacy%22+OR+%22Data+Security%22+OR+%22GDPR%22+OR+%22Data+Protection%22+OR+%22Blockchain%22&type=r\n"
     ]
    },
    {
     "name": "stderr",
     "output_type": "stream",
     "text": [
      "Fetching Results: 1300batch [06:28,  2.78batch/s, Fetched=1300]"
     ]
    },
    {
     "name": "stdout",
     "output_type": "stream",
     "text": [
      "Estimated Time Remaining: 11.94 seconds\n",
      "Fetching: https://www.courtlistener.com/api/rest/v4/search/?court=scotus+ca1+ca2+ca3+ca4+ca5+ca6+ca7+ca8+ca9+ca10+ca11+cadc+cafc+dcd+almd+alnd+alsd+akd+azd+ared+arwd+cacd+caed+cand+casd+cod+ctd+ded+flmd+flnd+flsd+gamd+gand+gasd+hid+idd+ilcd+ilnd+ilsd+innd+insd+iand+iasd+ksd+kyed+kywd+laed+lamd+lawd+med+mdd+mad+mied+miwd+mnd+msnd+mssd+moed+mowd+mtd+ned+nvd+nhd+njd+nmd+nyed+nynd+nysd+nywd+nced+ncmd+ncwd+ndd+ohnd+ohsd+oked+oknd+okwd+ord+paed+pamd+pawd+rid+scd+sdd+tned+tnmd+tnwd+txed+txnd+txsd+txwd+utd+vtd+vaed+vawd+waed+wawd+wvnd+wvsd+wied+wiwd+wyd+gud+nmid+prd+vid&cursor=cz0xMzM5NDA3NDAwMDAwMC4wJnM9Njg4NDE1NzcmdD1yJmQ9MjAyNS0wMS0yOA%3D%3D&filed_after=01%2F01%2F2024&filed_before=01%2F01%2F2025&order_by=dateFiled+desc&q=%22Cybersecurity%22+OR+%22Data+Privacy%22+OR+%22Data+Security%22+OR+%22GDPR%22+OR+%22Data+Protection%22+OR+%22Blockchain%22&type=r\n"
     ]
    },
    {
     "name": "stderr",
     "output_type": "stream",
     "text": [
      "Fetching Results: 1320batch [06:34,  2.89batch/s, Fetched=1320]"
     ]
    },
    {
     "name": "stdout",
     "output_type": "stream",
     "text": [
      "Estimated Time Remaining: 11.95 seconds\n",
      "Fetching: https://www.courtlistener.com/api/rest/v4/search/?court=scotus+ca1+ca2+ca3+ca4+ca5+ca6+ca7+ca8+ca9+ca10+ca11+cadc+cafc+dcd+almd+alnd+alsd+akd+azd+ared+arwd+cacd+caed+cand+casd+cod+ctd+ded+flmd+flnd+flsd+gamd+gand+gasd+hid+idd+ilcd+ilnd+ilsd+innd+insd+iand+iasd+ksd+kyed+kywd+laed+lamd+lawd+med+mdd+mad+mied+miwd+mnd+msnd+mssd+moed+mowd+mtd+ned+nvd+nhd+njd+nmd+nyed+nynd+nysd+nywd+nced+ncmd+ncwd+ndd+ohnd+ohsd+oked+oknd+okwd+ord+paed+pamd+pawd+rid+scd+sdd+tned+tnmd+tnwd+txed+txnd+txsd+txwd+utd+vtd+vaed+vawd+waed+wawd+wvnd+wvsd+wied+wiwd+wyd+gud+nmid+prd+vid&cursor=cz0xMzM5MzcyODAwMDAwMC4wJnM9Njg4MzY2MTUmdD1yJmQ9MjAyNS0wMS0yOA%3D%3D&filed_after=01%2F01%2F2024&filed_before=01%2F01%2F2025&order_by=dateFiled+desc&q=%22Cybersecurity%22+OR+%22Data+Privacy%22+OR+%22Data+Security%22+OR+%22GDPR%22+OR+%22Data+Protection%22+OR+%22Blockchain%22&type=r\n"
     ]
    },
    {
     "name": "stderr",
     "output_type": "stream",
     "text": [
      "Fetching Results: 1340batch [06:39,  3.06batch/s, Fetched=1340]"
     ]
    },
    {
     "name": "stdout",
     "output_type": "stream",
     "text": [
      "Estimated Time Remaining: 11.94 seconds\n",
      "Fetching: https://www.courtlistener.com/api/rest/v4/search/?court=scotus+ca1+ca2+ca3+ca4+ca5+ca6+ca7+ca8+ca9+ca10+ca11+cadc+cafc+dcd+almd+alnd+alsd+akd+azd+ared+arwd+cacd+caed+cand+casd+cod+ctd+ded+flmd+flnd+flsd+gamd+gand+gasd+hid+idd+ilcd+ilnd+ilsd+innd+insd+iand+iasd+ksd+kyed+kywd+laed+lamd+lawd+med+mdd+mad+mied+miwd+mnd+msnd+mssd+moed+mowd+mtd+ned+nvd+nhd+njd+nmd+nyed+nynd+nysd+nywd+nced+ncmd+ncwd+ndd+ohnd+ohsd+oked+oknd+okwd+ord+paed+pamd+pawd+rid+scd+sdd+tned+tnmd+tnwd+txed+txnd+txsd+txwd+utd+vtd+vaed+vawd+waed+wawd+wvnd+wvsd+wied+wiwd+wyd+gud+nmid+prd+vid&cursor=cz0xMzM5MzU1NjAwMDAwMC4wJnM9Njg4MzIzMDcmdD1yJmQ9MjAyNS0wMS0yOA%3D%3D&filed_after=01%2F01%2F2024&filed_before=01%2F01%2F2025&order_by=dateFiled+desc&q=%22Cybersecurity%22+OR+%22Data+Privacy%22+OR+%22Data+Security%22+OR+%22GDPR%22+OR+%22Data+Protection%22+OR+%22Blockchain%22&type=r\n"
     ]
    },
    {
     "name": "stderr",
     "output_type": "stream",
     "text": [
      "Fetching Results: 1360batch [06:46,  3.01batch/s, Fetched=1360]"
     ]
    },
    {
     "name": "stdout",
     "output_type": "stream",
     "text": [
      "Estimated Time Remaining: 11.97 seconds\n",
      "Fetching: https://www.courtlistener.com/api/rest/v4/search/?court=scotus+ca1+ca2+ca3+ca4+ca5+ca6+ca7+ca8+ca9+ca10+ca11+cadc+cafc+dcd+almd+alnd+alsd+akd+azd+ared+arwd+cacd+caed+cand+casd+cod+ctd+ded+flmd+flnd+flsd+gamd+gand+gasd+hid+idd+ilcd+ilnd+ilsd+innd+insd+iand+iasd+ksd+kyed+kywd+laed+lamd+lawd+med+mdd+mad+mied+miwd+mnd+msnd+mssd+moed+mowd+mtd+ned+nvd+nhd+njd+nmd+nyed+nynd+nysd+nywd+nced+ncmd+ncwd+ndd+ohnd+ohsd+oked+oknd+okwd+ord+paed+pamd+pawd+rid+scd+sdd+tned+tnmd+tnwd+txed+txnd+txsd+txwd+utd+vtd+vaed+vawd+waed+wawd+wvnd+wvsd+wied+wiwd+wyd+gud+nmid+prd+vid&cursor=cz0xMzM5MzIxMDAwMDAwMC4wJnM9Njg4MjIyMDYmdD1yJmQ9MjAyNS0wMS0yOA%3D%3D&filed_after=01%2F01%2F2024&filed_before=01%2F01%2F2025&order_by=dateFiled+desc&q=%22Cybersecurity%22+OR+%22Data+Privacy%22+OR+%22Data+Security%22+OR+%22GDPR%22+OR+%22Data+Protection%22+OR+%22Blockchain%22&type=r\n"
     ]
    },
    {
     "name": "stderr",
     "output_type": "stream",
     "text": [
      "Fetching Results: 1380batch [06:51,  3.34batch/s, Fetched=1380]"
     ]
    },
    {
     "name": "stdout",
     "output_type": "stream",
     "text": [
      "Estimated Time Remaining: 11.92 seconds\n",
      "Fetching: https://www.courtlistener.com/api/rest/v4/search/?court=scotus+ca1+ca2+ca3+ca4+ca5+ca6+ca7+ca8+ca9+ca10+ca11+cadc+cafc+dcd+almd+alnd+alsd+akd+azd+ared+arwd+cacd+caed+cand+casd+cod+ctd+ded+flmd+flnd+flsd+gamd+gand+gasd+hid+idd+ilcd+ilnd+ilsd+innd+insd+iand+iasd+ksd+kyed+kywd+laed+lamd+lawd+med+mdd+mad+mied+miwd+mnd+msnd+mssd+moed+mowd+mtd+ned+nvd+nhd+njd+nmd+nyed+nynd+nysd+nywd+nced+ncmd+ncwd+ndd+ohnd+ohsd+oked+oknd+okwd+ord+paed+pamd+pawd+rid+scd+sdd+tned+tnmd+tnwd+txed+txnd+txsd+txwd+utd+vtd+vaed+vawd+waed+wawd+wvnd+wvsd+wied+wiwd+wyd+gud+nmid+prd+vid&cursor=cz0xMzM5MzAzNzAwMDAwMC4wJnM9Njg5Njc3OTkmdD1yJmQ9MjAyNS0wMS0yOA%3D%3D&filed_after=01%2F01%2F2024&filed_before=01%2F01%2F2025&order_by=dateFiled+desc&q=%22Cybersecurity%22+OR+%22Data+Privacy%22+OR+%22Data+Security%22+OR+%22GDPR%22+OR+%22Data+Protection%22+OR+%22Blockchain%22&type=r\n"
     ]
    },
    {
     "name": "stderr",
     "output_type": "stream",
     "text": [
      "Fetching Results: 1400batch [06:56,  3.52batch/s, Fetched=1400]"
     ]
    },
    {
     "name": "stdout",
     "output_type": "stream",
     "text": [
      "Estimated Time Remaining: 11.89 seconds\n",
      "Fetching: https://www.courtlistener.com/api/rest/v4/search/?court=scotus+ca1+ca2+ca3+ca4+ca5+ca6+ca7+ca8+ca9+ca10+ca11+cadc+cafc+dcd+almd+alnd+alsd+akd+azd+ared+arwd+cacd+caed+cand+casd+cod+ctd+ded+flmd+flnd+flsd+gamd+gand+gasd+hid+idd+ilcd+ilnd+ilsd+innd+insd+iand+iasd+ksd+kyed+kywd+laed+lamd+lawd+med+mdd+mad+mied+miwd+mnd+msnd+mssd+moed+mowd+mtd+ned+nvd+nhd+njd+nmd+nyed+nynd+nysd+nywd+nced+ncmd+ncwd+ndd+ohnd+ohsd+oked+oknd+okwd+ord+paed+pamd+pawd+rid+scd+sdd+tned+tnmd+tnwd+txed+txnd+txsd+txwd+utd+vtd+vaed+vawd+waed+wawd+wvnd+wvsd+wied+wiwd+wyd+gud+nmid+prd+vid&cursor=cz0xMzM5Mjk1MTAwMDAwMC4wJnM9Njg2OTIxODYmdD1yJmQ9MjAyNS0wMS0yOA%3D%3D&filed_after=01%2F01%2F2024&filed_before=01%2F01%2F2025&order_by=dateFiled+desc&q=%22Cybersecurity%22+OR+%22Data+Privacy%22+OR+%22Data+Security%22+OR+%22GDPR%22+OR+%22Data+Protection%22+OR+%22Blockchain%22&type=r\n"
     ]
    },
    {
     "name": "stderr",
     "output_type": "stream",
     "text": [
      "Fetching Results: 1420batch [07:01,  3.62batch/s, Fetched=1420]"
     ]
    },
    {
     "name": "stdout",
     "output_type": "stream",
     "text": [
      "Estimated Time Remaining: 11.87 seconds\n",
      "Fetching: https://www.courtlistener.com/api/rest/v4/search/?court=scotus+ca1+ca2+ca3+ca4+ca5+ca6+ca7+ca8+ca9+ca10+ca11+cadc+cafc+dcd+almd+alnd+alsd+akd+azd+ared+arwd+cacd+caed+cand+casd+cod+ctd+ded+flmd+flnd+flsd+gamd+gand+gasd+hid+idd+ilcd+ilnd+ilsd+innd+insd+iand+iasd+ksd+kyed+kywd+laed+lamd+lawd+med+mdd+mad+mied+miwd+mnd+msnd+mssd+moed+mowd+mtd+ned+nvd+nhd+njd+nmd+nyed+nynd+nysd+nywd+nced+ncmd+ncwd+ndd+ohnd+ohsd+oked+oknd+okwd+ord+paed+pamd+pawd+rid+scd+sdd+tned+tnmd+tnwd+txed+txnd+txsd+txwd+utd+vtd+vaed+vawd+waed+wawd+wvnd+wvsd+wied+wiwd+wyd+gud+nmid+prd+vid&cursor=cz0xMzM5MjUxOTAwMDAwMC4wJnM9Njg1NjEyMDMmdD1yJmQ9MjAyNS0wMS0yOA%3D%3D&filed_after=01%2F01%2F2024&filed_before=01%2F01%2F2025&order_by=dateFiled+desc&q=%22Cybersecurity%22+OR+%22Data+Privacy%22+OR+%22Data+Security%22+OR+%22GDPR%22+OR+%22Data+Protection%22+OR+%22Blockchain%22&type=r\n"
     ]
    },
    {
     "name": "stderr",
     "output_type": "stream",
     "text": [
      "Fetching Results: 1440batch [07:06,  3.72batch/s, Fetched=1440]"
     ]
    },
    {
     "name": "stdout",
     "output_type": "stream",
     "text": [
      "Estimated Time Remaining: 11.85 seconds\n",
      "Fetching: https://www.courtlistener.com/api/rest/v4/search/?court=scotus+ca1+ca2+ca3+ca4+ca5+ca6+ca7+ca8+ca9+ca10+ca11+cadc+cafc+dcd+almd+alnd+alsd+akd+azd+ared+arwd+cacd+caed+cand+casd+cod+ctd+ded+flmd+flnd+flsd+gamd+gand+gasd+hid+idd+ilcd+ilnd+ilsd+innd+insd+iand+iasd+ksd+kyed+kywd+laed+lamd+lawd+med+mdd+mad+mied+miwd+mnd+msnd+mssd+moed+mowd+mtd+ned+nvd+nhd+njd+nmd+nyed+nynd+nysd+nywd+nced+ncmd+ncwd+ndd+ohnd+ohsd+oked+oknd+okwd+ord+paed+pamd+pawd+rid+scd+sdd+tned+tnmd+tnwd+txed+txnd+txsd+txwd+utd+vtd+vaed+vawd+waed+wawd+wvnd+wvsd+wied+wiwd+wyd+gud+nmid+prd+vid&cursor=cz0xMzM5MjI2MDAwMDAwMC4wJnM9Njg1NDgxOTUmdD1yJmQ9MjAyNS0wMS0yOA%3D%3D&filed_after=01%2F01%2F2024&filed_before=01%2F01%2F2025&order_by=dateFiled+desc&q=%22Cybersecurity%22+OR+%22Data+Privacy%22+OR+%22Data+Security%22+OR+%22GDPR%22+OR+%22Data+Protection%22+OR+%22Blockchain%22&type=r\n"
     ]
    },
    {
     "name": "stderr",
     "output_type": "stream",
     "text": [
      "Fetching Results: 1460batch [07:12,  3.65batch/s, Fetched=1460]"
     ]
    },
    {
     "name": "stdout",
     "output_type": "stream",
     "text": [
      "Estimated Time Remaining: 11.84 seconds\n",
      "Fetching: https://www.courtlistener.com/api/rest/v4/search/?court=scotus+ca1+ca2+ca3+ca4+ca5+ca6+ca7+ca8+ca9+ca10+ca11+cadc+cafc+dcd+almd+alnd+alsd+akd+azd+ared+arwd+cacd+caed+cand+casd+cod+ctd+ded+flmd+flnd+flsd+gamd+gand+gasd+hid+idd+ilcd+ilnd+ilsd+innd+insd+iand+iasd+ksd+kyed+kywd+laed+lamd+lawd+med+mdd+mad+mied+miwd+mnd+msnd+mssd+moed+mowd+mtd+ned+nvd+nhd+njd+nmd+nyed+nynd+nysd+nywd+nced+ncmd+ncwd+ndd+ohnd+ohsd+oked+oknd+okwd+ord+paed+pamd+pawd+rid+scd+sdd+tned+tnmd+tnwd+txed+txnd+txsd+txwd+utd+vtd+vaed+vawd+waed+wawd+wvnd+wvsd+wied+wiwd+wyd+gud+nmid+prd+vid&cursor=cz0xMzM5MTkxNDAwMDAwMC4wJnM9Njg1MzgwNTEmdD1yJmQ9MjAyNS0wMS0yOA%3D%3D&filed_after=01%2F01%2F2024&filed_before=01%2F01%2F2025&order_by=dateFiled+desc&q=%22Cybersecurity%22+OR+%22Data+Privacy%22+OR+%22Data+Security%22+OR+%22GDPR%22+OR+%22Data+Protection%22+OR+%22Blockchain%22&type=r\n"
     ]
    },
    {
     "name": "stderr",
     "output_type": "stream",
     "text": [
      "Fetching Results: 1480batch [07:19,  3.39batch/s, Fetched=1480]"
     ]
    },
    {
     "name": "stdout",
     "output_type": "stream",
     "text": [
      "Estimated Time Remaining: 11.87 seconds\n",
      "Fetching: https://www.courtlistener.com/api/rest/v4/search/?court=scotus+ca1+ca2+ca3+ca4+ca5+ca6+ca7+ca8+ca9+ca10+ca11+cadc+cafc+dcd+almd+alnd+alsd+akd+azd+ared+arwd+cacd+caed+cand+casd+cod+ctd+ded+flmd+flnd+flsd+gamd+gand+gasd+hid+idd+ilcd+ilnd+ilsd+innd+insd+iand+iasd+ksd+kyed+kywd+laed+lamd+lawd+med+mdd+mad+mied+miwd+mnd+msnd+mssd+moed+mowd+mtd+ned+nvd+nhd+njd+nmd+nyed+nynd+nysd+nywd+nced+ncmd+ncwd+ndd+ohnd+ohsd+oked+oknd+okwd+ord+paed+pamd+pawd+rid+scd+sdd+tned+tnmd+tnwd+txed+txnd+txsd+txwd+utd+vtd+vaed+vawd+waed+wawd+wvnd+wvsd+wied+wiwd+wyd+gud+nmid+prd+vid&cursor=cz0xMzM5MTgyODAwMDAwMC4wJnM9Njg1MzMyOTMmdD1yJmQ9MjAyNS0wMS0yOA%3D%3D&filed_after=01%2F01%2F2024&filed_before=01%2F01%2F2025&order_by=dateFiled+desc&q=%22Cybersecurity%22+OR+%22Data+Privacy%22+OR+%22Data+Security%22+OR+%22GDPR%22+OR+%22Data+Protection%22+OR+%22Blockchain%22&type=r\n"
     ]
    },
    {
     "name": "stderr",
     "output_type": "stream",
     "text": [
      "Fetching Results: 1500batch [07:24,  3.44batch/s, Fetched=1500]"
     ]
    },
    {
     "name": "stdout",
     "output_type": "stream",
     "text": [
      "Estimated Time Remaining: 11.86 seconds\n",
      "Fetching: https://www.courtlistener.com/api/rest/v4/search/?court=scotus+ca1+ca2+ca3+ca4+ca5+ca6+ca7+ca8+ca9+ca10+ca11+cadc+cafc+dcd+almd+alnd+alsd+akd+azd+ared+arwd+cacd+caed+cand+casd+cod+ctd+ded+flmd+flnd+flsd+gamd+gand+gasd+hid+idd+ilcd+ilnd+ilsd+innd+insd+iand+iasd+ksd+kyed+kywd+laed+lamd+lawd+med+mdd+mad+mied+miwd+mnd+msnd+mssd+moed+mowd+mtd+ned+nvd+nhd+njd+nmd+nyed+nynd+nysd+nywd+nced+ncmd+ncwd+ndd+ohnd+ohsd+oked+oknd+okwd+ord+paed+pamd+pawd+rid+scd+sdd+tned+tnmd+tnwd+txed+txnd+txsd+txwd+utd+vtd+vaed+vawd+waed+wawd+wvnd+wvsd+wied+wiwd+wyd+gud+nmid+prd+vid&cursor=cz0xMzM5MTc0MTAwMDAwMC4wJnM9Njg1MjkxMTImdD1yJmQ9MjAyNS0wMS0yOA%3D%3D&filed_after=01%2F01%2F2024&filed_before=01%2F01%2F2025&order_by=dateFiled+desc&q=%22Cybersecurity%22+OR+%22Data+Privacy%22+OR+%22Data+Security%22+OR+%22GDPR%22+OR+%22Data+Protection%22+OR+%22Blockchain%22&type=r\n"
     ]
    },
    {
     "name": "stderr",
     "output_type": "stream",
     "text": [
      "Fetching Results: 1520batch [07:29,  3.60batch/s, Fetched=1520]"
     ]
    },
    {
     "name": "stdout",
     "output_type": "stream",
     "text": [
      "Estimated Time Remaining: 11.83 seconds\n",
      "Fetching: https://www.courtlistener.com/api/rest/v4/search/?court=scotus+ca1+ca2+ca3+ca4+ca5+ca6+ca7+ca8+ca9+ca10+ca11+cadc+cafc+dcd+almd+alnd+alsd+akd+azd+ared+arwd+cacd+caed+cand+casd+cod+ctd+ded+flmd+flnd+flsd+gamd+gand+gasd+hid+idd+ilcd+ilnd+ilsd+innd+insd+iand+iasd+ksd+kyed+kywd+laed+lamd+lawd+med+mdd+mad+mied+miwd+mnd+msnd+mssd+moed+mowd+mtd+ned+nvd+nhd+njd+nmd+nyed+nynd+nysd+nywd+nced+ncmd+ncwd+ndd+ohnd+ohsd+oked+oknd+okwd+ord+paed+pamd+pawd+rid+scd+sdd+tned+tnmd+tnwd+txed+txnd+txsd+txwd+utd+vtd+vaed+vawd+waed+wawd+wvnd+wvsd+wied+wiwd+wyd+gud+nmid+prd+vid&cursor=cz0xMzM5MTU2ODAwMDAwMC4wJnM9Njg1MjE5OTkmdD1yJmQ9MjAyNS0wMS0yOA%3D%3D&filed_after=01%2F01%2F2024&filed_before=01%2F01%2F2025&order_by=dateFiled+desc&q=%22Cybersecurity%22+OR+%22Data+Privacy%22+OR+%22Data+Security%22+OR+%22GDPR%22+OR+%22Data+Protection%22+OR+%22Blockchain%22&type=r\n"
     ]
    },
    {
     "name": "stderr",
     "output_type": "stream",
     "text": [
      "Fetching Results: 1540batch [07:33,  4.03batch/s, Fetched=1540]"
     ]
    },
    {
     "name": "stdout",
     "output_type": "stream",
     "text": [
      "Estimated Time Remaining: 11.77 seconds\n",
      "Fetching: https://www.courtlistener.com/api/rest/v4/search/?court=scotus+ca1+ca2+ca3+ca4+ca5+ca6+ca7+ca8+ca9+ca10+ca11+cadc+cafc+dcd+almd+alnd+alsd+akd+azd+ared+arwd+cacd+caed+cand+casd+cod+ctd+ded+flmd+flnd+flsd+gamd+gand+gasd+hid+idd+ilcd+ilnd+ilsd+innd+insd+iand+iasd+ksd+kyed+kywd+laed+lamd+lawd+med+mdd+mad+mied+miwd+mnd+msnd+mssd+moed+mowd+mtd+ned+nvd+nhd+njd+nmd+nyed+nynd+nysd+nywd+nced+ncmd+ncwd+ndd+ohnd+ohsd+oked+oknd+okwd+ord+paed+pamd+pawd+rid+scd+sdd+tned+tnmd+tnwd+txed+txnd+txsd+txwd+utd+vtd+vaed+vawd+waed+wawd+wvnd+wvsd+wied+wiwd+wyd+gud+nmid+prd+vid&cursor=cz0xMzM5MTMwOTAwMDAwMC4wJnM9Njg1MTQ2MTUmdD1yJmQ9MjAyNS0wMS0yOA%3D%3D&filed_after=01%2F01%2F2024&filed_before=01%2F01%2F2025&order_by=dateFiled+desc&q=%22Cybersecurity%22+OR+%22Data+Privacy%22+OR+%22Data+Security%22+OR+%22GDPR%22+OR+%22Data+Protection%22+OR+%22Blockchain%22&type=r\n"
     ]
    },
    {
     "name": "stderr",
     "output_type": "stream",
     "text": [
      "Fetching Results: 1560batch [07:41,  3.33batch/s, Fetched=1560]"
     ]
    },
    {
     "name": "stdout",
     "output_type": "stream",
     "text": [
      "Estimated Time Remaining: 11.84 seconds\n",
      "Fetching: https://www.courtlistener.com/api/rest/v4/search/?court=scotus+ca1+ca2+ca3+ca4+ca5+ca6+ca7+ca8+ca9+ca10+ca11+cadc+cafc+dcd+almd+alnd+alsd+akd+azd+ared+arwd+cacd+caed+cand+casd+cod+ctd+ded+flmd+flnd+flsd+gamd+gand+gasd+hid+idd+ilcd+ilnd+ilsd+innd+insd+iand+iasd+ksd+kyed+kywd+laed+lamd+lawd+med+mdd+mad+mied+miwd+mnd+msnd+mssd+moed+mowd+mtd+ned+nvd+nhd+njd+nmd+nyed+nynd+nysd+nywd+nced+ncmd+ncwd+ndd+ohnd+ohsd+oked+oknd+okwd+ord+paed+pamd+pawd+rid+scd+sdd+tned+tnmd+tnwd+txed+txnd+txsd+txwd+utd+vtd+vaed+vawd+waed+wawd+wvnd+wvsd+wied+wiwd+wyd+gud+nmid+prd+vid&cursor=cz0xMzM5MTEzNjAwMDAwMC4wJnM9Njg1MDk1MTgmdD1yJmQ9MjAyNS0wMS0yOA%3D%3D&filed_after=01%2F01%2F2024&filed_before=01%2F01%2F2025&order_by=dateFiled+desc&q=%22Cybersecurity%22+OR+%22Data+Privacy%22+OR+%22Data+Security%22+OR+%22GDPR%22+OR+%22Data+Protection%22+OR+%22Blockchain%22&type=r\n"
     ]
    },
    {
     "name": "stderr",
     "output_type": "stream",
     "text": [
      "Fetching Results: 1580batch [07:47,  3.35batch/s, Fetched=1580]"
     ]
    },
    {
     "name": "stdout",
     "output_type": "stream",
     "text": [
      "Estimated Time Remaining: 11.84 seconds\n",
      "Fetching: https://www.courtlistener.com/api/rest/v4/search/?court=scotus+ca1+ca2+ca3+ca4+ca5+ca6+ca7+ca8+ca9+ca10+ca11+cadc+cafc+dcd+almd+alnd+alsd+akd+azd+ared+arwd+cacd+caed+cand+casd+cod+ctd+ded+flmd+flnd+flsd+gamd+gand+gasd+hid+idd+ilcd+ilnd+ilsd+innd+insd+iand+iasd+ksd+kyed+kywd+laed+lamd+lawd+med+mdd+mad+mied+miwd+mnd+msnd+mssd+moed+mowd+mtd+ned+nvd+nhd+njd+nmd+nyed+nynd+nysd+nywd+nced+ncmd+ncwd+ndd+ohnd+ohsd+oked+oknd+okwd+ord+paed+pamd+pawd+rid+scd+sdd+tned+tnmd+tnwd+txed+txnd+txsd+txwd+utd+vtd+vaed+vawd+waed+wawd+wvnd+wvsd+wied+wiwd+wyd+gud+nmid+prd+vid&cursor=cz0xMzM5MTA1MDAwMDAwMC4wJnM9Njg1MDQ1MDImdD1yJmQ9MjAyNS0wMS0yOA%3D%3D&filed_after=01%2F01%2F2024&filed_before=01%2F01%2F2025&order_by=dateFiled+desc&q=%22Cybersecurity%22+OR+%22Data+Privacy%22+OR+%22Data+Security%22+OR+%22GDPR%22+OR+%22Data+Protection%22+OR+%22Blockchain%22&type=r\n"
     ]
    },
    {
     "name": "stderr",
     "output_type": "stream",
     "text": [
      "Fetching Results: 1600batch [07:52,  3.51batch/s, Fetched=1600]"
     ]
    },
    {
     "name": "stdout",
     "output_type": "stream",
     "text": [
      "Estimated Time Remaining: 11.82 seconds\n",
      "Fetching: https://www.courtlistener.com/api/rest/v4/search/?court=scotus+ca1+ca2+ca3+ca4+ca5+ca6+ca7+ca8+ca9+ca10+ca11+cadc+cafc+dcd+almd+alnd+alsd+akd+azd+ared+arwd+cacd+caed+cand+casd+cod+ctd+ded+flmd+flnd+flsd+gamd+gand+gasd+hid+idd+ilcd+ilnd+ilsd+innd+insd+iand+iasd+ksd+kyed+kywd+laed+lamd+lawd+med+mdd+mad+mied+miwd+mnd+msnd+mssd+moed+mowd+mtd+ned+nvd+nhd+njd+nmd+nyed+nynd+nysd+nywd+nced+ncmd+ncwd+ndd+ohnd+ohsd+oked+oknd+okwd+ord+paed+pamd+pawd+rid+scd+sdd+tned+tnmd+tnwd+txed+txnd+txsd+txwd+utd+vtd+vaed+vawd+waed+wawd+wvnd+wvsd+wied+wiwd+wyd+gud+nmid+prd+vid&cursor=cz0xMzM5MDcwMzAwMDAwMC4wJnM9Njg0OTczODAmdD1yJmQ9MjAyNS0wMS0yOA%3D%3D&filed_after=01%2F01%2F2024&filed_before=01%2F01%2F2025&order_by=dateFiled+desc&q=%22Cybersecurity%22+OR+%22Data+Privacy%22+OR+%22Data+Security%22+OR+%22GDPR%22+OR+%22Data+Protection%22+OR+%22Blockchain%22&type=r\n"
     ]
    },
    {
     "name": "stderr",
     "output_type": "stream",
     "text": [
      "Fetching Results: 1620batch [07:58,  3.53batch/s, Fetched=1620]"
     ]
    },
    {
     "name": "stdout",
     "output_type": "stream",
     "text": [
      "Estimated Time Remaining: 11.81 seconds\n",
      "Fetching: https://www.courtlistener.com/api/rest/v4/search/?court=scotus+ca1+ca2+ca3+ca4+ca5+ca6+ca7+ca8+ca9+ca10+ca11+cadc+cafc+dcd+almd+alnd+alsd+akd+azd+ared+arwd+cacd+caed+cand+casd+cod+ctd+ded+flmd+flnd+flsd+gamd+gand+gasd+hid+idd+ilcd+ilnd+ilsd+innd+insd+iand+iasd+ksd+kyed+kywd+laed+lamd+lawd+med+mdd+mad+mied+miwd+mnd+msnd+mssd+moed+mowd+mtd+ned+nvd+nhd+njd+nmd+nyed+nynd+nysd+nywd+nced+ncmd+ncwd+ndd+ohnd+ohsd+oked+oknd+okwd+ord+paed+pamd+pawd+rid+scd+sdd+tned+tnmd+tnwd+txed+txnd+txsd+txwd+utd+vtd+vaed+vawd+waed+wawd+wvnd+wvsd+wied+wiwd+wyd+gud+nmid+prd+vid&cursor=cz0xMzM5MDYxODAwMDAwMC4wJnM9Njg0OTEwMTImdD1yJmQ9MjAyNS0wMS0yOA%3D%3D&filed_after=01%2F01%2F2024&filed_before=01%2F01%2F2025&order_by=dateFiled+desc&q=%22Cybersecurity%22+OR+%22Data+Privacy%22+OR+%22Data+Security%22+OR+%22GDPR%22+OR+%22Data+Protection%22+OR+%22Blockchain%22&type=r\n"
     ]
    },
    {
     "name": "stderr",
     "output_type": "stream",
     "text": [
      "Fetching Results: 1640batch [08:07,  2.98batch/s, Fetched=1640]"
     ]
    },
    {
     "name": "stdout",
     "output_type": "stream",
     "text": [
      "Estimated Time Remaining: 11.89 seconds\n",
      "Fetching: https://www.courtlistener.com/api/rest/v4/search/?court=scotus+ca1+ca2+ca3+ca4+ca5+ca6+ca7+ca8+ca9+ca10+ca11+cadc+cafc+dcd+almd+alnd+alsd+akd+azd+ared+arwd+cacd+caed+cand+casd+cod+ctd+ded+flmd+flnd+flsd+gamd+gand+gasd+hid+idd+ilcd+ilnd+ilsd+innd+insd+iand+iasd+ksd+kyed+kywd+laed+lamd+lawd+med+mdd+mad+mied+miwd+mnd+msnd+mssd+moed+mowd+mtd+ned+nvd+nhd+njd+nmd+nyed+nynd+nysd+nywd+nced+ncmd+ncwd+ndd+ohnd+ohsd+oked+oknd+okwd+ord+paed+pamd+pawd+rid+scd+sdd+tned+tnmd+tnwd+txed+txnd+txsd+txwd+utd+vtd+vaed+vawd+waed+wawd+wvnd+wvsd+wied+wiwd+wyd+gud+nmid+prd+vid&cursor=cz0xMzM5MDQ0NDAwMDAwMC4wJnM9Njg0ODA3ODgmdD1yJmQ9MjAyNS0wMS0yOA%3D%3D&filed_after=01%2F01%2F2024&filed_before=01%2F01%2F2025&order_by=dateFiled+desc&q=%22Cybersecurity%22+OR+%22Data+Privacy%22+OR+%22Data+Security%22+OR+%22GDPR%22+OR+%22Data+Protection%22+OR+%22Blockchain%22&type=r\n"
     ]
    },
    {
     "name": "stderr",
     "output_type": "stream",
     "text": [
      "Fetching Results: 1660batch [08:17,  2.58batch/s, Fetched=1660]"
     ]
    },
    {
     "name": "stdout",
     "output_type": "stream",
     "text": [
      "Estimated Time Remaining: 11.99 seconds\n",
      "Fetching: https://www.courtlistener.com/api/rest/v4/search/?court=scotus+ca1+ca2+ca3+ca4+ca5+ca6+ca7+ca8+ca9+ca10+ca11+cadc+cafc+dcd+almd+alnd+alsd+akd+azd+ared+arwd+cacd+caed+cand+casd+cod+ctd+ded+flmd+flnd+flsd+gamd+gand+gasd+hid+idd+ilcd+ilnd+ilsd+innd+insd+iand+iasd+ksd+kyed+kywd+laed+lamd+lawd+med+mdd+mad+mied+miwd+mnd+msnd+mssd+moed+mowd+mtd+ned+nvd+nhd+njd+nmd+nyed+nynd+nysd+nywd+nced+ncmd+ncwd+ndd+ohnd+ohsd+oked+oknd+okwd+ord+paed+pamd+pawd+rid+scd+sdd+tned+tnmd+tnwd+txed+txnd+txsd+txwd+utd+vtd+vaed+vawd+waed+wawd+wvnd+wvsd+wied+wiwd+wyd+gud+nmid+prd+vid&cursor=cz0xMzM5MDEwMDAwMDAwMC4wJnM9Njg0NzI2ODYmdD1yJmQ9MjAyNS0wMS0yOA%3D%3D&filed_after=01%2F01%2F2024&filed_before=01%2F01%2F2025&order_by=dateFiled+desc&q=%22Cybersecurity%22+OR+%22Data+Privacy%22+OR+%22Data+Security%22+OR+%22GDPR%22+OR+%22Data+Protection%22+OR+%22Blockchain%22&type=r\n"
     ]
    },
    {
     "name": "stderr",
     "output_type": "stream",
     "text": [
      "Fetching Results: 1680batch [08:22,  2.85batch/s, Fetched=1680]"
     ]
    },
    {
     "name": "stdout",
     "output_type": "stream",
     "text": [
      "Estimated Time Remaining: 11.97 seconds\n",
      "Fetching: https://www.courtlistener.com/api/rest/v4/search/?court=scotus+ca1+ca2+ca3+ca4+ca5+ca6+ca7+ca8+ca9+ca10+ca11+cadc+cafc+dcd+almd+alnd+alsd+akd+azd+ared+arwd+cacd+caed+cand+casd+cod+ctd+ded+flmd+flnd+flsd+gamd+gand+gasd+hid+idd+ilcd+ilnd+ilsd+innd+insd+iand+iasd+ksd+kyed+kywd+laed+lamd+lawd+med+mdd+mad+mied+miwd+mnd+msnd+mssd+moed+mowd+mtd+ned+nvd+nhd+njd+nmd+nyed+nynd+nysd+nywd+nced+ncmd+ncwd+ndd+ohnd+ohsd+oked+oknd+okwd+ord+paed+pamd+pawd+rid+scd+sdd+tned+tnmd+tnwd+txed+txnd+txsd+txwd+utd+vtd+vaed+vawd+waed+wawd+wvnd+wvsd+wied+wiwd+wyd+gud+nmid+prd+vid&cursor=cz0xMzM4OTg0MDAwMDAwMC4wJnM9Njg0NjA1NzkmdD1yJmQ9MjAyNS0wMS0yOA%3D%3D&filed_after=01%2F01%2F2024&filed_before=01%2F01%2F2025&order_by=dateFiled+desc&q=%22Cybersecurity%22+OR+%22Data+Privacy%22+OR+%22Data+Security%22+OR+%22GDPR%22+OR+%22Data+Protection%22+OR+%22Blockchain%22&type=r\n"
     ]
    },
    {
     "name": "stderr",
     "output_type": "stream",
     "text": [
      "Fetching Results: 1700batch [08:28,  2.96batch/s, Fetched=1700]"
     ]
    },
    {
     "name": "stdout",
     "output_type": "stream",
     "text": [
      "Estimated Time Remaining: 11.98 seconds\n",
      "Fetching: https://www.courtlistener.com/api/rest/v4/search/?court=scotus+ca1+ca2+ca3+ca4+ca5+ca6+ca7+ca8+ca9+ca10+ca11+cadc+cafc+dcd+almd+alnd+alsd+akd+azd+ared+arwd+cacd+caed+cand+casd+cod+ctd+ded+flmd+flnd+flsd+gamd+gand+gasd+hid+idd+ilcd+ilnd+ilsd+innd+insd+iand+iasd+ksd+kyed+kywd+laed+lamd+lawd+med+mdd+mad+mied+miwd+mnd+msnd+mssd+moed+mowd+mtd+ned+nvd+nhd+njd+nmd+nyed+nynd+nysd+nywd+nced+ncmd+ncwd+ndd+ohnd+ohsd+oked+oknd+okwd+ord+paed+pamd+pawd+rid+scd+sdd+tned+tnmd+tnwd+txed+txnd+txsd+txwd+utd+vtd+vaed+vawd+waed+wawd+wvnd+wvsd+wied+wiwd+wyd+gud+nmid+prd+vid&cursor=cz0xMzM4OTQ5NDAwMDAwMC4wJnM9Njg0NTA3NjUmdD1yJmQ9MjAyNS0wMS0yOA%3D%3D&filed_after=01%2F01%2F2024&filed_before=01%2F01%2F2025&order_by=dateFiled+desc&q=%22Cybersecurity%22+OR+%22Data+Privacy%22+OR+%22Data+Security%22+OR+%22GDPR%22+OR+%22Data+Protection%22+OR+%22Blockchain%22&type=r\n"
     ]
    },
    {
     "name": "stderr",
     "output_type": "stream",
     "text": [
      "Fetching Results: 1720batch [08:36,  2.92batch/s, Fetched=1720]"
     ]
    },
    {
     "name": "stdout",
     "output_type": "stream",
     "text": [
      "Estimated Time Remaining: 12.00 seconds\n",
      "Fetching: https://www.courtlistener.com/api/rest/v4/search/?court=scotus+ca1+ca2+ca3+ca4+ca5+ca6+ca7+ca8+ca9+ca10+ca11+cadc+cafc+dcd+almd+alnd+alsd+akd+azd+ared+arwd+cacd+caed+cand+casd+cod+ctd+ded+flmd+flnd+flsd+gamd+gand+gasd+hid+idd+ilcd+ilnd+ilsd+innd+insd+iand+iasd+ksd+kyed+kywd+laed+lamd+lawd+med+mdd+mad+mied+miwd+mnd+msnd+mssd+moed+mowd+mtd+ned+nvd+nhd+njd+nmd+nyed+nynd+nysd+nywd+nced+ncmd+ncwd+ndd+ohnd+ohsd+oked+oknd+okwd+ord+paed+pamd+pawd+rid+scd+sdd+tned+tnmd+tnwd+txed+txnd+txsd+txwd+utd+vtd+vaed+vawd+waed+wawd+wvnd+wvsd+wied+wiwd+wyd+gud+nmid+prd+vid&cursor=cz0xMzM4OTMyMTAwMDAwMC4wJnM9Njg0NDA0NzkmdD1yJmQ9MjAyNS0wMS0yOA%3D%3D&filed_after=01%2F01%2F2024&filed_before=01%2F01%2F2025&order_by=dateFiled+desc&q=%22Cybersecurity%22+OR+%22Data+Privacy%22+OR+%22Data+Security%22+OR+%22GDPR%22+OR+%22Data+Protection%22+OR+%22Blockchain%22&type=r\n"
     ]
    },
    {
     "name": "stderr",
     "output_type": "stream",
     "text": [
      "Fetching Results: 1740batch [08:43,  2.82batch/s, Fetched=1740]"
     ]
    },
    {
     "name": "stdout",
     "output_type": "stream",
     "text": [
      "Estimated Time Remaining: 12.04 seconds\n",
      "Fetching: https://www.courtlistener.com/api/rest/v4/search/?court=scotus+ca1+ca2+ca3+ca4+ca5+ca6+ca7+ca8+ca9+ca10+ca11+cadc+cafc+dcd+almd+alnd+alsd+akd+azd+ared+arwd+cacd+caed+cand+casd+cod+ctd+ded+flmd+flnd+flsd+gamd+gand+gasd+hid+idd+ilcd+ilnd+ilsd+innd+insd+iand+iasd+ksd+kyed+kywd+laed+lamd+lawd+med+mdd+mad+mied+miwd+mnd+msnd+mssd+moed+mowd+mtd+ned+nvd+nhd+njd+nmd+nyed+nynd+nysd+nywd+nced+ncmd+ncwd+ndd+ohnd+ohsd+oked+oknd+okwd+ord+paed+pamd+pawd+rid+scd+sdd+tned+tnmd+tnwd+txed+txnd+txsd+txwd+utd+vtd+vaed+vawd+waed+wawd+wvnd+wvsd+wied+wiwd+wyd+gud+nmid+prd+vid&cursor=cz0xMzM4ODk3NjAwMDAwMC4wJnM9Njg0MzQzMDQmdD1yJmQ9MjAyNS0wMS0yOA%3D%3D&filed_after=01%2F01%2F2024&filed_before=01%2F01%2F2025&order_by=dateFiled+desc&q=%22Cybersecurity%22+OR+%22Data+Privacy%22+OR+%22Data+Security%22+OR+%22GDPR%22+OR+%22Data+Protection%22+OR+%22Blockchain%22&type=r\n"
     ]
    },
    {
     "name": "stderr",
     "output_type": "stream",
     "text": [
      "Fetching Results: 1760batch [08:48,  3.16batch/s, Fetched=1760]"
     ]
    },
    {
     "name": "stdout",
     "output_type": "stream",
     "text": [
      "Estimated Time Remaining: 12.01 seconds\n",
      "Fetching: https://www.courtlistener.com/api/rest/v4/search/?court=scotus+ca1+ca2+ca3+ca4+ca5+ca6+ca7+ca8+ca9+ca10+ca11+cadc+cafc+dcd+almd+alnd+alsd+akd+azd+ared+arwd+cacd+caed+cand+casd+cod+ctd+ded+flmd+flnd+flsd+gamd+gand+gasd+hid+idd+ilcd+ilnd+ilsd+innd+insd+iand+iasd+ksd+kyed+kywd+laed+lamd+lawd+med+mdd+mad+mied+miwd+mnd+msnd+mssd+moed+mowd+mtd+ned+nvd+nhd+njd+nmd+nyed+nynd+nysd+nywd+nced+ncmd+ncwd+ndd+ohnd+ohsd+oked+oknd+okwd+ord+paed+pamd+pawd+rid+scd+sdd+tned+tnmd+tnwd+txed+txnd+txsd+txwd+utd+vtd+vaed+vawd+waed+wawd+wvnd+wvsd+wied+wiwd+wyd+gud+nmid+prd+vid&cursor=cz0xMzM4ODg4OTAwMDAwMC4wJnM9Njg0MjkzNjQmdD1yJmQ9MjAyNS0wMS0yOA%3D%3D&filed_after=01%2F01%2F2024&filed_before=01%2F01%2F2025&order_by=dateFiled+desc&q=%22Cybersecurity%22+OR+%22Data+Privacy%22+OR+%22Data+Security%22+OR+%22GDPR%22+OR+%22Data+Protection%22+OR+%22Blockchain%22&type=r\n"
     ]
    },
    {
     "name": "stderr",
     "output_type": "stream",
     "text": [
      "Fetching Results: 1780batch [08:57,  2.80batch/s, Fetched=1780]"
     ]
    },
    {
     "name": "stdout",
     "output_type": "stream",
     "text": [
      "Estimated Time Remaining: 12.07 seconds\n",
      "Fetching: https://www.courtlistener.com/api/rest/v4/search/?court=scotus+ca1+ca2+ca3+ca4+ca5+ca6+ca7+ca8+ca9+ca10+ca11+cadc+cafc+dcd+almd+alnd+alsd+akd+azd+ared+arwd+cacd+caed+cand+casd+cod+ctd+ded+flmd+flnd+flsd+gamd+gand+gasd+hid+idd+ilcd+ilnd+ilsd+innd+insd+iand+iasd+ksd+kyed+kywd+laed+lamd+lawd+med+mdd+mad+mied+miwd+mnd+msnd+mssd+moed+mowd+mtd+ned+nvd+nhd+njd+nmd+nyed+nynd+nysd+nywd+nced+ncmd+ncwd+ndd+ohnd+ohsd+oked+oknd+okwd+ord+paed+pamd+pawd+rid+scd+sdd+tned+tnmd+tnwd+txed+txnd+txsd+txwd+utd+vtd+vaed+vawd+waed+wawd+wvnd+wvsd+wied+wiwd+wyd+gud+nmid+prd+vid&cursor=cz0xMzM4ODgwMzAwMDAwMC4wJnM9Njg0MjU5MDgmdD1yJmQ9MjAyNS0wMS0yOA%3D%3D&filed_after=01%2F01%2F2024&filed_before=01%2F01%2F2025&order_by=dateFiled+desc&q=%22Cybersecurity%22+OR+%22Data+Privacy%22+OR+%22Data+Security%22+OR+%22GDPR%22+OR+%22Data+Protection%22+OR+%22Blockchain%22&type=r\n"
     ]
    },
    {
     "name": "stderr",
     "output_type": "stream",
     "text": [
      "Fetching Results: 1800batch [09:00,  3.36batch/s, Fetched=1800]"
     ]
    },
    {
     "name": "stdout",
     "output_type": "stream",
     "text": [
      "Estimated Time Remaining: 12.01 seconds\n",
      "Fetching: https://www.courtlistener.com/api/rest/v4/search/?court=scotus+ca1+ca2+ca3+ca4+ca5+ca6+ca7+ca8+ca9+ca10+ca11+cadc+cafc+dcd+almd+alnd+alsd+akd+azd+ared+arwd+cacd+caed+cand+casd+cod+ctd+ded+flmd+flnd+flsd+gamd+gand+gasd+hid+idd+ilcd+ilnd+ilsd+innd+insd+iand+iasd+ksd+kyed+kywd+laed+lamd+lawd+med+mdd+mad+mied+miwd+mnd+msnd+mssd+moed+mowd+mtd+ned+nvd+nhd+njd+nmd+nyed+nynd+nysd+nywd+nced+ncmd+ncwd+ndd+ohnd+ohsd+oked+oknd+okwd+ord+paed+pamd+pawd+rid+scd+sdd+tned+tnmd+tnwd+txed+txnd+txsd+txwd+utd+vtd+vaed+vawd+waed+wawd+wvnd+wvsd+wied+wiwd+wyd+gud+nmid+prd+vid&cursor=cz0xMzM4ODcxNjAwMDAwMC4wJnM9Njg0MjE0OTYmdD1yJmQ9MjAyNS0wMS0yOA%3D%3D&filed_after=01%2F01%2F2024&filed_before=01%2F01%2F2025&order_by=dateFiled+desc&q=%22Cybersecurity%22+OR+%22Data+Privacy%22+OR+%22Data+Security%22+OR+%22GDPR%22+OR+%22Data+Protection%22+OR+%22Blockchain%22&type=r\n"
     ]
    },
    {
     "name": "stderr",
     "output_type": "stream",
     "text": [
      "Fetching Results: 1820batch [09:08,  3.07batch/s, Fetched=1820]"
     ]
    },
    {
     "name": "stdout",
     "output_type": "stream",
     "text": [
      "Estimated Time Remaining: 12.05 seconds\n",
      "Fetching: https://www.courtlistener.com/api/rest/v4/search/?court=scotus+ca1+ca2+ca3+ca4+ca5+ca6+ca7+ca8+ca9+ca10+ca11+cadc+cafc+dcd+almd+alnd+alsd+akd+azd+ared+arwd+cacd+caed+cand+casd+cod+ctd+ded+flmd+flnd+flsd+gamd+gand+gasd+hid+idd+ilcd+ilnd+ilsd+innd+insd+iand+iasd+ksd+kyed+kywd+laed+lamd+lawd+med+mdd+mad+mied+miwd+mnd+msnd+mssd+moed+mowd+mtd+ned+nvd+nhd+njd+nmd+nyed+nynd+nysd+nywd+nced+ncmd+ncwd+ndd+ohnd+ohsd+oked+oknd+okwd+ord+paed+pamd+pawd+rid+scd+sdd+tned+tnmd+tnwd+txed+txnd+txsd+txwd+utd+vtd+vaed+vawd+waed+wawd+wvnd+wvsd+wied+wiwd+wyd+gud+nmid+prd+vid&cursor=cz0xMzM4ODQ1NzAwMDAwMC4wJnM9Njg0MTcwMTEmdD1yJmQ9MjAyNS0wMS0yOA%3D%3D&filed_after=01%2F01%2F2024&filed_before=01%2F01%2F2025&order_by=dateFiled+desc&q=%22Cybersecurity%22+OR+%22Data+Privacy%22+OR+%22Data+Security%22+OR+%22GDPR%22+OR+%22Data+Protection%22+OR+%22Blockchain%22&type=r\n"
     ]
    },
    {
     "name": "stderr",
     "output_type": "stream",
     "text": [
      "Fetching Results: 1840batch [09:12,  3.40batch/s, Fetched=1840]"
     ]
    },
    {
     "name": "stdout",
     "output_type": "stream",
     "text": [
      "Estimated Time Remaining: 12.02 seconds\n",
      "Fetching: https://www.courtlistener.com/api/rest/v4/search/?court=scotus+ca1+ca2+ca3+ca4+ca5+ca6+ca7+ca8+ca9+ca10+ca11+cadc+cafc+dcd+almd+alnd+alsd+akd+azd+ared+arwd+cacd+caed+cand+casd+cod+ctd+ded+flmd+flnd+flsd+gamd+gand+gasd+hid+idd+ilcd+ilnd+ilsd+innd+insd+iand+iasd+ksd+kyed+kywd+laed+lamd+lawd+med+mdd+mad+mied+miwd+mnd+msnd+mssd+moed+mowd+mtd+ned+nvd+nhd+njd+nmd+nyed+nynd+nysd+nywd+nced+ncmd+ncwd+ndd+ohnd+ohsd+oked+oknd+okwd+ord+paed+pamd+pawd+rid+scd+sdd+tned+tnmd+tnwd+txed+txnd+txsd+txwd+utd+vtd+vaed+vawd+waed+wawd+wvnd+wvsd+wied+wiwd+wyd+gud+nmid+prd+vid&cursor=cz0xMzM4ODI4NDAwMDAwMC4wJnM9Njg0MTc1NjcmdD1yJmQ9MjAyNS0wMS0yOA%3D%3D&filed_after=01%2F01%2F2024&filed_before=01%2F01%2F2025&order_by=dateFiled+desc&q=%22Cybersecurity%22+OR+%22Data+Privacy%22+OR+%22Data+Security%22+OR+%22GDPR%22+OR+%22Data+Protection%22+OR+%22Blockchain%22&type=r\n"
     ]
    },
    {
     "name": "stderr",
     "output_type": "stream",
     "text": [
      "Fetching Results: 1860batch [09:19,  3.23batch/s, Fetched=1860]"
     ]
    },
    {
     "name": "stdout",
     "output_type": "stream",
     "text": [
      "Estimated Time Remaining: 12.04 seconds\n",
      "Fetching: https://www.courtlistener.com/api/rest/v4/search/?court=scotus+ca1+ca2+ca3+ca4+ca5+ca6+ca7+ca8+ca9+ca10+ca11+cadc+cafc+dcd+almd+alnd+alsd+akd+azd+ared+arwd+cacd+caed+cand+casd+cod+ctd+ded+flmd+flnd+flsd+gamd+gand+gasd+hid+idd+ilcd+ilnd+ilsd+innd+insd+iand+iasd+ksd+kyed+kywd+laed+lamd+lawd+med+mdd+mad+mied+miwd+mnd+msnd+mssd+moed+mowd+mtd+ned+nvd+nhd+njd+nmd+nyed+nynd+nysd+nywd+nced+ncmd+ncwd+ndd+ohnd+ohsd+oked+oknd+okwd+ord+paed+pamd+pawd+rid+scd+sdd+tned+tnmd+tnwd+txed+txnd+txsd+txwd+utd+vtd+vaed+vawd+waed+wawd+wvnd+wvsd+wied+wiwd+wyd+gud+nmid+prd+vid&cursor=cz0xMzM4ODE5ODAwMDAwMC4wJnM9Njg0MDY5ODkmdD1yJmQ9MjAyNS0wMS0yOA%3D%3D&filed_after=01%2F01%2F2024&filed_before=01%2F01%2F2025&order_by=dateFiled+desc&q=%22Cybersecurity%22+OR+%22Data+Privacy%22+OR+%22Data+Security%22+OR+%22GDPR%22+OR+%22Data+Protection%22+OR+%22Blockchain%22&type=r\n"
     ]
    },
    {
     "name": "stderr",
     "output_type": "stream",
     "text": [
      "Fetching Results: 1880batch [09:27,  3.03batch/s, Fetched=1880]"
     ]
    },
    {
     "name": "stdout",
     "output_type": "stream",
     "text": [
      "Estimated Time Remaining: 12.07 seconds\n",
      "Fetching: https://www.courtlistener.com/api/rest/v4/search/?court=scotus+ca1+ca2+ca3+ca4+ca5+ca6+ca7+ca8+ca9+ca10+ca11+cadc+cafc+dcd+almd+alnd+alsd+akd+azd+ared+arwd+cacd+caed+cand+casd+cod+ctd+ded+flmd+flnd+flsd+gamd+gand+gasd+hid+idd+ilcd+ilnd+ilsd+innd+insd+iand+iasd+ksd+kyed+kywd+laed+lamd+lawd+med+mdd+mad+mied+miwd+mnd+msnd+mssd+moed+mowd+mtd+ned+nvd+nhd+njd+nmd+nyed+nynd+nysd+nywd+nced+ncmd+ncwd+ndd+ohnd+ohsd+oked+oknd+okwd+ord+paed+pamd+pawd+rid+scd+sdd+tned+tnmd+tnwd+txed+txnd+txsd+txwd+utd+vtd+vaed+vawd+waed+wawd+wvnd+wvsd+wied+wiwd+wyd+gud+nmid+prd+vid&cursor=cz0xMzM4ODAyNTAwMDAwMC4wJnM9Njg0MjEzMjMmdD1yJmQ9MjAyNS0wMS0yOA%3D%3D&filed_after=01%2F01%2F2024&filed_before=01%2F01%2F2025&order_by=dateFiled+desc&q=%22Cybersecurity%22+OR+%22Data+Privacy%22+OR+%22Data+Security%22+OR+%22GDPR%22+OR+%22Data+Protection%22+OR+%22Blockchain%22&type=r\n"
     ]
    },
    {
     "name": "stderr",
     "output_type": "stream",
     "text": [
      "Fetching Results: 1900batch [09:31,  3.31batch/s, Fetched=1900]"
     ]
    },
    {
     "name": "stdout",
     "output_type": "stream",
     "text": [
      "Estimated Time Remaining: 12.04 seconds\n",
      "Fetching: https://www.courtlistener.com/api/rest/v4/search/?court=scotus+ca1+ca2+ca3+ca4+ca5+ca6+ca7+ca8+ca9+ca10+ca11+cadc+cafc+dcd+almd+alnd+alsd+akd+azd+ared+arwd+cacd+caed+cand+casd+cod+ctd+ded+flmd+flnd+flsd+gamd+gand+gasd+hid+idd+ilcd+ilnd+ilsd+innd+insd+iand+iasd+ksd+kyed+kywd+laed+lamd+lawd+med+mdd+mad+mied+miwd+mnd+msnd+mssd+moed+mowd+mtd+ned+nvd+nhd+njd+nmd+nyed+nynd+nysd+nywd+nced+ncmd+ncwd+ndd+ohnd+ohsd+oked+oknd+okwd+ord+paed+pamd+pawd+rid+scd+sdd+tned+tnmd+tnwd+txed+txnd+txsd+txwd+utd+vtd+vaed+vawd+waed+wawd+wvnd+wvsd+wied+wiwd+wyd+gud+nmid+prd+vid&cursor=cz0xMzM4NzkzOTAwMDAwMC4wJnM9NjgzOTQ2NTUmdD1yJmQ9MjAyNS0wMS0yOA%3D%3D&filed_after=01%2F01%2F2024&filed_before=01%2F01%2F2025&order_by=dateFiled+desc&q=%22Cybersecurity%22+OR+%22Data+Privacy%22+OR+%22Data+Security%22+OR+%22GDPR%22+OR+%22Data+Protection%22+OR+%22Blockchain%22&type=r\n"
     ]
    },
    {
     "name": "stderr",
     "output_type": "stream",
     "text": [
      "Fetching Results: 1920batch [09:39,  3.08batch/s, Fetched=1920]"
     ]
    },
    {
     "name": "stdout",
     "output_type": "stream",
     "text": [
      "Estimated Time Remaining: 12.07 seconds\n",
      "Fetching: https://www.courtlistener.com/api/rest/v4/search/?court=scotus+ca1+ca2+ca3+ca4+ca5+ca6+ca7+ca8+ca9+ca10+ca11+cadc+cafc+dcd+almd+alnd+alsd+akd+azd+ared+arwd+cacd+caed+cand+casd+cod+ctd+ded+flmd+flnd+flsd+gamd+gand+gasd+hid+idd+ilcd+ilnd+ilsd+innd+insd+iand+iasd+ksd+kyed+kywd+laed+lamd+lawd+med+mdd+mad+mied+miwd+mnd+msnd+mssd+moed+mowd+mtd+ned+nvd+nhd+njd+nmd+nyed+nynd+nysd+nywd+nced+ncmd+ncwd+ndd+ohnd+ohsd+oked+oknd+okwd+ord+paed+pamd+pawd+rid+scd+sdd+tned+tnmd+tnwd+txed+txnd+txsd+txwd+utd+vtd+vaed+vawd+waed+wawd+wvnd+wvsd+wied+wiwd+wyd+gud+nmid+prd+vid&cursor=cz0xMzM4NzY4MDAwMDAwMC4wJnM9NjgzOTg4MjAmdD1yJmQ9MjAyNS0wMS0yOA%3D%3D&filed_after=01%2F01%2F2024&filed_before=01%2F01%2F2025&order_by=dateFiled+desc&q=%22Cybersecurity%22+OR+%22Data+Privacy%22+OR+%22Data+Security%22+OR+%22GDPR%22+OR+%22Data+Protection%22+OR+%22Blockchain%22&type=r\n"
     ]
    },
    {
     "name": "stderr",
     "output_type": "stream",
     "text": [
      "Fetching Results: 1940batch [09:45,  3.10batch/s, Fetched=1940]"
     ]
    },
    {
     "name": "stdout",
     "output_type": "stream",
     "text": [
      "Estimated Time Remaining: 12.08 seconds\n",
      "Fetching: https://www.courtlistener.com/api/rest/v4/search/?court=scotus+ca1+ca2+ca3+ca4+ca5+ca6+ca7+ca8+ca9+ca10+ca11+cadc+cafc+dcd+almd+alnd+alsd+akd+azd+ared+arwd+cacd+caed+cand+casd+cod+ctd+ded+flmd+flnd+flsd+gamd+gand+gasd+hid+idd+ilcd+ilnd+ilsd+innd+insd+iand+iasd+ksd+kyed+kywd+laed+lamd+lawd+med+mdd+mad+mied+miwd+mnd+msnd+mssd+moed+mowd+mtd+ned+nvd+nhd+njd+nmd+nyed+nynd+nysd+nywd+nced+ncmd+ncwd+ndd+ohnd+ohsd+oked+oknd+okwd+ord+paed+pamd+pawd+rid+scd+sdd+tned+tnmd+tnwd+txed+txnd+txsd+txwd+utd+vtd+vaed+vawd+waed+wawd+wvnd+wvsd+wied+wiwd+wyd+gud+nmid+prd+vid&cursor=cz0xMzM4NzU5MzAwMDAwMC4wJnM9NjgzODY3MTAmdD1yJmQ9MjAyNS0wMS0yOA%3D%3D&filed_after=01%2F01%2F2024&filed_before=01%2F01%2F2025&order_by=dateFiled+desc&q=%22Cybersecurity%22+OR+%22Data+Privacy%22+OR+%22Data+Security%22+OR+%22GDPR%22+OR+%22Data+Protection%22+OR+%22Blockchain%22&type=r\n"
     ]
    },
    {
     "name": "stderr",
     "output_type": "stream",
     "text": [
      "Fetching Results: 1960batch [09:51,  3.29batch/s, Fetched=1960]"
     ]
    },
    {
     "name": "stdout",
     "output_type": "stream",
     "text": [
      "Estimated Time Remaining: 12.06 seconds\n",
      "Fetching: https://www.courtlistener.com/api/rest/v4/search/?court=scotus+ca1+ca2+ca3+ca4+ca5+ca6+ca7+ca8+ca9+ca10+ca11+cadc+cafc+dcd+almd+alnd+alsd+akd+azd+ared+arwd+cacd+caed+cand+casd+cod+ctd+ded+flmd+flnd+flsd+gamd+gand+gasd+hid+idd+ilcd+ilnd+ilsd+innd+insd+iand+iasd+ksd+kyed+kywd+laed+lamd+lawd+med+mdd+mad+mied+miwd+mnd+msnd+mssd+moed+mowd+mtd+ned+nvd+nhd+njd+nmd+nyed+nynd+nysd+nywd+nced+ncmd+ncwd+ndd+ohnd+ohsd+oked+oknd+okwd+ord+paed+pamd+pawd+rid+scd+sdd+tned+tnmd+tnwd+txed+txnd+txsd+txwd+utd+vtd+vaed+vawd+waed+wawd+wvnd+wvsd+wied+wiwd+wyd+gud+nmid+prd+vid&cursor=cz0xMzM4NzUwNzAwMDAwMC4wJnM9NjgzNzYxNTAmdD1yJmQ9MjAyNS0wMS0yOA%3D%3D&filed_after=01%2F01%2F2024&filed_before=01%2F01%2F2025&order_by=dateFiled+desc&q=%22Cybersecurity%22+OR+%22Data+Privacy%22+OR+%22Data+Security%22+OR+%22GDPR%22+OR+%22Data+Protection%22+OR+%22Blockchain%22&type=r\n"
     ]
    },
    {
     "name": "stderr",
     "output_type": "stream",
     "text": [
      "Fetching Results: 1980batch [09:58,  3.05batch/s, Fetched=1980]"
     ]
    },
    {
     "name": "stdout",
     "output_type": "stream",
     "text": [
      "Estimated Time Remaining: 12.09 seconds\n",
      "Fetching: https://www.courtlistener.com/api/rest/v4/search/?court=scotus+ca1+ca2+ca3+ca4+ca5+ca6+ca7+ca8+ca9+ca10+ca11+cadc+cafc+dcd+almd+alnd+alsd+akd+azd+ared+arwd+cacd+caed+cand+casd+cod+ctd+ded+flmd+flnd+flsd+gamd+gand+gasd+hid+idd+ilcd+ilnd+ilsd+innd+insd+iand+iasd+ksd+kyed+kywd+laed+lamd+lawd+med+mdd+mad+mied+miwd+mnd+msnd+mssd+moed+mowd+mtd+ned+nvd+nhd+njd+nmd+nyed+nynd+nysd+nywd+nced+ncmd+ncwd+ndd+ohnd+ohsd+oked+oknd+okwd+ord+paed+pamd+pawd+rid+scd+sdd+tned+tnmd+tnwd+txed+txnd+txsd+txwd+utd+vtd+vaed+vawd+waed+wawd+wvnd+wvsd+wied+wiwd+wyd+gud+nmid+prd+vid&cursor=cz0xMzM4NzQyMDAwMDAwMC4wJnM9NjgzNzQyNTImdD1yJmQ9MjAyNS0wMS0yOA%3D%3D&filed_after=01%2F01%2F2024&filed_before=01%2F01%2F2025&order_by=dateFiled+desc&q=%22Cybersecurity%22+OR+%22Data+Privacy%22+OR+%22Data+Security%22+OR+%22GDPR%22+OR+%22Data+Protection%22+OR+%22Blockchain%22&type=r\n"
     ]
    },
    {
     "name": "stderr",
     "output_type": "stream",
     "text": [
      "Fetching Results: 2000batch [10:02,  3.48batch/s, Fetched=2000]"
     ]
    },
    {
     "name": "stdout",
     "output_type": "stream",
     "text": [
      "Estimated Time Remaining: 12.05 seconds\n",
      "Fetching: https://www.courtlistener.com/api/rest/v4/search/?court=scotus+ca1+ca2+ca3+ca4+ca5+ca6+ca7+ca8+ca9+ca10+ca11+cadc+cafc+dcd+almd+alnd+alsd+akd+azd+ared+arwd+cacd+caed+cand+casd+cod+ctd+ded+flmd+flnd+flsd+gamd+gand+gasd+hid+idd+ilcd+ilnd+ilsd+innd+insd+iand+iasd+ksd+kyed+kywd+laed+lamd+lawd+med+mdd+mad+mied+miwd+mnd+msnd+mssd+moed+mowd+mtd+ned+nvd+nhd+njd+nmd+nyed+nynd+nysd+nywd+nced+ncmd+ncwd+ndd+ohnd+ohsd+oked+oknd+okwd+ord+paed+pamd+pawd+rid+scd+sdd+tned+tnmd+tnwd+txed+txnd+txsd+txwd+utd+vtd+vaed+vawd+waed+wawd+wvnd+wvsd+wied+wiwd+wyd+gud+nmid+prd+vid&cursor=cz0xMzM4NzE2MTAwMDAwMC4wJnM9Njg0MjE0NTAmdD1yJmQ9MjAyNS0wMS0yOA%3D%3D&filed_after=01%2F01%2F2024&filed_before=01%2F01%2F2025&order_by=dateFiled+desc&q=%22Cybersecurity%22+OR+%22Data+Privacy%22+OR+%22Data+Security%22+OR+%22GDPR%22+OR+%22Data+Protection%22+OR+%22Blockchain%22&type=r\n"
     ]
    },
    {
     "name": "stderr",
     "output_type": "stream",
     "text": [
      "Fetching Results: 2020batch [10:09,  3.24batch/s, Fetched=2020]"
     ]
    },
    {
     "name": "stdout",
     "output_type": "stream",
     "text": [
      "Estimated Time Remaining: 12.07 seconds\n",
      "Fetching: https://www.courtlistener.com/api/rest/v4/search/?court=scotus+ca1+ca2+ca3+ca4+ca5+ca6+ca7+ca8+ca9+ca10+ca11+cadc+cafc+dcd+almd+alnd+alsd+akd+azd+ared+arwd+cacd+caed+cand+casd+cod+ctd+ded+flmd+flnd+flsd+gamd+gand+gasd+hid+idd+ilcd+ilnd+ilsd+innd+insd+iand+iasd+ksd+kyed+kywd+laed+lamd+lawd+med+mdd+mad+mied+miwd+mnd+msnd+mssd+moed+mowd+mtd+ned+nvd+nhd+njd+nmd+nyed+nynd+nysd+nywd+nced+ncmd+ncwd+ndd+ohnd+ohsd+oked+oknd+okwd+ord+paed+pamd+pawd+rid+scd+sdd+tned+tnmd+tnwd+txed+txnd+txsd+txwd+utd+vtd+vaed+vawd+waed+wawd+wvnd+wvsd+wied+wiwd+wyd+gud+nmid+prd+vid&cursor=cz0xMzM4NzA3NTAwMDAwMC4wJnM9NjgzNjUyMDcmdD1yJmQ9MjAyNS0wMS0yOA%3D%3D&filed_after=01%2F01%2F2024&filed_before=01%2F01%2F2025&order_by=dateFiled+desc&q=%22Cybersecurity%22+OR+%22Data+Privacy%22+OR+%22Data+Security%22+OR+%22GDPR%22+OR+%22Data+Protection%22+OR+%22Blockchain%22&type=r\n"
     ]
    },
    {
     "name": "stderr",
     "output_type": "stream",
     "text": [
      "Fetching Results: 2040batch [10:14,  3.54batch/s, Fetched=2040]"
     ]
    },
    {
     "name": "stdout",
     "output_type": "stream",
     "text": [
      "Estimated Time Remaining: 12.04 seconds\n",
      "Fetching: https://www.courtlistener.com/api/rest/v4/search/?court=scotus+ca1+ca2+ca3+ca4+ca5+ca6+ca7+ca8+ca9+ca10+ca11+cadc+cafc+dcd+almd+alnd+alsd+akd+azd+ared+arwd+cacd+caed+cand+casd+cod+ctd+ded+flmd+flnd+flsd+gamd+gand+gasd+hid+idd+ilcd+ilnd+ilsd+innd+insd+iand+iasd+ksd+kyed+kywd+laed+lamd+lawd+med+mdd+mad+mied+miwd+mnd+msnd+mssd+moed+mowd+mtd+ned+nvd+nhd+njd+nmd+nyed+nynd+nysd+nywd+nced+ncmd+ncwd+ndd+ohnd+ohsd+oked+oknd+okwd+ord+paed+pamd+pawd+rid+scd+sdd+tned+tnmd+tnwd+txed+txnd+txsd+txwd+utd+vtd+vaed+vawd+waed+wawd+wvnd+wvsd+wied+wiwd+wyd+gud+nmid+prd+vid&cursor=cz0xMzM4NjkwMjAwMDAwMC4wJnM9Njg0MjE0NTYmdD1yJmQ9MjAyNS0wMS0yOA%3D%3D&filed_after=01%2F01%2F2024&filed_before=01%2F01%2F2025&order_by=dateFiled+desc&q=%22Cybersecurity%22+OR+%22Data+Privacy%22+OR+%22Data+Security%22+OR+%22GDPR%22+OR+%22Data+Protection%22+OR+%22Blockchain%22&type=r\n"
     ]
    },
    {
     "name": "stderr",
     "output_type": "stream",
     "text": [
      "Fetching Results: 2060batch [10:18,  3.73batch/s, Fetched=2060]"
     ]
    },
    {
     "name": "stdout",
     "output_type": "stream",
     "text": [
      "Estimated Time Remaining: 12.02 seconds\n",
      "Fetching: https://www.courtlistener.com/api/rest/v4/search/?court=scotus+ca1+ca2+ca3+ca4+ca5+ca6+ca7+ca8+ca9+ca10+ca11+cadc+cafc+dcd+almd+alnd+alsd+akd+azd+ared+arwd+cacd+caed+cand+casd+cod+ctd+ded+flmd+flnd+flsd+gamd+gand+gasd+hid+idd+ilcd+ilnd+ilsd+innd+insd+iand+iasd+ksd+kyed+kywd+laed+lamd+lawd+med+mdd+mad+mied+miwd+mnd+msnd+mssd+moed+mowd+mtd+ned+nvd+nhd+njd+nmd+nyed+nynd+nysd+nywd+nced+ncmd+ncwd+ndd+ohnd+ohsd+oked+oknd+okwd+ord+paed+pamd+pawd+rid+scd+sdd+tned+tnmd+tnwd+txed+txnd+txsd+txwd+utd+vtd+vaed+vawd+waed+wawd+wvnd+wvsd+wied+wiwd+wyd+gud+nmid+prd+vid&cursor=cz0xMzM4NjgxNjAwMDAwMC4wJnM9NjgzNTE2MjkmdD1yJmQ9MjAyNS0wMS0yOA%3D%3D&filed_after=01%2F01%2F2024&filed_before=01%2F01%2F2025&order_by=dateFiled+desc&q=%22Cybersecurity%22+OR+%22Data+Privacy%22+OR+%22Data+Security%22+OR+%22GDPR%22+OR+%22Data+Protection%22+OR+%22Blockchain%22&type=r\n"
     ]
    },
    {
     "name": "stderr",
     "output_type": "stream",
     "text": [
      "Fetching Results: 2080batch [10:23,  3.88batch/s, Fetched=2080]"
     ]
    },
    {
     "name": "stdout",
     "output_type": "stream",
     "text": [
      "Estimated Time Remaining: 11.99 seconds\n",
      "Fetching: https://www.courtlistener.com/api/rest/v4/search/?court=scotus+ca1+ca2+ca3+ca4+ca5+ca6+ca7+ca8+ca9+ca10+ca11+cadc+cafc+dcd+almd+alnd+alsd+akd+azd+ared+arwd+cacd+caed+cand+casd+cod+ctd+ded+flmd+flnd+flsd+gamd+gand+gasd+hid+idd+ilcd+ilnd+ilsd+innd+insd+iand+iasd+ksd+kyed+kywd+laed+lamd+lawd+med+mdd+mad+mied+miwd+mnd+msnd+mssd+moed+mowd+mtd+ned+nvd+nhd+njd+nmd+nyed+nynd+nysd+nywd+nced+ncmd+ncwd+ndd+ohnd+ohsd+oked+oknd+okwd+ord+paed+pamd+pawd+rid+scd+sdd+tned+tnmd+tnwd+txed+txnd+txsd+txwd+utd+vtd+vaed+vawd+waed+wawd+wvnd+wvsd+wied+wiwd+wyd+gud+nmid+prd+vid&cursor=cz0xMzM4NjQ3MDAwMDAwMC4wJnM9NjgzOTI0MjEmdD1yJmQ9MjAyNS0wMS0yOA%3D%3D&filed_after=01%2F01%2F2024&filed_before=01%2F01%2F2025&order_by=dateFiled+desc&q=%22Cybersecurity%22+OR+%22Data+Privacy%22+OR+%22Data+Security%22+OR+%22GDPR%22+OR+%22Data+Protection%22+OR+%22Blockchain%22&type=r\n"
     ]
    },
    {
     "name": "stderr",
     "output_type": "stream",
     "text": [
      "Fetching Results: 2100batch [10:29,  3.67batch/s, Fetched=2100]"
     ]
    },
    {
     "name": "stdout",
     "output_type": "stream",
     "text": [
      "Estimated Time Remaining: 11.99 seconds\n",
      "Fetching: https://www.courtlistener.com/api/rest/v4/search/?court=scotus+ca1+ca2+ca3+ca4+ca5+ca6+ca7+ca8+ca9+ca10+ca11+cadc+cafc+dcd+almd+alnd+alsd+akd+azd+ared+arwd+cacd+caed+cand+casd+cod+ctd+ded+flmd+flnd+flsd+gamd+gand+gasd+hid+idd+ilcd+ilnd+ilsd+innd+insd+iand+iasd+ksd+kyed+kywd+laed+lamd+lawd+med+mdd+mad+mied+miwd+mnd+msnd+mssd+moed+mowd+mtd+ned+nvd+nhd+njd+nmd+nyed+nynd+nysd+nywd+nced+ncmd+ncwd+ndd+ohnd+ohsd+oked+oknd+okwd+ord+paed+pamd+pawd+rid+scd+sdd+tned+tnmd+tnwd+txed+txnd+txsd+txwd+utd+vtd+vaed+vawd+waed+wawd+wvnd+wvsd+wied+wiwd+wyd+gud+nmid+prd+vid&cursor=cz0xMzM4NjM4NDAwMDAwMC4wJnM9NjgzMzY3MjEmdD1yJmQ9MjAyNS0wMS0yOA%3D%3D&filed_after=01%2F01%2F2024&filed_before=01%2F01%2F2025&order_by=dateFiled+desc&q=%22Cybersecurity%22+OR+%22Data+Privacy%22+OR+%22Data+Security%22+OR+%22GDPR%22+OR+%22Data+Protection%22+OR+%22Blockchain%22&type=r\n"
     ]
    },
    {
     "name": "stderr",
     "output_type": "stream",
     "text": [
      "Fetching Results: 2120batch [10:38,  3.15batch/s, Fetched=2120]"
     ]
    },
    {
     "name": "stdout",
     "output_type": "stream",
     "text": [
      "Estimated Time Remaining: 12.04 seconds\n",
      "Fetching: https://www.courtlistener.com/api/rest/v4/search/?court=scotus+ca1+ca2+ca3+ca4+ca5+ca6+ca7+ca8+ca9+ca10+ca11+cadc+cafc+dcd+almd+alnd+alsd+akd+azd+ared+arwd+cacd+caed+cand+casd+cod+ctd+ded+flmd+flnd+flsd+gamd+gand+gasd+hid+idd+ilcd+ilnd+ilsd+innd+insd+iand+iasd+ksd+kyed+kywd+laed+lamd+lawd+med+mdd+mad+mied+miwd+mnd+msnd+mssd+moed+mowd+mtd+ned+nvd+nhd+njd+nmd+nyed+nynd+nysd+nywd+nced+ncmd+ncwd+ndd+ohnd+ohsd+oked+oknd+okwd+ord+paed+pamd+pawd+rid+scd+sdd+tned+tnmd+tnwd+txed+txnd+txsd+txwd+utd+vtd+vaed+vawd+waed+wawd+wvnd+wvsd+wied+wiwd+wyd+gud+nmid+prd+vid&cursor=cz0xMzM4NTk1MjAwMDAwMC4wJnM9NjgzNDQzMzUmdD1yJmQ9MjAyNS0wMS0yOA%3D%3D&filed_after=01%2F01%2F2024&filed_before=01%2F01%2F2025&order_by=dateFiled+desc&q=%22Cybersecurity%22+OR+%22Data+Privacy%22+OR+%22Data+Security%22+OR+%22GDPR%22+OR+%22Data+Protection%22+OR+%22Blockchain%22&type=r\n"
     ]
    },
    {
     "name": "stderr",
     "output_type": "stream",
     "text": [
      "Fetching Results: 2140batch [10:43,  3.31batch/s, Fetched=2140]"
     ]
    },
    {
     "name": "stdout",
     "output_type": "stream",
     "text": [
      "Estimated Time Remaining: 12.03 seconds\n",
      "Fetching: https://www.courtlistener.com/api/rest/v4/search/?court=scotus+ca1+ca2+ca3+ca4+ca5+ca6+ca7+ca8+ca9+ca10+ca11+cadc+cafc+dcd+almd+alnd+alsd+akd+azd+ared+arwd+cacd+caed+cand+casd+cod+ctd+ded+flmd+flnd+flsd+gamd+gand+gasd+hid+idd+ilcd+ilnd+ilsd+innd+insd+iand+iasd+ksd+kyed+kywd+laed+lamd+lawd+med+mdd+mad+mied+miwd+mnd+msnd+mssd+moed+mowd+mtd+ned+nvd+nhd+njd+nmd+nyed+nynd+nysd+nywd+nced+ncmd+ncwd+ndd+ohnd+ohsd+oked+oknd+okwd+ord+paed+pamd+pawd+rid+scd+sdd+tned+tnmd+tnwd+txed+txnd+txsd+txwd+utd+vtd+vaed+vawd+waed+wawd+wvnd+wvsd+wied+wiwd+wyd+gud+nmid+prd+vid&cursor=cz0xMzM4NTg2NTAwMDAwMC4wJnM9NjgzMTg0NTcmdD1yJmQ9MjAyNS0wMS0yOA%3D%3D&filed_after=01%2F01%2F2024&filed_before=01%2F01%2F2025&order_by=dateFiled+desc&q=%22Cybersecurity%22+OR+%22Data+Privacy%22+OR+%22Data+Security%22+OR+%22GDPR%22+OR+%22Data+Protection%22+OR+%22Blockchain%22&type=r\n"
     ]
    },
    {
     "name": "stderr",
     "output_type": "stream",
     "text": [
      "Fetching Results: 2160batch [10:51,  3.02batch/s, Fetched=2160]"
     ]
    },
    {
     "name": "stdout",
     "output_type": "stream",
     "text": [
      "Estimated Time Remaining: 12.06 seconds\n",
      "Fetching: https://www.courtlistener.com/api/rest/v4/search/?court=scotus+ca1+ca2+ca3+ca4+ca5+ca6+ca7+ca8+ca9+ca10+ca11+cadc+cafc+dcd+almd+alnd+alsd+akd+azd+ared+arwd+cacd+caed+cand+casd+cod+ctd+ded+flmd+flnd+flsd+gamd+gand+gasd+hid+idd+ilcd+ilnd+ilsd+innd+insd+iand+iasd+ksd+kyed+kywd+laed+lamd+lawd+med+mdd+mad+mied+miwd+mnd+msnd+mssd+moed+mowd+mtd+ned+nvd+nhd+njd+nmd+nyed+nynd+nysd+nywd+nced+ncmd+ncwd+ndd+ohnd+ohsd+oked+oknd+okwd+ord+paed+pamd+pawd+rid+scd+sdd+tned+tnmd+tnwd+txed+txnd+txsd+txwd+utd+vtd+vaed+vawd+waed+wawd+wvnd+wvsd+wied+wiwd+wyd+gud+nmid+prd+vid&cursor=cz0xMzM4NTY5MjAwMDAwMC4wJnM9NjgzMTYxMDAmdD1yJmQ9MjAyNS0wMS0yOA%3D%3D&filed_after=01%2F01%2F2024&filed_before=01%2F01%2F2025&order_by=dateFiled+desc&q=%22Cybersecurity%22+OR+%22Data+Privacy%22+OR+%22Data+Security%22+OR+%22GDPR%22+OR+%22Data+Protection%22+OR+%22Blockchain%22&type=r\n"
     ]
    },
    {
     "name": "stderr",
     "output_type": "stream",
     "text": [
      "Fetching Results: 2180batch [11:02,  2.54batch/s, Fetched=2180]"
     ]
    },
    {
     "name": "stdout",
     "output_type": "stream",
     "text": [
      "Estimated Time Remaining: 12.15 seconds\n",
      "Fetching: https://www.courtlistener.com/api/rest/v4/search/?court=scotus+ca1+ca2+ca3+ca4+ca5+ca6+ca7+ca8+ca9+ca10+ca11+cadc+cafc+dcd+almd+alnd+alsd+akd+azd+ared+arwd+cacd+caed+cand+casd+cod+ctd+ded+flmd+flnd+flsd+gamd+gand+gasd+hid+idd+ilcd+ilnd+ilsd+innd+insd+iand+iasd+ksd+kyed+kywd+laed+lamd+lawd+med+mdd+mad+mied+miwd+mnd+msnd+mssd+moed+mowd+mtd+ned+nvd+nhd+njd+nmd+nyed+nynd+nysd+nywd+nced+ncmd+ncwd+ndd+ohnd+ohsd+oked+oknd+okwd+ord+paed+pamd+pawd+rid+scd+sdd+tned+tnmd+tnwd+txed+txnd+txsd+txwd+utd+vtd+vaed+vawd+waed+wawd+wvnd+wvsd+wied+wiwd+wyd+gud+nmid+prd+vid&cursor=cz0xMzM4NTYwNjAwMDAwMC4wJnM9NjgzMTE4MDMmdD1yJmQ9MjAyNS0wMS0yOA%3D%3D&filed_after=01%2F01%2F2024&filed_before=01%2F01%2F2025&order_by=dateFiled+desc&q=%22Cybersecurity%22+OR+%22Data+Privacy%22+OR+%22Data+Security%22+OR+%22GDPR%22+OR+%22Data+Protection%22+OR+%22Blockchain%22&type=r\n"
     ]
    },
    {
     "name": "stderr",
     "output_type": "stream",
     "text": [
      "Fetching Results: 2200batch [11:17,  1.98batch/s, Fetched=2200]"
     ]
    },
    {
     "name": "stdout",
     "output_type": "stream",
     "text": [
      "Estimated Time Remaining: 12.32 seconds\n",
      "Fetching: https://www.courtlistener.com/api/rest/v4/search/?court=scotus+ca1+ca2+ca3+ca4+ca5+ca6+ca7+ca8+ca9+ca10+ca11+cadc+cafc+dcd+almd+alnd+alsd+akd+azd+ared+arwd+cacd+caed+cand+casd+cod+ctd+ded+flmd+flnd+flsd+gamd+gand+gasd+hid+idd+ilcd+ilnd+ilsd+innd+insd+iand+iasd+ksd+kyed+kywd+laed+lamd+lawd+med+mdd+mad+mied+miwd+mnd+msnd+mssd+moed+mowd+mtd+ned+nvd+nhd+njd+nmd+nyed+nynd+nysd+nywd+nced+ncmd+ncwd+ndd+ohnd+ohsd+oked+oknd+okwd+ord+paed+pamd+pawd+rid+scd+sdd+tned+tnmd+tnwd+txed+txnd+txsd+txwd+utd+vtd+vaed+vawd+waed+wawd+wvnd+wvsd+wied+wiwd+wyd+gud+nmid+prd+vid&cursor=cz0xMzM4NTM0NzAwMDAwMC4wJnM9NjgzMDI5ODEmdD1yJmQ9MjAyNS0wMS0yOA%3D%3D&filed_after=01%2F01%2F2024&filed_before=01%2F01%2F2025&order_by=dateFiled+desc&q=%22Cybersecurity%22+OR+%22Data+Privacy%22+OR+%22Data+Security%22+OR+%22GDPR%22+OR+%22Data+Protection%22+OR+%22Blockchain%22&type=r\n"
     ]
    },
    {
     "name": "stderr",
     "output_type": "stream",
     "text": [
      "Fetching Results: 2220batch [11:24,  2.18batch/s, Fetched=2220]"
     ]
    },
    {
     "name": "stdout",
     "output_type": "stream",
     "text": [
      "Estimated Time Remaining: 12.33 seconds\n",
      "Fetching: https://www.courtlistener.com/api/rest/v4/search/?court=scotus+ca1+ca2+ca3+ca4+ca5+ca6+ca7+ca8+ca9+ca10+ca11+cadc+cafc+dcd+almd+alnd+alsd+akd+azd+ared+arwd+cacd+caed+cand+casd+cod+ctd+ded+flmd+flnd+flsd+gamd+gand+gasd+hid+idd+ilcd+ilnd+ilsd+innd+insd+iand+iasd+ksd+kyed+kywd+laed+lamd+lawd+med+mdd+mad+mied+miwd+mnd+msnd+mssd+moed+mowd+mtd+ned+nvd+nhd+njd+nmd+nyed+nynd+nysd+nywd+nced+ncmd+ncwd+ndd+ohnd+ohsd+oked+oknd+okwd+ord+paed+pamd+pawd+rid+scd+sdd+tned+tnmd+tnwd+txed+txnd+txsd+txwd+utd+vtd+vaed+vawd+waed+wawd+wvnd+wvsd+wied+wiwd+wyd+gud+nmid+prd+vid&cursor=cz0xMzM4NTE3NDAwMDAwMC4wJnM9NjgyOTMzMDEmdD1yJmQ9MjAyNS0wMS0yOA%3D%3D&filed_after=01%2F01%2F2024&filed_before=01%2F01%2F2025&order_by=dateFiled+desc&q=%22Cybersecurity%22+OR+%22Data+Privacy%22+OR+%22Data+Security%22+OR+%22GDPR%22+OR+%22Data+Protection%22+OR+%22Blockchain%22&type=r\n"
     ]
    },
    {
     "name": "stderr",
     "output_type": "stream",
     "text": [
      "Fetching Results: 2240batch [11:33,  2.20batch/s, Fetched=2240]"
     ]
    },
    {
     "name": "stdout",
     "output_type": "stream",
     "text": [
      "Estimated Time Remaining: 12.38 seconds\n",
      "Fetching: https://www.courtlistener.com/api/rest/v4/search/?court=scotus+ca1+ca2+ca3+ca4+ca5+ca6+ca7+ca8+ca9+ca10+ca11+cadc+cafc+dcd+almd+alnd+alsd+akd+azd+ared+arwd+cacd+caed+cand+casd+cod+ctd+ded+flmd+flnd+flsd+gamd+gand+gasd+hid+idd+ilcd+ilnd+ilsd+innd+insd+iand+iasd+ksd+kyed+kywd+laed+lamd+lawd+med+mdd+mad+mied+miwd+mnd+msnd+mssd+moed+mowd+mtd+ned+nvd+nhd+njd+nmd+nyed+nynd+nysd+nywd+nced+ncmd+ncwd+ndd+ohnd+ohsd+oked+oknd+okwd+ord+paed+pamd+pawd+rid+scd+sdd+tned+tnmd+tnwd+txed+txnd+txsd+txwd+utd+vtd+vaed+vawd+waed+wawd+wvnd+wvsd+wied+wiwd+wyd+gud+nmid+prd+vid&cursor=cz0xMzM4NTA4ODAwMDAwMC4wJnM9NjgyODgxMDcmdD1yJmQ9MjAyNS0wMS0yOA%3D%3D&filed_after=01%2F01%2F2024&filed_before=01%2F01%2F2025&order_by=dateFiled+desc&q=%22Cybersecurity%22+OR+%22Data+Privacy%22+OR+%22Data+Security%22+OR+%22GDPR%22+OR+%22Data+Protection%22+OR+%22Blockchain%22&type=r\n"
     ]
    },
    {
     "name": "stderr",
     "output_type": "stream",
     "text": [
      "Fetching Results: 2260batch [11:41,  2.28batch/s, Fetched=2260]"
     ]
    },
    {
     "name": "stdout",
     "output_type": "stream",
     "text": [
      "Estimated Time Remaining: 12.41 seconds\n",
      "Fetching: https://www.courtlistener.com/api/rest/v4/search/?court=scotus+ca1+ca2+ca3+ca4+ca5+ca6+ca7+ca8+ca9+ca10+ca11+cadc+cafc+dcd+almd+alnd+alsd+akd+azd+ared+arwd+cacd+caed+cand+casd+cod+ctd+ded+flmd+flnd+flsd+gamd+gand+gasd+hid+idd+ilcd+ilnd+ilsd+innd+insd+iand+iasd+ksd+kyed+kywd+laed+lamd+lawd+med+mdd+mad+mied+miwd+mnd+msnd+mssd+moed+mowd+mtd+ned+nvd+nhd+njd+nmd+nyed+nynd+nysd+nywd+nced+ncmd+ncwd+ndd+ohnd+ohsd+oked+oknd+okwd+ord+paed+pamd+pawd+rid+scd+sdd+tned+tnmd+tnwd+txed+txnd+txsd+txwd+utd+vtd+vaed+vawd+waed+wawd+wvnd+wvsd+wied+wiwd+wyd+gud+nmid+prd+vid&cursor=cz0xMzM4NTAwMTAwMDAwMC4wJnM9NjgyODMzODEmdD1yJmQ9MjAyNS0wMS0yOA%3D%3D&filed_after=01%2F01%2F2024&filed_before=01%2F01%2F2025&order_by=dateFiled+desc&q=%22Cybersecurity%22+OR+%22Data+Privacy%22+OR+%22Data+Security%22+OR+%22GDPR%22+OR+%22Data+Protection%22+OR+%22Blockchain%22&type=r\n"
     ]
    },
    {
     "name": "stderr",
     "output_type": "stream",
     "text": [
      "Fetching Results: 2280batch [11:46,  2.56batch/s, Fetched=2280]"
     ]
    },
    {
     "name": "stdout",
     "output_type": "stream",
     "text": [
      "Estimated Time Remaining: 12.40 seconds\n",
      "Fetching: https://www.courtlistener.com/api/rest/v4/search/?court=scotus+ca1+ca2+ca3+ca4+ca5+ca6+ca7+ca8+ca9+ca10+ca11+cadc+cafc+dcd+almd+alnd+alsd+akd+azd+ared+arwd+cacd+caed+cand+casd+cod+ctd+ded+flmd+flnd+flsd+gamd+gand+gasd+hid+idd+ilcd+ilnd+ilsd+innd+insd+iand+iasd+ksd+kyed+kywd+laed+lamd+lawd+med+mdd+mad+mied+miwd+mnd+msnd+mssd+moed+mowd+mtd+ned+nvd+nhd+njd+nmd+nyed+nynd+nysd+nywd+nced+ncmd+ncwd+ndd+ohnd+ohsd+oked+oknd+okwd+ord+paed+pamd+pawd+rid+scd+sdd+tned+tnmd+tnwd+txed+txnd+txsd+txwd+utd+vtd+vaed+vawd+waed+wawd+wvnd+wvsd+wied+wiwd+wyd+gud+nmid+prd+vid&cursor=cz0xMzM4NDc0MjAwMDAwMC4wJnM9NjgyODAwMTImdD1yJmQ9MjAyNS0wMS0yOA%3D%3D&filed_after=01%2F01%2F2024&filed_before=01%2F01%2F2025&order_by=dateFiled+desc&q=%22Cybersecurity%22+OR+%22Data+Privacy%22+OR+%22Data+Security%22+OR+%22GDPR%22+OR+%22Data+Protection%22+OR+%22Blockchain%22&type=r\n"
     ]
    },
    {
     "name": "stderr",
     "output_type": "stream",
     "text": [
      "Fetching Results: 2300batch [11:52,  2.86batch/s, Fetched=2300]"
     ]
    },
    {
     "name": "stdout",
     "output_type": "stream",
     "text": [
      "Estimated Time Remaining: 12.38 seconds\n",
      "Fetching: https://www.courtlistener.com/api/rest/v4/search/?court=scotus+ca1+ca2+ca3+ca4+ca5+ca6+ca7+ca8+ca9+ca10+ca11+cadc+cafc+dcd+almd+alnd+alsd+akd+azd+ared+arwd+cacd+caed+cand+casd+cod+ctd+ded+flmd+flnd+flsd+gamd+gand+gasd+hid+idd+ilcd+ilnd+ilsd+innd+insd+iand+iasd+ksd+kyed+kywd+laed+lamd+lawd+med+mdd+mad+mied+miwd+mnd+msnd+mssd+moed+mowd+mtd+ned+nvd+nhd+njd+nmd+nyed+nynd+nysd+nywd+nced+ncmd+ncwd+ndd+ohnd+ohsd+oked+oknd+okwd+ord+paed+pamd+pawd+rid+scd+sdd+tned+tnmd+tnwd+txed+txnd+txsd+txwd+utd+vtd+vaed+vawd+waed+wawd+wvnd+wvsd+wied+wiwd+wyd+gud+nmid+prd+vid&cursor=cz0xMzM4NDY1NjAwMDAwMC4wJnM9NjgyNzI3MDcmdD1yJmQ9MjAyNS0wMS0yOA%3D%3D&filed_after=01%2F01%2F2024&filed_before=01%2F01%2F2025&order_by=dateFiled+desc&q=%22Cybersecurity%22+OR+%22Data+Privacy%22+OR+%22Data+Security%22+OR+%22GDPR%22+OR+%22Data+Protection%22+OR+%22Blockchain%22&type=r\n"
     ]
    },
    {
     "name": "stderr",
     "output_type": "stream",
     "text": [
      "Fetching Results: 2320batch [11:56,  3.23batch/s, Fetched=2320]"
     ]
    },
    {
     "name": "stdout",
     "output_type": "stream",
     "text": [
      "Estimated Time Remaining: 12.35 seconds\n",
      "Fetching: https://www.courtlistener.com/api/rest/v4/search/?court=scotus+ca1+ca2+ca3+ca4+ca5+ca6+ca7+ca8+ca9+ca10+ca11+cadc+cafc+dcd+almd+alnd+alsd+akd+azd+ared+arwd+cacd+caed+cand+casd+cod+ctd+ded+flmd+flnd+flsd+gamd+gand+gasd+hid+idd+ilcd+ilnd+ilsd+innd+insd+iand+iasd+ksd+kyed+kywd+laed+lamd+lawd+med+mdd+mad+mied+miwd+mnd+msnd+mssd+moed+mowd+mtd+ned+nvd+nhd+njd+nmd+nyed+nynd+nysd+nywd+nced+ncmd+ncwd+ndd+ohnd+ohsd+oked+oknd+okwd+ord+paed+pamd+pawd+rid+scd+sdd+tned+tnmd+tnwd+txed+txnd+txsd+txwd+utd+vtd+vaed+vawd+waed+wawd+wvnd+wvsd+wied+wiwd+wyd+gud+nmid+prd+vid&cursor=cz0xMzM4NDU2OTAwMDAwMC4wJnM9NjgyNjkzMzQmdD1yJmQ9MjAyNS0wMS0yOA%3D%3D&filed_after=01%2F01%2F2024&filed_before=01%2F01%2F2025&order_by=dateFiled+desc&q=%22Cybersecurity%22+OR+%22Data+Privacy%22+OR+%22Data+Security%22+OR+%22GDPR%22+OR+%22Data+Protection%22+OR+%22Blockchain%22&type=r\n"
     ]
    },
    {
     "name": "stderr",
     "output_type": "stream",
     "text": [
      "Fetching Results: 2340batch [12:03,  3.06batch/s, Fetched=2340]"
     ]
    },
    {
     "name": "stdout",
     "output_type": "stream",
     "text": [
      "Estimated Time Remaining: 12.37 seconds\n",
      "Fetching: https://www.courtlistener.com/api/rest/v4/search/?court=scotus+ca1+ca2+ca3+ca4+ca5+ca6+ca7+ca8+ca9+ca10+ca11+cadc+cafc+dcd+almd+alnd+alsd+akd+azd+ared+arwd+cacd+caed+cand+casd+cod+ctd+ded+flmd+flnd+flsd+gamd+gand+gasd+hid+idd+ilcd+ilnd+ilsd+innd+insd+iand+iasd+ksd+kyed+kywd+laed+lamd+lawd+med+mdd+mad+mied+miwd+mnd+msnd+mssd+moed+mowd+mtd+ned+nvd+nhd+njd+nmd+nyed+nynd+nysd+nywd+nced+ncmd+ncwd+ndd+ohnd+ohsd+oked+oknd+okwd+ord+paed+pamd+pawd+rid+scd+sdd+tned+tnmd+tnwd+txed+txnd+txsd+txwd+utd+vtd+vaed+vawd+waed+wawd+wvnd+wvsd+wied+wiwd+wyd+gud+nmid+prd+vid&cursor=cz0xMzM4NDM5NjAwMDAwMC4wJnM9NjgyNjI5ODEmdD1yJmQ9MjAyNS0wMS0yOA%3D%3D&filed_after=01%2F01%2F2024&filed_before=01%2F01%2F2025&order_by=dateFiled+desc&q=%22Cybersecurity%22+OR+%22Data+Privacy%22+OR+%22Data+Security%22+OR+%22GDPR%22+OR+%22Data+Protection%22+OR+%22Blockchain%22&type=r\n"
     ]
    },
    {
     "name": "stderr",
     "output_type": "stream",
     "text": [
      "Fetching Results: 2360batch [12:11,  2.90batch/s, Fetched=2360]"
     ]
    },
    {
     "name": "stdout",
     "output_type": "stream",
     "text": [
      "Estimated Time Remaining: 12.40 seconds\n",
      "Fetching: https://www.courtlistener.com/api/rest/v4/search/?court=scotus+ca1+ca2+ca3+ca4+ca5+ca6+ca7+ca8+ca9+ca10+ca11+cadc+cafc+dcd+almd+alnd+alsd+akd+azd+ared+arwd+cacd+caed+cand+casd+cod+ctd+ded+flmd+flnd+flsd+gamd+gand+gasd+hid+idd+ilcd+ilnd+ilsd+innd+insd+iand+iasd+ksd+kyed+kywd+laed+lamd+lawd+med+mdd+mad+mied+miwd+mnd+msnd+mssd+moed+mowd+mtd+ned+nvd+nhd+njd+nmd+nyed+nynd+nysd+nywd+nced+ncmd+ncwd+ndd+ohnd+ohsd+oked+oknd+okwd+ord+paed+pamd+pawd+rid+scd+sdd+tned+tnmd+tnwd+txed+txnd+txsd+txwd+utd+vtd+vaed+vawd+waed+wawd+wvnd+wvsd+wied+wiwd+wyd+gud+nmid+prd+vid&cursor=cz0xMzM4NDEzNzAwMDAwMC4wJnM9NjgyNjAzODQmdD1yJmQ9MjAyNS0wMS0yOA%3D%3D&filed_after=01%2F01%2F2024&filed_before=01%2F01%2F2025&order_by=dateFiled+desc&q=%22Cybersecurity%22+OR+%22Data+Privacy%22+OR+%22Data+Security%22+OR+%22GDPR%22+OR+%22Data+Protection%22+OR+%22Blockchain%22&type=r\n"
     ]
    },
    {
     "name": "stderr",
     "output_type": "stream",
     "text": [
      "Fetching Results: 2380batch [12:16,  3.15batch/s, Fetched=2380]"
     ]
    },
    {
     "name": "stdout",
     "output_type": "stream",
     "text": [
      "Estimated Time Remaining: 12.38 seconds\n",
      "Fetching: https://www.courtlistener.com/api/rest/v4/search/?court=scotus+ca1+ca2+ca3+ca4+ca5+ca6+ca7+ca8+ca9+ca10+ca11+cadc+cafc+dcd+almd+alnd+alsd+akd+azd+ared+arwd+cacd+caed+cand+casd+cod+ctd+ded+flmd+flnd+flsd+gamd+gand+gasd+hid+idd+ilcd+ilnd+ilsd+innd+insd+iand+iasd+ksd+kyed+kywd+laed+lamd+lawd+med+mdd+mad+mied+miwd+mnd+msnd+mssd+moed+mowd+mtd+ned+nvd+nhd+njd+nmd+nyed+nynd+nysd+nywd+nced+ncmd+ncwd+ndd+ohnd+ohsd+oked+oknd+okwd+ord+paed+pamd+pawd+rid+scd+sdd+tned+tnmd+tnwd+txed+txnd+txsd+txwd+utd+vtd+vaed+vawd+waed+wawd+wvnd+wvsd+wied+wiwd+wyd+gud+nmid+prd+vid&cursor=cz0xMzM4NDA1MTAwMDAwMC4wJnM9NjgyNTMzNzImdD1yJmQ9MjAyNS0wMS0yOA%3D%3D&filed_after=01%2F01%2F2024&filed_before=01%2F01%2F2025&order_by=dateFiled+desc&q=%22Cybersecurity%22+OR+%22Data+Privacy%22+OR+%22Data+Security%22+OR+%22GDPR%22+OR+%22Data+Protection%22+OR+%22Blockchain%22&type=r\n"
     ]
    },
    {
     "name": "stderr",
     "output_type": "stream",
     "text": [
      "Fetching Results: 2400batch [12:21,  3.45batch/s, Fetched=2400]"
     ]
    },
    {
     "name": "stdout",
     "output_type": "stream",
     "text": [
      "Estimated Time Remaining: 12.35 seconds\n",
      "Fetching: https://www.courtlistener.com/api/rest/v4/search/?court=scotus+ca1+ca2+ca3+ca4+ca5+ca6+ca7+ca8+ca9+ca10+ca11+cadc+cafc+dcd+almd+alnd+alsd+akd+azd+ared+arwd+cacd+caed+cand+casd+cod+ctd+ded+flmd+flnd+flsd+gamd+gand+gasd+hid+idd+ilcd+ilnd+ilsd+innd+insd+iand+iasd+ksd+kyed+kywd+laed+lamd+lawd+med+mdd+mad+mied+miwd+mnd+msnd+mssd+moed+mowd+mtd+ned+nvd+nhd+njd+nmd+nyed+nynd+nysd+nywd+nced+ncmd+ncwd+ndd+ohnd+ohsd+oked+oknd+okwd+ord+paed+pamd+pawd+rid+scd+sdd+tned+tnmd+tnwd+txed+txnd+txsd+txwd+utd+vtd+vaed+vawd+waed+wawd+wvnd+wvsd+wied+wiwd+wyd+gud+nmid+prd+vid&cursor=cz0xMzM4Mzc5MjAwMDAwMC4wJnM9NjgyNDc2OTUmdD1yJmQ9MjAyNS0wMS0yOA%3D%3D&filed_after=01%2F01%2F2024&filed_before=01%2F01%2F2025&order_by=dateFiled+desc&q=%22Cybersecurity%22+OR+%22Data+Privacy%22+OR+%22Data+Security%22+OR+%22GDPR%22+OR+%22Data+Protection%22+OR+%22Blockchain%22&type=r\n"
     ]
    },
    {
     "name": "stderr",
     "output_type": "stream",
     "text": [
      "Fetching Results: 2420batch [12:27,  3.29batch/s, Fetched=2420]"
     ]
    },
    {
     "name": "stdout",
     "output_type": "stream",
     "text": [
      "Estimated Time Remaining: 12.36 seconds\n",
      "Fetching: https://www.courtlistener.com/api/rest/v4/search/?court=scotus+ca1+ca2+ca3+ca4+ca5+ca6+ca7+ca8+ca9+ca10+ca11+cadc+cafc+dcd+almd+alnd+alsd+akd+azd+ared+arwd+cacd+caed+cand+casd+cod+ctd+ded+flmd+flnd+flsd+gamd+gand+gasd+hid+idd+ilcd+ilnd+ilsd+innd+insd+iand+iasd+ksd+kyed+kywd+laed+lamd+lawd+med+mdd+mad+mied+miwd+mnd+msnd+mssd+moed+mowd+mtd+ned+nvd+nhd+njd+nmd+nyed+nynd+nysd+nywd+nced+ncmd+ncwd+ndd+ohnd+ohsd+oked+oknd+okwd+ord+paed+pamd+pawd+rid+scd+sdd+tned+tnmd+tnwd+txed+txnd+txsd+txwd+utd+vtd+vaed+vawd+waed+wawd+wvnd+wvsd+wied+wiwd+wyd+gud+nmid+prd+vid&cursor=cz0xMzM4MzQ0NjAwMDAwMC4wJnM9NjgyMzcxMDMmdD1yJmQ9MjAyNS0wMS0yOA%3D%3D&filed_after=01%2F01%2F2024&filed_before=01%2F01%2F2025&order_by=dateFiled+desc&q=%22Cybersecurity%22+OR+%22Data+Privacy%22+OR+%22Data+Security%22+OR+%22GDPR%22+OR+%22Data+Protection%22+OR+%22Blockchain%22&type=r\n"
     ]
    },
    {
     "name": "stderr",
     "output_type": "stream",
     "text": [
      "Fetching Results: 2440batch [12:32,  3.45batch/s, Fetched=2440]"
     ]
    },
    {
     "name": "stdout",
     "output_type": "stream",
     "text": [
      "Estimated Time Remaining: 12.34 seconds\n",
      "Fetching: https://www.courtlistener.com/api/rest/v4/search/?court=scotus+ca1+ca2+ca3+ca4+ca5+ca6+ca7+ca8+ca9+ca10+ca11+cadc+cafc+dcd+almd+alnd+alsd+akd+azd+ared+arwd+cacd+caed+cand+casd+cod+ctd+ded+flmd+flnd+flsd+gamd+gand+gasd+hid+idd+ilcd+ilnd+ilsd+innd+insd+iand+iasd+ksd+kyed+kywd+laed+lamd+lawd+med+mdd+mad+mied+miwd+mnd+msnd+mssd+moed+mowd+mtd+ned+nvd+nhd+njd+nmd+nyed+nynd+nysd+nywd+nced+ncmd+ncwd+ndd+ohnd+ohsd+oked+oknd+okwd+ord+paed+pamd+pawd+rid+scd+sdd+tned+tnmd+tnwd+txed+txnd+txsd+txwd+utd+vtd+vaed+vawd+waed+wawd+wvnd+wvsd+wied+wiwd+wyd+gud+nmid+prd+vid&cursor=cz0xMzM4MzI3MzAwMDAwMC4wJnM9NjgyMzkxMDQmdD1yJmQ9MjAyNS0wMS0yOA%3D%3D&filed_after=01%2F01%2F2024&filed_before=01%2F01%2F2025&order_by=dateFiled+desc&q=%22Cybersecurity%22+OR+%22Data+Privacy%22+OR+%22Data+Security%22+OR+%22GDPR%22+OR+%22Data+Protection%22+OR+%22Blockchain%22&type=r\n"
     ]
    },
    {
     "name": "stderr",
     "output_type": "stream",
     "text": [
      "Fetching Results: 2460batch [12:36,  3.91batch/s, Fetched=2460]"
     ]
    },
    {
     "name": "stdout",
     "output_type": "stream",
     "text": [
      "Estimated Time Remaining: 12.30 seconds\n",
      "Fetching: https://www.courtlistener.com/api/rest/v4/search/?court=scotus+ca1+ca2+ca3+ca4+ca5+ca6+ca7+ca8+ca9+ca10+ca11+cadc+cafc+dcd+almd+alnd+alsd+akd+azd+ared+arwd+cacd+caed+cand+casd+cod+ctd+ded+flmd+flnd+flsd+gamd+gand+gasd+hid+idd+ilcd+ilnd+ilsd+innd+insd+iand+iasd+ksd+kyed+kywd+laed+lamd+lawd+med+mdd+mad+mied+miwd+mnd+msnd+mssd+moed+mowd+mtd+ned+nvd+nhd+njd+nmd+nyed+nynd+nysd+nywd+nced+ncmd+ncwd+ndd+ohnd+ohsd+oked+oknd+okwd+ord+paed+pamd+pawd+rid+scd+sdd+tned+tnmd+tnwd+txed+txnd+txsd+txwd+utd+vtd+vaed+vawd+waed+wawd+wvnd+wvsd+wied+wiwd+wyd+gud+nmid+prd+vid&cursor=cz0xMzM4MzE4NzAwMDAwMC4wJnM9NjgyMjUyNTcmdD1yJmQ9MjAyNS0wMS0yOA%3D%3D&filed_after=01%2F01%2F2024&filed_before=01%2F01%2F2025&order_by=dateFiled+desc&q=%22Cybersecurity%22+OR+%22Data+Privacy%22+OR+%22Data+Security%22+OR+%22GDPR%22+OR+%22Data+Protection%22+OR+%22Blockchain%22&type=r\n"
     ]
    },
    {
     "name": "stderr",
     "output_type": "stream",
     "text": [
      "Fetching Results: 2480batch [12:40,  4.15batch/s, Fetched=2480]"
     ]
    },
    {
     "name": "stdout",
     "output_type": "stream",
     "text": [
      "Estimated Time Remaining: 12.27 seconds\n",
      "Fetching: https://www.courtlistener.com/api/rest/v4/search/?court=scotus+ca1+ca2+ca3+ca4+ca5+ca6+ca7+ca8+ca9+ca10+ca11+cadc+cafc+dcd+almd+alnd+alsd+akd+azd+ared+arwd+cacd+caed+cand+casd+cod+ctd+ded+flmd+flnd+flsd+gamd+gand+gasd+hid+idd+ilcd+ilnd+ilsd+innd+insd+iand+iasd+ksd+kyed+kywd+laed+lamd+lawd+med+mdd+mad+mied+miwd+mnd+msnd+mssd+moed+mowd+mtd+ned+nvd+nhd+njd+nmd+nyed+nynd+nysd+nywd+nced+ncmd+ncwd+ndd+ohnd+ohsd+oked+oknd+okwd+ord+paed+pamd+pawd+rid+scd+sdd+tned+tnmd+tnwd+txed+txnd+txsd+txwd+utd+vtd+vaed+vawd+waed+wawd+wvnd+wvsd+wied+wiwd+wyd+gud+nmid+prd+vid&cursor=cz0xMzM4MjkyODAwMDAwMC4wJnM9NjgyMTkxNTAmdD1yJmQ9MjAyNS0wMS0yOA%3D%3D&filed_after=01%2F01%2F2024&filed_before=01%2F01%2F2025&order_by=dateFiled+desc&q=%22Cybersecurity%22+OR+%22Data+Privacy%22+OR+%22Data+Security%22+OR+%22GDPR%22+OR+%22Data+Protection%22+OR+%22Blockchain%22&type=r\n"
     ]
    },
    {
     "name": "stderr",
     "output_type": "stream",
     "text": [
      "Fetching Results: 2500batch [12:45,  4.25batch/s, Fetched=2500]"
     ]
    },
    {
     "name": "stdout",
     "output_type": "stream",
     "text": [
      "Estimated Time Remaining: 12.24 seconds\n",
      "Fetching: https://www.courtlistener.com/api/rest/v4/search/?court=scotus+ca1+ca2+ca3+ca4+ca5+ca6+ca7+ca8+ca9+ca10+ca11+cadc+cafc+dcd+almd+alnd+alsd+akd+azd+ared+arwd+cacd+caed+cand+casd+cod+ctd+ded+flmd+flnd+flsd+gamd+gand+gasd+hid+idd+ilcd+ilnd+ilsd+innd+insd+iand+iasd+ksd+kyed+kywd+laed+lamd+lawd+med+mdd+mad+mied+miwd+mnd+msnd+mssd+moed+mowd+mtd+ned+nvd+nhd+njd+nmd+nyed+nynd+nysd+nywd+nced+ncmd+ncwd+ndd+ohnd+ohsd+oked+oknd+okwd+ord+paed+pamd+pawd+rid+scd+sdd+tned+tnmd+tnwd+txed+txnd+txsd+txwd+utd+vtd+vaed+vawd+waed+wawd+wvnd+wvsd+wied+wiwd+wyd+gud+nmid+prd+vid&cursor=cz0xMzM4Mjc1NTAwMDAwMC4wJnM9NjgyMTM3NTYmdD1yJmQ9MjAyNS0wMS0yOA%3D%3D&filed_after=01%2F01%2F2024&filed_before=01%2F01%2F2025&order_by=dateFiled+desc&q=%22Cybersecurity%22+OR+%22Data+Privacy%22+OR+%22Data+Security%22+OR+%22GDPR%22+OR+%22Data+Protection%22+OR+%22Blockchain%22&type=r\n"
     ]
    },
    {
     "name": "stderr",
     "output_type": "stream",
     "text": [
      "Fetching Results: 2520batch [12:49,  4.31batch/s, Fetched=2520]"
     ]
    },
    {
     "name": "stdout",
     "output_type": "stream",
     "text": [
      "Estimated Time Remaining: 12.21 seconds\n",
      "Fetching: https://www.courtlistener.com/api/rest/v4/search/?court=scotus+ca1+ca2+ca3+ca4+ca5+ca6+ca7+ca8+ca9+ca10+ca11+cadc+cafc+dcd+almd+alnd+alsd+akd+azd+ared+arwd+cacd+caed+cand+casd+cod+ctd+ded+flmd+flnd+flsd+gamd+gand+gasd+hid+idd+ilcd+ilnd+ilsd+innd+insd+iand+iasd+ksd+kyed+kywd+laed+lamd+lawd+med+mdd+mad+mied+miwd+mnd+msnd+mssd+moed+mowd+mtd+ned+nvd+nhd+njd+nmd+nyed+nynd+nysd+nywd+nced+ncmd+ncwd+ndd+ohnd+ohsd+oked+oknd+okwd+ord+paed+pamd+pawd+rid+scd+sdd+tned+tnmd+tnwd+txed+txnd+txsd+txwd+utd+vtd+vaed+vawd+waed+wawd+wvnd+wvsd+wied+wiwd+wyd+gud+nmid+prd+vid&cursor=cz0xMzM4MjY2OTAwMDAwMC4wJnM9NjgyMDU5MTMmdD1yJmQ9MjAyNS0wMS0yOA%3D%3D&filed_after=01%2F01%2F2024&filed_before=01%2F01%2F2025&order_by=dateFiled+desc&q=%22Cybersecurity%22+OR+%22Data+Privacy%22+OR+%22Data+Security%22+OR+%22GDPR%22+OR+%22Data+Protection%22+OR+%22Blockchain%22&type=r\n"
     ]
    },
    {
     "name": "stderr",
     "output_type": "stream",
     "text": [
      "Fetching Results: 2540batch [12:56,  3.70batch/s, Fetched=2540]"
     ]
    },
    {
     "name": "stdout",
     "output_type": "stream",
     "text": [
      "Estimated Time Remaining: 12.23 seconds\n",
      "Fetching: https://www.courtlistener.com/api/rest/v4/search/?court=scotus+ca1+ca2+ca3+ca4+ca5+ca6+ca7+ca8+ca9+ca10+ca11+cadc+cafc+dcd+almd+alnd+alsd+akd+azd+ared+arwd+cacd+caed+cand+casd+cod+ctd+ded+flmd+flnd+flsd+gamd+gand+gasd+hid+idd+ilcd+ilnd+ilsd+innd+insd+iand+iasd+ksd+kyed+kywd+laed+lamd+lawd+med+mdd+mad+mied+miwd+mnd+msnd+mssd+moed+mowd+mtd+ned+nvd+nhd+njd+nmd+nyed+nynd+nysd+nywd+nced+ncmd+ncwd+ndd+ohnd+ohsd+oked+oknd+okwd+ord+paed+pamd+pawd+rid+scd+sdd+tned+tnmd+tnwd+txed+txnd+txsd+txwd+utd+vtd+vaed+vawd+waed+wawd+wvnd+wvsd+wied+wiwd+wyd+gud+nmid+prd+vid&cursor=cz0xMzM4MjMyMzAwMDAwMC4wJnM9NjgyMDIxNTEmdD1yJmQ9MjAyNS0wMS0yOA%3D%3D&filed_after=01%2F01%2F2024&filed_before=01%2F01%2F2025&order_by=dateFiled+desc&q=%22Cybersecurity%22+OR+%22Data+Privacy%22+OR+%22Data+Security%22+OR+%22GDPR%22+OR+%22Data+Protection%22+OR+%22Blockchain%22&type=r\n"
     ]
    },
    {
     "name": "stderr",
     "output_type": "stream",
     "text": [
      "Fetching Results: 2560batch [13:00,  3.99batch/s, Fetched=2560]"
     ]
    },
    {
     "name": "stdout",
     "output_type": "stream",
     "text": [
      "Estimated Time Remaining: 12.20 seconds\n",
      "Fetching: https://www.courtlistener.com/api/rest/v4/search/?court=scotus+ca1+ca2+ca3+ca4+ca5+ca6+ca7+ca8+ca9+ca10+ca11+cadc+cafc+dcd+almd+alnd+alsd+akd+azd+ared+arwd+cacd+caed+cand+casd+cod+ctd+ded+flmd+flnd+flsd+gamd+gand+gasd+hid+idd+ilcd+ilnd+ilsd+innd+insd+iand+iasd+ksd+kyed+kywd+laed+lamd+lawd+med+mdd+mad+mied+miwd+mnd+msnd+mssd+moed+mowd+mtd+ned+nvd+nhd+njd+nmd+nyed+nynd+nysd+nywd+nced+ncmd+ncwd+ndd+ohnd+ohsd+oked+oknd+okwd+ord+paed+pamd+pawd+rid+scd+sdd+tned+tnmd+tnwd+txed+txnd+txsd+txwd+utd+vtd+vaed+vawd+waed+wawd+wvnd+wvsd+wied+wiwd+wyd+gud+nmid+prd+vid&cursor=cz0xMzM4MjIzNzAwMDAwMC4wJnM9NjgxOTU0MjgmdD1yJmQ9MjAyNS0wMS0yOA%3D%3D&filed_after=01%2F01%2F2024&filed_before=01%2F01%2F2025&order_by=dateFiled+desc&q=%22Cybersecurity%22+OR+%22Data+Privacy%22+OR+%22Data+Security%22+OR+%22GDPR%22+OR+%22Data+Protection%22+OR+%22Blockchain%22&type=r\n"
     ]
    },
    {
     "name": "stderr",
     "output_type": "stream",
     "text": [
      "Fetching Results: 2580batch [13:06,  3.84batch/s, Fetched=2580]"
     ]
    },
    {
     "name": "stdout",
     "output_type": "stream",
     "text": [
      "Estimated Time Remaining: 12.19 seconds\n",
      "Fetching: https://www.courtlistener.com/api/rest/v4/search/?court=scotus+ca1+ca2+ca3+ca4+ca5+ca6+ca7+ca8+ca9+ca10+ca11+cadc+cafc+dcd+almd+alnd+alsd+akd+azd+ared+arwd+cacd+caed+cand+casd+cod+ctd+ded+flmd+flnd+flsd+gamd+gand+gasd+hid+idd+ilcd+ilnd+ilsd+innd+insd+iand+iasd+ksd+kyed+kywd+laed+lamd+lawd+med+mdd+mad+mied+miwd+mnd+msnd+mssd+moed+mowd+mtd+ned+nvd+nhd+njd+nmd+nyed+nynd+nysd+nywd+nced+ncmd+ncwd+ndd+ohnd+ohsd+oked+oknd+okwd+ord+paed+pamd+pawd+rid+scd+sdd+tned+tnmd+tnwd+txed+txnd+txsd+txwd+utd+vtd+vaed+vawd+waed+wawd+wvnd+wvsd+wied+wiwd+wyd+gud+nmid+prd+vid&cursor=cz0xMzM4MjA2NDAwMDAwMC4wJnM9NjgxODc0MDgmdD1yJmQ9MjAyNS0wMS0yOA%3D%3D&filed_after=01%2F01%2F2024&filed_before=01%2F01%2F2025&order_by=dateFiled+desc&q=%22Cybersecurity%22+OR+%22Data+Privacy%22+OR+%22Data+Security%22+OR+%22GDPR%22+OR+%22Data+Protection%22+OR+%22Blockchain%22&type=r\n"
     ]
    },
    {
     "name": "stderr",
     "output_type": "stream",
     "text": [
      "Fetching Results: 2600batch [13:12,  3.62batch/s, Fetched=2600]"
     ]
    },
    {
     "name": "stdout",
     "output_type": "stream",
     "text": [
      "Estimated Time Remaining: 12.20 seconds\n",
      "Fetching: https://www.courtlistener.com/api/rest/v4/search/?court=scotus+ca1+ca2+ca3+ca4+ca5+ca6+ca7+ca8+ca9+ca10+ca11+cadc+cafc+dcd+almd+alnd+alsd+akd+azd+ared+arwd+cacd+caed+cand+casd+cod+ctd+ded+flmd+flnd+flsd+gamd+gand+gasd+hid+idd+ilcd+ilnd+ilsd+innd+insd+iand+iasd+ksd+kyed+kywd+laed+lamd+lawd+med+mdd+mad+mied+miwd+mnd+msnd+mssd+moed+mowd+mtd+ned+nvd+nhd+njd+nmd+nyed+nynd+nysd+nywd+nced+ncmd+ncwd+ndd+ohnd+ohsd+oked+oknd+okwd+ord+paed+pamd+pawd+rid+scd+sdd+tned+tnmd+tnwd+txed+txnd+txsd+txwd+utd+vtd+vaed+vawd+waed+wawd+wvnd+wvsd+wied+wiwd+wyd+gud+nmid+prd+vid&cursor=cz0xMzM4MTcxODAwMDAwMC4wJnM9Njk1MTAwMDUmdD1yJmQ9MjAyNS0wMS0yOA%3D%3D&filed_after=01%2F01%2F2024&filed_before=01%2F01%2F2025&order_by=dateFiled+desc&q=%22Cybersecurity%22+OR+%22Data+Privacy%22+OR+%22Data+Security%22+OR+%22GDPR%22+OR+%22Data+Protection%22+OR+%22Blockchain%22&type=r\n"
     ]
    },
    {
     "name": "stderr",
     "output_type": "stream",
     "text": [
      "Fetching Results: 2620batch [13:17,  3.70batch/s, Fetched=2620]"
     ]
    },
    {
     "name": "stdout",
     "output_type": "stream",
     "text": [
      "Estimated Time Remaining: 12.18 seconds\n",
      "Fetching: https://www.courtlistener.com/api/rest/v4/search/?court=scotus+ca1+ca2+ca3+ca4+ca5+ca6+ca7+ca8+ca9+ca10+ca11+cadc+cafc+dcd+almd+alnd+alsd+akd+azd+ared+arwd+cacd+caed+cand+casd+cod+ctd+ded+flmd+flnd+flsd+gamd+gand+gasd+hid+idd+ilcd+ilnd+ilsd+innd+insd+iand+iasd+ksd+kyed+kywd+laed+lamd+lawd+med+mdd+mad+mied+miwd+mnd+msnd+mssd+moed+mowd+mtd+ned+nvd+nhd+njd+nmd+nyed+nynd+nysd+nywd+nced+ncmd+ncwd+ndd+ohnd+ohsd+oked+oknd+okwd+ord+paed+pamd+pawd+rid+scd+sdd+tned+tnmd+tnwd+txed+txnd+txsd+txwd+utd+vtd+vaed+vawd+waed+wawd+wvnd+wvsd+wied+wiwd+wyd+gud+nmid+prd+vid&cursor=cz0xMzM4MTYzMjAwMDAwMC4wJnM9NjgxNzMwMTcmdD1yJmQ9MjAyNS0wMS0yOA%3D%3D&filed_after=01%2F01%2F2024&filed_before=01%2F01%2F2025&order_by=dateFiled+desc&q=%22Cybersecurity%22+OR+%22Data+Privacy%22+OR+%22Data+Security%22+OR+%22GDPR%22+OR+%22Data+Protection%22+OR+%22Blockchain%22&type=r\n"
     ]
    },
    {
     "name": "stderr",
     "output_type": "stream",
     "text": [
      "Fetching Results: 2640batch [13:23,  3.69batch/s, Fetched=2640]"
     ]
    },
    {
     "name": "stdout",
     "output_type": "stream",
     "text": [
      "Estimated Time Remaining: 12.17 seconds\n",
      "Fetching: https://www.courtlistener.com/api/rest/v4/search/?court=scotus+ca1+ca2+ca3+ca4+ca5+ca6+ca7+ca8+ca9+ca10+ca11+cadc+cafc+dcd+almd+alnd+alsd+akd+azd+ared+arwd+cacd+caed+cand+casd+cod+ctd+ded+flmd+flnd+flsd+gamd+gand+gasd+hid+idd+ilcd+ilnd+ilsd+innd+insd+iand+iasd+ksd+kyed+kywd+laed+lamd+lawd+med+mdd+mad+mied+miwd+mnd+msnd+mssd+moed+mowd+mtd+ned+nvd+nhd+njd+nmd+nyed+nynd+nysd+nywd+nced+ncmd+ncwd+ndd+ohnd+ohsd+oked+oknd+okwd+ord+paed+pamd+pawd+rid+scd+sdd+tned+tnmd+tnwd+txed+txnd+txsd+txwd+utd+vtd+vaed+vawd+waed+wawd+wvnd+wvsd+wied+wiwd+wyd+gud+nmid+prd+vid&cursor=cz0xMzM4MTQ1OTAwMDAwMC4wJnM9NjgxNjQ0MzYmdD1yJmQ9MjAyNS0wMS0yOA%3D%3D&filed_after=01%2F01%2F2024&filed_before=01%2F01%2F2025&order_by=dateFiled+desc&q=%22Cybersecurity%22+OR+%22Data+Privacy%22+OR+%22Data+Security%22+OR+%22GDPR%22+OR+%22Data+Protection%22+OR+%22Blockchain%22&type=r\n"
     ]
    },
    {
     "name": "stderr",
     "output_type": "stream",
     "text": [
      "Fetching Results: 2660batch [13:30,  3.31batch/s, Fetched=2660]"
     ]
    },
    {
     "name": "stdout",
     "output_type": "stream",
     "text": [
      "Estimated Time Remaining: 12.19 seconds\n",
      "Fetching: https://www.courtlistener.com/api/rest/v4/search/?court=scotus+ca1+ca2+ca3+ca4+ca5+ca6+ca7+ca8+ca9+ca10+ca11+cadc+cafc+dcd+almd+alnd+alsd+akd+azd+ared+arwd+cacd+caed+cand+casd+cod+ctd+ded+flmd+flnd+flsd+gamd+gand+gasd+hid+idd+ilcd+ilnd+ilsd+innd+insd+iand+iasd+ksd+kyed+kywd+laed+lamd+lawd+med+mdd+mad+mied+miwd+mnd+msnd+mssd+moed+mowd+mtd+ned+nvd+nhd+njd+nmd+nyed+nynd+nysd+nywd+nced+ncmd+ncwd+ndd+ohnd+ohsd+oked+oknd+okwd+ord+paed+pamd+pawd+rid+scd+sdd+tned+tnmd+tnwd+txed+txnd+txsd+txwd+utd+vtd+vaed+vawd+waed+wawd+wvnd+wvsd+wied+wiwd+wyd+gud+nmid+prd+vid&cursor=cz0xMzM4MTAyNzAwMDAwMC4wJnM9NjgxNTU3MzkmdD1yJmQ9MjAyNS0wMS0yOA%3D%3D&filed_after=01%2F01%2F2024&filed_before=01%2F01%2F2025&order_by=dateFiled+desc&q=%22Cybersecurity%22+OR+%22Data+Privacy%22+OR+%22Data+Security%22+OR+%22GDPR%22+OR+%22Data+Protection%22+OR+%22Blockchain%22&type=r\n"
     ]
    },
    {
     "name": "stderr",
     "output_type": "stream",
     "text": [
      "Fetching Results: 2680batch [13:38,  2.99batch/s, Fetched=2680]"
     ]
    },
    {
     "name": "stdout",
     "output_type": "stream",
     "text": [
      "Estimated Time Remaining: 12.22 seconds\n",
      "Fetching: https://www.courtlistener.com/api/rest/v4/search/?court=scotus+ca1+ca2+ca3+ca4+ca5+ca6+ca7+ca8+ca9+ca10+ca11+cadc+cafc+dcd+almd+alnd+alsd+akd+azd+ared+arwd+cacd+caed+cand+casd+cod+ctd+ded+flmd+flnd+flsd+gamd+gand+gasd+hid+idd+ilcd+ilnd+ilsd+innd+insd+iand+iasd+ksd+kyed+kywd+laed+lamd+lawd+med+mdd+mad+mied+miwd+mnd+msnd+mssd+moed+mowd+mtd+ned+nvd+nhd+njd+nmd+nyed+nynd+nysd+nywd+nced+ncmd+ncwd+ndd+ohnd+ohsd+oked+oknd+okwd+ord+paed+pamd+pawd+rid+scd+sdd+tned+tnmd+tnwd+txed+txnd+txsd+txwd+utd+vtd+vaed+vawd+waed+wawd+wvnd+wvsd+wied+wiwd+wyd+gud+nmid+prd+vid&cursor=cz0xMzM4MDk0MTAwMDAwMC4wJnM9NjgxNDkxMzgmdD1yJmQ9MjAyNS0wMS0yOA%3D%3D&filed_after=01%2F01%2F2024&filed_before=01%2F01%2F2025&order_by=dateFiled+desc&q=%22Cybersecurity%22+OR+%22Data+Privacy%22+OR+%22Data+Security%22+OR+%22GDPR%22+OR+%22Data+Protection%22+OR+%22Blockchain%22&type=r\n"
     ]
    }
   ],
   "source": [
    "import asyncio\n",
    "import aiohttp\n",
    "import nest_asyncio\n",
    "import pandas as pd\n",
    "import os\n",
    "import re\n",
    "from tqdm.asyncio import tqdm\n",
    "import time\n",
    "\n",
    "# Allow nested asyncio in Jupyter if needed\n",
    "nest_asyncio.apply()\n",
    "\n",
    "# Function to fetch a single page with retries in case of failure\n",
    "async def fetch_page(session, url, headers, retries=3):\n",
    "    attempt = 0\n",
    "    while attempt < retries:\n",
    "        try:\n",
    "            async with session.get(url, headers=headers) as response:\n",
    "                if response.status == 200:\n",
    "                    return await response.json()\n",
    "                else:\n",
    "                    print(f\"Error: Failed to fetch {url}, Status code: {response.status}\")\n",
    "                    return None\n",
    "        except Exception as e:\n",
    "            print(f\"Attempt {attempt + 1} failed for {url}: {e}\")\n",
    "            attempt += 1\n",
    "            if attempt >= retries:\n",
    "                print(f\"Max retries reached for {url}. Skipping...\")\n",
    "                return None\n",
    "            await asyncio.sleep(2)  # Wait before retrying\n",
    "\n",
    "# Function to fetch all pages concurrently with batch processing\n",
    "async def fetch_all_pages_concurrently(api_url, headers, batch_size=20):\n",
    "    all_results = []\n",
    "    next_url = api_url\n",
    "    total_fetched = 0\n",
    "    failed_urls = []  # List to store URLs that failed to fetch\n",
    "    start_time = time.time()\n",
    "\n",
    "    async with aiohttp.ClientSession() as session:\n",
    "        with tqdm(desc=\"Fetching Results\", unit=\"batch\") as pbar:\n",
    "            while next_url:\n",
    "                print(f\"Fetching: {next_url}\")  # Debugging line\n",
    "                data = await fetch_page(session, next_url, headers)\n",
    "                if data and 'results' in data:\n",
    "                    all_results.extend(data['results'])\n",
    "                    next_url = data.get('next')  # Update the cursor\n",
    "                    total_fetched += len(data['results'])\n",
    "                else:\n",
    "                    print(f\"No results or failed request for {next_url}\")\n",
    "                    break\n",
    "\n",
    "                pbar.set_postfix({\"Fetched\": total_fetched})  # Fixed this line to pass a dictionary\n",
    "                pbar.update(len(data.get('results', [])))\n",
    "\n",
    "                # Estimate the time remaining\n",
    "                elapsed_time = time.time() - start_time\n",
    "                estimated_time_remaining = (elapsed_time / total_fetched) * (len(data.get('results', [])) * 2)  # Just a heuristic for estimation\n",
    "                print(f\"Estimated Time Remaining: {estimated_time_remaining:.2f} seconds\")\n",
    "\n",
    "    end_time = time.time()\n",
    "    print(f\"\\nFinished fetching data in {end_time - start_time:.2f} seconds.\")\n",
    "    print(f\"Total records fetched: {total_fetched}\")\n",
    "    return all_results, failed_urls\n",
    "\n",
    "# Function to clean and save the data\n",
    "def process_and_save_data(all_results, save_path):\n",
    "    # Create DataFrame\n",
    "    df = pd.DataFrame(all_results)\n",
    "\n",
    "    # Function to safely extract the first item from a list\n",
    "    def safe_get_first(lst):\n",
    "        return lst[0] if isinstance(lst, list) and len(lst) > 0 else None\n",
    "\n",
    "    # Expand recap_documents if present\n",
    "    if 'recap_documents' in df.columns:\n",
    "        recap_docs = df['recap_documents'].apply(safe_get_first)\n",
    "        recap_df = pd.json_normalize(recap_docs)\n",
    "        recap_df.columns = ['recap_' + col for col in recap_df.columns]\n",
    "        df = pd.concat([df.drop('recap_documents', axis=1), recap_df], axis=1)\n",
    "\n",
    "    # Remove illegal characters\n",
    "    ILLEGAL_CHARACTERS_RE = re.compile(r'[\\000-\\010]|[\\013-\\014]|[\\016-\\037]')\n",
    "    df = df.applymap(lambda x: ILLEGAL_CHARACTERS_RE.sub('', x) if isinstance(x, str) else x)\n",
    "\n",
    "    # Save to Excel or CSV based on availability\n",
    "    try:\n",
    "        df.to_excel(save_path, index=False)\n",
    "        print(f\"\\nData saved successfully to {save_path}\")\n",
    "    except Exception as e:\n",
    "        print(f\"Error saving to Excel: {e}. Saving as CSV instead...\")\n",
    "        save_path_csv = save_path.replace('.xlsx', '.csv')\n",
    "        df.to_csv(save_path_csv, index=False)\n",
    "        print(f\"Data saved successfully to {save_path_csv}\")\n",
    "\n",
    "# Main function to fetch and save data\n",
    "async def main():\n",
    "    api_url = \"https://www.courtlistener.com/api/rest/v4/search/?q=%22Cybersecurity%22%20OR%20%22Data%20Privacy%22%20OR%20%22Data%20Security%22%20OR%20%22GDPR%22%20OR%20%22Data%20Protection%22%20OR%20%22Blockchain%22&type=r&order_by=dateFiled%20desc&filed_after=01%2F01%2F2024&filed_before=01%2F01%2F2025&court=scotus%20ca1%20ca2%20ca3%20ca4%20ca5%20ca6%20ca7%20ca8%20ca9%20ca10%20ca11%20cadc%20cafc%20dcd%20almd%20alnd%20alsd%20akd%20azd%20ared%20arwd%20cacd%20caed%20cand%20casd%20cod%20ctd%20ded%20flmd%20flnd%20flsd%20gamd%20gand%20gasd%20hid%20idd%20ilcd%20ilnd%20ilsd%20innd%20insd%20iand%20iasd%20ksd%20kyed%20kywd%20laed%20lamd%20lawd%20med%20mdd%20mad%20mied%20miwd%20mnd%20msnd%20mssd%20moed%20mowd%20mtd%20ned%20nvd%20nhd%20njd%20nmd%20nyed%20nynd%20nysd%20nywd%20nced%20ncmd%20ncwd%20ndd%20ohnd%20ohsd%20oked%20oknd%20okwd%20ord%20paed%20pamd%20pawd%20rid%20scd%20sdd%20tned%20tnmd%20tnwd%20txed%20txnd%20txsd%20txwd%20utd%20vtd%20vaed%20vawd%20waed%20wawd%20wvnd%20wvsd%20wied%20wiwd%20wyd%20gud%20nmid%20prd%20vid\"\n",
    "    headers = {\"Authorization\": \"Token xyz\"}\n",
    "\n",
    "    # Fetch data using optimized batch fetching\n",
    "    print(\"Fetching data...\")\n",
    "    all_results, failed_urls = await fetch_all_pages_concurrently(api_url, headers, batch_size=20)\n",
    "\n",
    "    # Retry failed URLs if any\n",
    "    if failed_urls:\n",
    "        async with aiohttp.ClientSession() as session:\n",
    "            retry_results = await retry_failed_urls(failed_urls, session, headers)\n",
    "            all_results.extend(retry_results)\n",
    "\n",
    "    # Define save path\n",
    "    desktop_path = os.path.expanduser(r\"C:\\Users\\91909\\Desktop\\AI\")\n",
    "    save_path = os.path.join(desktop_path, \"q55.xlsx\")\n",
    "\n",
    "    # Process and save data\n",
    "    process_and_save_data(all_results, save_path)\n",
    "\n",
    "if __name__ == \"__main__\":\n",
    "    asyncio.run(main())\n",
    "\n"
   ]
  },
  {
   "cell_type": "code",
   "execution_count": null,
   "id": "16e23738-2bcc-4ef3-919d-100c9cecc086",
   "metadata": {},
   "outputs": [],
   "source": [
    "\n",
    "import asyncio\n",
    "import aiohttp\n",
    "import nest_asyncio\n",
    "import pandas as pd\n",
    "import os\n",
    "import re\n",
    "from tqdm.asyncio import tqdm\n",
    "import time\n",
    "\n",
    "# Allow nested asyncio in Jupyter if needed\n",
    "nest_asyncio.apply()\n",
    "\n",
    "# Function to fetch a single page with retries and exponential backoff\n",
    "async def fetch_page(session, url, headers, retries=3, backoff_factor=2):\n",
    "    attempt = 0\n",
    "    while attempt < retries:\n",
    "        try:\n",
    "            async with session.get(url, headers=headers) as response:\n",
    "                if response.status == 200:\n",
    "                    return await response.json()\n",
    "                else:\n",
    "                    print(f\"Error: Failed to fetch {url}, Status code: {response.status}\")\n",
    "                    return None\n",
    "        except Exception as e:\n",
    "            print(f\"Attempt {attempt + 1} failed for {url}: {e}\")\n",
    "            attempt += 1\n",
    "            if attempt >= retries:\n",
    "                print(f\"Max retries reached for {url}. Skipping...\")\n",
    "                return None\n",
    "            # Exponential backoff\n",
    "            wait_time = backoff_factor ** attempt\n",
    "            print(f\"Retrying in {wait_time} seconds...\")\n",
    "            await asyncio.sleep(wait_time)  # Wait before retrying\n",
    "\n",
    "# Function to fetch all pages concurrently with batch processing\n",
    "async def fetch_all_pages_concurrently(api_url, headers, batch_size=20):\n",
    "    all_results = []\n",
    "    next_url = api_url\n",
    "    total_fetched = 0\n",
    "    failed_urls = []  # List to store URLs that failed to fetch\n",
    "    start_time = time.time()\n",
    "\n",
    "    async with aiohttp.ClientSession() as session:\n",
    "        with tqdm(desc=\"Fetching Results\", unit=\"batch\") as pbar:\n",
    "            while next_url:\n",
    "                print(f\"Fetching: {next_url}\")  # Debugging line\n",
    "                data = await fetch_page(session, next_url, headers)\n",
    "                if data and 'results' in data:\n",
    "                    all_results.extend(data['results'])\n",
    "                    next_url = data.get('next')  # Update the cursor\n",
    "                    total_fetched += len(data['results'])\n",
    "                else:\n",
    "                    print(f\"No results or failed request for {next_url}\")\n",
    "                    break\n",
    "\n",
    "                pbar.set_postfix({\"Fetched\": total_fetched})  # Update progress bar\n",
    "                pbar.update(len(data.get('results', [])))\n",
    "\n",
    "                # Estimate the time remaining\n",
    "                elapsed_time = time.time() - start_time\n",
    "                estimated_time_remaining = (elapsed_time / total_fetched) * (len(data.get('results', [])) * 2)  # Heuristic\n",
    "                print(f\"Estimated Time Remaining: {estimated_time_remaining:.2f} seconds\")\n",
    "\n",
    "    end_time = time.time()\n",
    "    print(f\"\\nFinished fetching data in {end_time - start_time:.2f} seconds.\")\n",
    "    print(f\"Total records fetched: {total_fetched}\")\n",
    "    return all_results, failed_urls\n",
    "\n",
    "# Function to retry failed URLs\n",
    "async def retry_failed_urls(failed_urls, session, headers):\n",
    "    retry_results = []\n",
    "    for url in failed_urls:\n",
    "        result = await fetch_page(session, url, headers)\n",
    "        if result:\n",
    "            retry_results.append(result)\n",
    "    return retry_results\n",
    "\n",
    "# Function to clean and save the data\n",
    "def process_and_save_data(all_results, save_path):\n",
    "    # Create DataFrame\n",
    "    df = pd.DataFrame(all_results)\n",
    "\n",
    "    # Function to safely extract the first item from a list\n",
    "    def safe_get_first(lst):\n",
    "        return lst[0] if isinstance(lst, list) and len(lst) > 0 else None\n",
    "\n",
    "    # Expand recap_documents if present\n",
    "    if 'recap_documents' in df.columns:\n",
    "        recap_docs = df['recap_documents'].apply(safe_get_first)\n",
    "        recap_df = pd.json_normalize(recap_docs)\n",
    "        recap_df.columns = ['recap_' + col for col in recap_df.columns]\n",
    "        df = pd.concat([df.drop('recap_documents', axis=1), recap_df], axis=1)\n",
    "\n",
    "    # Remove illegal characters\n",
    "    ILLEGAL_CHARACTERS_RE = re.compile(r'[\\000-\\010]|[\\013-\\014]|[\\016-\\037]')\n",
    "    df = df.applymap(lambda x: ILLEGAL_CHARACTERS_RE.sub('', x) if isinstance(x, str) else x)\n",
    "\n",
    "    # Save to Excel or CSV based on availability\n",
    "    try:\n",
    "        df.to_excel(save_path, index=False)\n",
    "        print(f\"\\nData saved successfully to {save_path}\")\n",
    "    except Exception as e:\n",
    "        print(f\"Error saving to Excel: {e}. Saving as CSV instead...\")\n",
    "        save_path_csv = save_path.replace('.xlsx', '.csv')\n",
    "        df.to_csv(save_path_csv, index=False)\n",
    "        print(f\"Data saved successfully to {save_path_csv}\")\n",
    "\n",
    "# Main function to fetch and save data\n",
    "async def main():\n",
    "    api_url = \"https://www.courtlistener.com/api/rest/v4/search/?q=(%22patent%22%20AND%20(%22artificial%20intelligence%22%20OR%20%22data%22))%20OR%20((%22copyright%22%20AND%20(%22artificial%20intelligence%22%20OR%20%22data%22)))%20OR%20((%22intellectual%20property%22%20AND%20(%22artificial%20intelligence%22%20OR%20%22data%22)))&type=r&order_by=dateFiled%20desc&filed_after=01%2F01%2F2022&court=scotus%20ca1%20ca2%20ca3%20ca4%20ca5%20ca6%20ca7%20ca8%20ca9%20ca10%20ca11%20cadc%20cafc%20dcd%20almd%20alnd%20alsd%20akd%20azd%20ared%20arwd%20cacd%20caed%20cand%20casd%20cod%20ctd%20ded%20flmd%20flnd%20flsd%20gamd%20gand%20gasd%20hid%20idd%20ilcd%20ilnd%20ilsd%20innd%20insd%20iand%20iasd%20ksd%20kyed%20kywd%20laed%20lamd%20lawd%20med%20mdd%20mad%20mied%20miwd%20mnd%20msnd%20mssd%20moed%20mowd%20mtd%20ned%20nvd%20nhd%20njd%20nmd%20nyed%20nynd%20nysd%20nywd%20nced%20ncmd%20ncwd%20ndd%20ohnd%20ohsd%20oked%20oknd%20okwd%20ord%20paed%20pamd%20pawd%20rid%20scd%20sdd%20tned%20tnmd%20tnwd%20txed%20txnd%20txsd%20txwd%20utd%20vtd%20vaed%20vawd%20waed%20wawd%20wvnd%20wvsd%20wied%20wiwd%20wyd%20gud%20nmid%20prd%20vid\"\n",
    "\n",
    "    headers = {\"Authorization\": \"Token xyz}\n",
    "\n",
    "    # Fetch data using optimized batch fetching\n",
    "    print(\"Fetching data...\")\n",
    "    all_results, failed_urls = await fetch_all_pages_concurrently(api_url, headers, batch_size=20)\n",
    "\n",
    "    # Retry failed URLs if any\n",
    "    if failed_urls:\n",
    "        async with aiohttp.ClientSession() as session:\n",
    "            retry_results = await retry_failed_urls(failed_urls, session, headers)\n",
    "            all_results.extend(retry_results)\n",
    "\n",
    "    # Define save path\n",
    "    desktop_path = os.path.expanduser(r\"C:\\Users\\91909\\Desktop\\AI\")\n",
    "    save_path = os.path.join(desktop_path, \"query10.xlsx\")\n",
    "\n",
    "    # Process and save data\n",
    "    process_and_save_data(all_results, save_path)\n",
    "\n",
    "if __name__ == \"__main__\":\n",
    "    asyncio.run(main())\n"
   ]
  },
  {
   "cell_type": "code",
   "execution_count": null,
   "id": "90f84a93-5e96-416f-9317-127f57d10b3b",
   "metadata": {},
   "outputs": [],
   "source": []
  },
  {
   "cell_type": "code",
   "execution_count": null,
   "id": "4531b360-d1df-47e1-8be3-7e3f75f14245",
   "metadata": {},
   "outputs": [],
   "source": []
  },
  {
   "cell_type": "code",
   "execution_count": null,
   "id": "7cedf498-6617-4fbd-ba1c-2427854ebe42",
   "metadata": {},
   "outputs": [],
   "source": []
  },
  {
   "cell_type": "code",
   "execution_count": null,
   "id": "d3010f60-bae6-40e1-8908-c1a102b10118",
   "metadata": {},
   "outputs": [],
   "source": []
  },
  {
   "cell_type": "code",
   "execution_count": null,
   "id": "2df15381-413a-421c-8b25-84a42426947e",
   "metadata": {},
   "outputs": [],
   "source": []
  },
  {
   "cell_type": "code",
   "execution_count": null,
   "id": "8672949d-bbc6-4b26-83ec-2c3d4612df46",
   "metadata": {},
   "outputs": [],
   "source": []
  },
  {
   "cell_type": "code",
   "execution_count": null,
   "id": "730b03f6-d634-4b86-913a-f581c0979e96",
   "metadata": {},
   "outputs": [],
   "source": []
  },
  {
   "cell_type": "code",
   "execution_count": null,
   "id": "116b9feb-8d89-4a6c-9696-0c245e6e8ea0",
   "metadata": {},
   "outputs": [],
   "source": []
  },
  {
   "cell_type": "code",
   "execution_count": null,
   "id": "3426f44b-91f4-485e-9350-5c326a91bbcd",
   "metadata": {},
   "outputs": [],
   "source": []
  },
  {
   "cell_type": "code",
   "execution_count": null,
   "id": "6931dc64-caf8-4e93-9083-b8d4176f3da8",
   "metadata": {},
   "outputs": [],
   "source": []
  },
  {
   "cell_type": "code",
   "execution_count": null,
   "id": "f6d40efc-6cc9-47ac-a811-4713d6e4fc12",
   "metadata": {},
   "outputs": [],
   "source": []
  },
  {
   "cell_type": "code",
   "execution_count": null,
   "id": "9abcd8a6-6ff5-4a4a-ac30-ea80dd947017",
   "metadata": {},
   "outputs": [],
   "source": []
  },
  {
   "cell_type": "code",
   "execution_count": null,
   "id": "705eaa83-4995-40a4-9295-7c99c469be60",
   "metadata": {},
   "outputs": [],
   "source": []
  },
  {
   "cell_type": "code",
   "execution_count": null,
   "id": "29f079dd-0c5f-4b10-9bec-27226e3490ae",
   "metadata": {},
   "outputs": [],
   "source": []
  },
  {
   "cell_type": "code",
   "execution_count": null,
   "id": "2eae79a8-f3d2-422d-bc1c-646b87e162c4",
   "metadata": {},
   "outputs": [],
   "source": []
  },
  {
   "cell_type": "code",
   "execution_count": null,
   "id": "642524cf-4292-49d1-9b5f-68b301a36756",
   "metadata": {},
   "outputs": [],
   "source": []
  },
  {
   "cell_type": "code",
   "execution_count": null,
   "id": "c44241eb-6805-4d5c-94cf-3abf8ac618ad",
   "metadata": {},
   "outputs": [],
   "source": []
  },
  {
   "cell_type": "code",
   "execution_count": null,
   "id": "2cd9d0e7-5662-4d46-9023-9b5adb12f733",
   "metadata": {},
   "outputs": [],
   "source": []
  }
 ],
 "metadata": {
  "kernelspec": {
   "display_name": "Python 3 (ipykernel)",
   "language": "python",
   "name": "python3"
  },
  "language_info": {
   "codemirror_mode": {
    "name": "ipython",
    "version": 3
   },
   "file_extension": ".py",
   "mimetype": "text/x-python",
   "name": "python",
   "nbconvert_exporter": "python",
   "pygments_lexer": "ipython3",
   "version": "3.11.9"
  }
 },
 "nbformat": 4,
 "nbformat_minor": 5
}
